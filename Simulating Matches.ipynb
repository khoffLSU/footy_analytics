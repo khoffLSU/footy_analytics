{
 "cells": [
  {
   "cell_type": "markdown",
   "id": "b30eab8b",
   "metadata": {},
   "source": [
    "# Simulating\n",
    "This can be done many differet ways from statistical models informed based on the team/player performance or simple models which focus on specific attributes or are random simulators.  \n",
    "\n",
    "---\n",
    "To get started, a simple model will be leveraged to simulate a football match. One in which goals occur completely at random during the match."
   ]
  },
  {
   "cell_type": "code",
   "execution_count": 2,
   "id": "4237248f",
   "metadata": {},
   "outputs": [],
   "source": [
    "import numpy as np\n",
    "import numpy.random as rnd\n",
    "import pandas as pd\n",
    "import time\n",
    "import pylab as plt\n",
    "import sketch"
   ]
  },
  {
   "cell_type": "markdown",
   "id": "21dafcbf",
   "metadata": {},
   "source": [
    "### Setting parameters for the simplified model\n",
    "Set up the basic scoring rates for football and other contoling aspects of a game. "
   ]
  },
  {
   "cell_type": "code",
   "execution_count": 3,
   "id": "3c06f8ca",
   "metadata": {},
   "outputs": [
    {
     "name": "stdout",
     "output_type": "stream",
     "text": [
      "The probability of a goal per minute is 0.03100\n",
      "\n"
     ]
    }
   ],
   "source": [
    "# Length of match\n",
    "match_minutes = 90\n",
    "# Average goals per match\n",
    "goals_per_match = 2.79\n",
    "# Probability of a goal per minute\n",
    "prob_per_minute = np.array(goals_per_match/match_minutes)\n",
    "print(f'The probability of a goal per minute is {prob_per_minute:.5f}\\n' )"
   ]
  },
  {
   "cell_type": "markdown",
   "id": "b45c1fb9",
   "metadata": {},
   "source": [
    "### Simulating a single game\n",
    "To simulate a single game, Goals go in with the same probability every minute. Run the simulation below 10 times. How many times were there 3 goals in a match?"
   ]
  },
  {
   "cell_type": "code",
   "execution_count": 4,
   "id": "f2e74351",
   "metadata": {},
   "outputs": [],
   "source": [
    "def sim_match(match_minutes:int=90, show:bool=False, ):\n",
    "    '''Simulate a soccer match without stipulating team details'''\n",
    "    \n",
    "    #Count of the number of goals\n",
    "    goals=0\n",
    "\n",
    "    for minute in range(match_minutes):\n",
    "        r=rnd.rand(1,1) # Generate a random number between 0 and 1.\n",
    "        \n",
    "        # Prints an X when there is a goal and a zero otherwise.\n",
    "        if (r < prob_per_minute): \n",
    "            if show:\n",
    "                print('X', end = ' ') #Goal - if the random number is less than the goal probability.\n",
    "                time.sleep(0.3)  #Longer pause\n",
    "            goals+=1\n",
    "            \n",
    "        else:\n",
    "            if show:\n",
    "                print('o', end = ' ')\n",
    "                time.sleep(0.1)  #Short pause\n",
    "\n",
    "    if show:\n",
    "        print('Final whistle. \\n \\nThere were ' + str(goals) + ' goals.')\n",
    "    return goals"
   ]
  },
  {
   "cell_type": "code",
   "execution_count": 5,
   "id": "cc7ab6b0",
   "metadata": {},
   "outputs": [
    {
     "name": "stdout",
     "output_type": "stream",
     "text": [
      "o o o o o o o o o o o o o o o o o o o o o o o o o o o o o o o o o o o o o o o o o o o o o o o o o o o o o o o o o o o o o o o o o o o o o o o o o o o o o o o o o o o o o o o o o o Final whistle. \n",
      " \n",
      "There were 0 goals.\n"
     ]
    },
    {
     "data": {
      "text/plain": [
       "0"
      ]
     },
     "execution_count": 5,
     "metadata": {},
     "output_type": "execute_result"
    }
   ],
   "source": [
    "sim_match(show=True)"
   ]
  },
  {
   "cell_type": "code",
   "execution_count": 6,
   "id": "726d3149",
   "metadata": {},
   "outputs": [
    {
     "name": "stdout",
     "output_type": "stream",
     "text": [
      "           Goals\n",
      "count  10.000000\n",
      "mean    2.400000\n",
      "std     0.843274\n",
      "min     1.000000\n",
      "25%     2.000000\n",
      "50%     2.000000\n",
      "75%     3.000000\n",
      "max     4.000000\n"
     ]
    },
    {
     "data": {
      "text/plain": [
       "Text(0.5, 1.0, 'Goals per match simulated')"
      ]
     },
     "execution_count": 6,
     "metadata": {},
     "output_type": "execute_result"
    },
    {
     "data": {
      "image/png": "[encoded data removed]",
      "text/plain": [
       "<Figure size 640x480 with 1 Axes>"
      ]
     },
     "metadata": {},
     "output_type": "display_data"
    }
   ],
   "source": [
    "G=pd.DataFrame([sim_match() for i in range(10)], columns=['Goals'])\n",
    "\n",
    "print(G.describe())\n",
    "fig, ax = plt.subplots()\n",
    "G.Goals.plot(style='r:o', ax=ax)\n",
    "ax.grid(True)\n",
    "ax.set_title('Goals per match simulated')"
   ]
  },
  {
   "cell_type": "markdown",
   "id": "ec78b8b7",
   "metadata": {},
   "source": [
    "### Simulating goals over a season\n",
    "Now there is a need to shift to an entire season. This requires 380 games to be played accounting for the Fall and Spring of a professional campaign.  To accomplish this the code for the single match is extended and modified to simulate the games and store the results in an array.\n",
    "\n",
    "1. Define new simulateMatch function \n",
    "2. Loop over 380 matches\n",
    "3. Store the number of goals for each match in an array \n",
    "4. Create a histogram of the number of goals"
   ]
  },
  {
   "cell_type": "code",
   "execution_count": 7,
   "id": "4f83e85e",
   "metadata": {},
   "outputs": [],
   "source": [
    "def simulateMatch(n:int=90, p:float=0.03100):\n",
    "    '''\n",
    "    Simulate a football match\n",
    "    \n",
    "    n - number of time units\n",
    "    p - probability per time unit of a goal\n",
    "    display_match == True then display simulation output for match.\n",
    "\n",
    "    Return array with Count of the number of goals per match across the season'''\n",
    "    \n",
    "    goals = 0\n",
    "    for minute in range(n): \n",
    "        r = rnd.rand(1, 1) # Generate a random number between 0 and 1.\n",
    "        if (r < p):\n",
    "            goals += 1 # Incrament Goal - if the random number is less than the goal probability.\n",
    "            \n",
    "    return goals"
   ]
  },
  {
   "cell_type": "code",
   "execution_count": 8,
   "id": "fca2507d",
   "metadata": {},
   "outputs": [],
   "source": [
    "# Choose a Number of matches\n",
    "num_matches = 380\n",
    "\n",
    "# Loop over all the matches return goals storing the value in initialized numpy array.\n",
    "goals = np.zeros(num_matches)\n",
    "for i in range(num_matches):\n",
    "    goals[i] = simulateMatch(match_minutes, prob_per_minute) # stores value at match index for range"
   ]
  },
  {
   "cell_type": "code",
   "execution_count": 9,
   "id": "febab193",
   "metadata": {},
   "outputs": [
    {
     "data": {
      "image/png": "[encoded data removed]",
      "text/plain": [
       "<Figure size 640x480 with 1 Axes>"
      ]
     },
     "metadata": {},
     "output_type": "display_data"
    }
   ],
   "source": [
    "# Create a histogram\n",
    "\n",
    "fig, ax = plt.subplots(num=1)\n",
    "\n",
    "histogram_range = np.arange(-0.5, 10.51, 1)\n",
    "histogram_goals = np.histogram(goals, histogram_range)\n",
    "\n",
    "p = ax.bar(histogram_goals[1][:-1] + 0.5, histogram_goals[0], color='limegreen', edgecolor='black', linestyle='-', alpha=0.5)\n",
    "ax.set_ylim(0, 100)\n",
    "ax.bar_label(p)\n",
    "ax.spines[['top','right']].set_visible(False)\n",
    "ax.set_xticks(np.arange(0, 11, step=1))\n",
    "ax.set_yticks(np.arange(0, 101, step=20))\n",
    "ax.set_xlabel('Number of goals')\n",
    "ax.set_ylabel('Number of matches')\n",
    "ax.set_title('Frequency of Goals per game')\n",
    "plt.show()"
   ]
  },
  {
   "cell_type": "markdown",
   "id": "3d723749",
   "metadata": {},
   "source": [
    "### Simulating results\n",
    "Use a Poisson regression to fit a model to the Premier League and then we use the estimated values to simulate results between two teams.\n",
    "\n",
    "This code is adapted from this [artical](https://dashee87.github.io/football/python/predicting-football-results-with-statistical-modelling/)"
   ]
  },
  {
   "cell_type": "code",
   "execution_count": 10,
   "id": "1c421e76",
   "metadata": {},
   "outputs": [],
   "source": [
    "# importing the tools required for the Poisson regression model\n",
    "import statsmodels.api as sm\n",
    "import statsmodels.formula.api as smf\n",
    "import matplotlib.pyplot as plt\n",
    "import seaborn\n",
    "from scipy.stats import poisson,skellam"
   ]
  },
  {
   "cell_type": "markdown",
   "id": "9841dcc3",
   "metadata": {},
   "source": [
    "#### Import data\n",
    "Data taken from football-data.co.uk"
   ]
  },
  {
   "cell_type": "code",
   "execution_count": 11,
   "id": "617f4f8c",
   "metadata": {},
   "outputs": [],
   "source": [
    "epl = pd.read_csv(\"https://www.football-data.co.uk/mmz4281/2122/E0.csv\")\n",
    "ep = (epl[['HomeTeam','AwayTeam','FTHG','FTAG']]\n",
    "      .rename(columns={'FTHG': 'HomeGoals', 'FTAG': 'AwayGoals'})\n",
    "     )"
   ]
  },
  {
   "cell_type": "code",
   "execution_count": 12,
   "id": "2d2fd277",
   "metadata": {},
   "outputs": [
    {
     "data": {
      "text/plain": [
       "HomeGoals     1.491892\n",
       "AwayGoals     1.297297\n",
       "HTHG          0.686486\n",
       "HTAG          0.586486\n",
       "HS           13.764865\n",
       "               ...    \n",
       "PCAHA         1.976486\n",
       "MaxCAHH       2.019946\n",
       "MaxCAHA       2.054649\n",
       "AvgCAHH       1.925973\n",
       "AvgCAHA       1.959514\n",
       "Length: 98, dtype: float64"
      ]
     },
     "execution_count": 12,
     "metadata": {},
     "output_type": "execute_result"
    }
   ],
   "source": [
    "epl = (epl\n",
    "       .rename(columns={'FTHG': 'HomeGoals', 'FTAG': 'AwayGoals'})\n",
    "       [:-10]\n",
    "      )\n",
    "       \n",
    "epl.mean(numeric_only=True)"
   ]
  },
  {
   "cell_type": "markdown",
   "id": "daf7ddea",
   "metadata": {},
   "source": [
    "### Perform the regression\n",
    "In the fit, include a parameter for home advantage. Team and opponent are fixed effects."
   ]
  },
  {
   "cell_type": "code",
   "execution_count": 13,
   "id": "13b39ab1",
   "metadata": {},
   "outputs": [],
   "source": [
    "goal_model_data = (pd.concat([epl[['HomeTeam','AwayTeam','HomeGoals']]\n",
    "                              .assign(home=1)\n",
    "                              .rename(columns={'HomeTeam':'team', 'AwayTeam':'opponent','HomeGoals':'goals'}),\n",
    "                             epl[['AwayTeam','HomeTeam','AwayGoals']]\n",
    "                              .assign(home=0)\n",
    "                              .rename(columns={'AwayTeam':'team', 'HomeTeam':'opponent','AwayGoals':'goals'})])\n",
    "                  )"
   ]
  },
  {
   "cell_type": "code",
   "execution_count": 14,
   "id": "dbfd469f",
   "metadata": {},
   "outputs": [
    {
     "data": {
      "text/html": [
       "<div>\n",
       "<style scoped>\n",
       "    .dataframe tbody tr th:only-of-type {\n",
       "        vertical-align: middle;\n",
       "    }\n",
       "\n",
       "    .dataframe tbody tr th {\n",
       "        vertical-align: top;\n",
       "    }\n",
       "\n",
       "    .dataframe thead th {\n",
       "        text-align: right;\n",
       "    }\n",
       "</style>\n",
       "<table border=\"1\" class=\"dataframe\">\n",
       "  <thead>\n",
       "    <tr style=\"text-align: right;\">\n",
       "      <th></th>\n",
       "      <th>team</th>\n",
       "      <th>opponent</th>\n",
       "      <th>goals</th>\n",
       "      <th>home</th>\n",
       "    </tr>\n",
       "  </thead>\n",
       "  <tbody>\n",
       "    <tr>\n",
       "      <th>0</th>\n",
       "      <td>Brentford</td>\n",
       "      <td>Arsenal</td>\n",
       "      <td>2</td>\n",
       "      <td>1</td>\n",
       "    </tr>\n",
       "    <tr>\n",
       "      <th>1</th>\n",
       "      <td>Man United</td>\n",
       "      <td>Leeds</td>\n",
       "      <td>5</td>\n",
       "      <td>1</td>\n",
       "    </tr>\n",
       "    <tr>\n",
       "      <th>2</th>\n",
       "      <td>Burnley</td>\n",
       "      <td>Brighton</td>\n",
       "      <td>1</td>\n",
       "      <td>1</td>\n",
       "    </tr>\n",
       "  </tbody>\n",
       "</table>\n",
       "</div>"
      ],
      "text/plain": [
       "         team  opponent  goals  home\n",
       "0   Brentford   Arsenal      2     1\n",
       "1  Man United     Leeds      5     1\n",
       "2     Burnley  Brighton      1     1"
      ]
     },
     "execution_count": 14,
     "metadata": {},
     "output_type": "execute_result"
    }
   ],
   "source": [
    "goal_model_data.head(3)"
   ]
  },
  {
   "cell_type": "code",
   "execution_count": 15,
   "id": "d58f92b6",
   "metadata": {},
   "outputs": [
    {
     "data": {
      "text/html": [
       "<table class=\"simpletable\">\n",
       "<caption>Generalized Linear Model Regression Results</caption>\n",
       "<tr>\n",
       "  <th>Dep. Variable:</th>         <td>goals</td>      <th>  No. Observations:  </th>  <td>   740</td> \n",
       "</tr>\n",
       "<tr>\n",
       "  <th>Model:</th>                  <td>GLM</td>       <th>  Df Residuals:      </th>  <td>   700</td> \n",
       "</tr>\n",
       "<tr>\n",
       "  <th>Model Family:</th>         <td>Poisson</td>     <th>  Df Model:          </th>  <td>    39</td> \n",
       "</tr>\n",
       "<tr>\n",
       "  <th>Link Function:</th>          <td>Log</td>       <th>  Scale:             </th> <td>  1.0000</td>\n",
       "</tr>\n",
       "<tr>\n",
       "  <th>Method:</th>                <td>IRLS</td>       <th>  Log-Likelihood:    </th> <td> -1043.1</td>\n",
       "</tr>\n",
       "<tr>\n",
       "  <th>Date:</th>            <td>Sun, 01 Oct 2023</td> <th>  Deviance:          </th> <td>  776.72</td>\n",
       "</tr>\n",
       "<tr>\n",
       "  <th>Time:</th>                <td>21:10:59</td>     <th>  Pearson chi2:      </th>  <td>  681.</td> \n",
       "</tr>\n",
       "<tr>\n",
       "  <th>No. Iterations:</th>          <td>5</td>        <th>  Pseudo R-squ. (CS):</th>  <td>0.2498</td> \n",
       "</tr>\n",
       "<tr>\n",
       "  <th>Covariance Type:</th>     <td>nonrobust</td>    <th>                     </th>     <td> </td>   \n",
       "</tr>\n",
       "</table>\n",
       "<table class=\"simpletable\">\n",
       "<tr>\n",
       "               <td></td>                 <th>coef</th>     <th>std err</th>      <th>z</th>      <th>P>|z|</th>  <th>[0.025</th>    <th>0.975]</th>  \n",
       "</tr>\n",
       "<tr>\n",
       "  <th>Intercept</th>                  <td>    0.2470</td> <td>    0.203</td> <td>    1.214</td> <td> 0.225</td> <td>   -0.152</td> <td>    0.646</td>\n",
       "</tr>\n",
       "<tr>\n",
       "  <th>team[T.Aston Villa]</th>        <td>   -0.1298</td> <td>    0.195</td> <td>   -0.666</td> <td> 0.506</td> <td>   -0.512</td> <td>    0.252</td>\n",
       "</tr>\n",
       "<tr>\n",
       "  <th>team[T.Brentford]</th>          <td>   -0.1589</td> <td>    0.198</td> <td>   -0.802</td> <td> 0.423</td> <td>   -0.547</td> <td>    0.230</td>\n",
       "</tr>\n",
       "<tr>\n",
       "  <th>team[T.Brighton]</th>           <td>   -0.3735</td> <td>    0.209</td> <td>   -1.788</td> <td> 0.074</td> <td>   -0.783</td> <td>    0.036</td>\n",
       "</tr>\n",
       "<tr>\n",
       "  <th>team[T.Burnley]</th>            <td>   -0.5263</td> <td>    0.220</td> <td>   -2.395</td> <td> 0.017</td> <td>   -0.957</td> <td>   -0.096</td>\n",
       "</tr>\n",
       "<tr>\n",
       "  <th>team[T.Chelsea]</th>            <td>    0.2714</td> <td>    0.177</td> <td>    1.529</td> <td> 0.126</td> <td>   -0.077</td> <td>    0.619</td>\n",
       "</tr>\n",
       "<tr>\n",
       "  <th>team[T.Crystal Palace]</th>     <td>   -0.1370</td> <td>    0.196</td> <td>   -0.699</td> <td> 0.484</td> <td>   -0.521</td> <td>    0.247</td>\n",
       "</tr>\n",
       "<tr>\n",
       "  <th>team[T.Everton]</th>            <td>   -0.2847</td> <td>    0.204</td> <td>   -1.394</td> <td> 0.163</td> <td>   -0.685</td> <td>    0.116</td>\n",
       "</tr>\n",
       "<tr>\n",
       "  <th>team[T.Leeds]</th>              <td>   -0.3127</td> <td>    0.207</td> <td>   -1.507</td> <td> 0.132</td> <td>   -0.719</td> <td>    0.094</td>\n",
       "</tr>\n",
       "<tr>\n",
       "  <th>team[T.Leicester]</th>          <td>    0.0481</td> <td>    0.188</td> <td>    0.256</td> <td> 0.798</td> <td>   -0.320</td> <td>    0.416</td>\n",
       "</tr>\n",
       "<tr>\n",
       "  <th>team[T.Liverpool]</th>          <td>    0.4522</td> <td>    0.170</td> <td>    2.657</td> <td> 0.008</td> <td>    0.119</td> <td>    0.786</td>\n",
       "</tr>\n",
       "<tr>\n",
       "  <th>team[T.Man City]</th>           <td>    0.5115</td> <td>    0.168</td> <td>    3.036</td> <td> 0.002</td> <td>    0.181</td> <td>    0.842</td>\n",
       "</tr>\n",
       "<tr>\n",
       "  <th>team[T.Man United]</th>         <td>    0.0156</td> <td>    0.189</td> <td>    0.083</td> <td> 0.934</td> <td>   -0.354</td> <td>    0.385</td>\n",
       "</tr>\n",
       "<tr>\n",
       "  <th>team[T.Newcastle]</th>          <td>   -0.2841</td> <td>    0.204</td> <td>   -1.389</td> <td> 0.165</td> <td>   -0.685</td> <td>    0.117</td>\n",
       "</tr>\n",
       "<tr>\n",
       "  <th>team[T.Norwich]</th>            <td>   -0.8697</td> <td>    0.248</td> <td>   -3.507</td> <td> 0.000</td> <td>   -1.356</td> <td>   -0.384</td>\n",
       "</tr>\n",
       "<tr>\n",
       "  <th>team[T.Southampton]</th>        <td>   -0.2770</td> <td>    0.205</td> <td>   -1.354</td> <td> 0.176</td> <td>   -0.678</td> <td>    0.124</td>\n",
       "</tr>\n",
       "<tr>\n",
       "  <th>team[T.Tottenham]</th>          <td>    0.1294</td> <td>    0.183</td> <td>    0.706</td> <td> 0.480</td> <td>   -0.230</td> <td>    0.489</td>\n",
       "</tr>\n",
       "<tr>\n",
       "  <th>team[T.Watford]</th>            <td>   -0.5181</td> <td>    0.220</td> <td>   -2.357</td> <td> 0.018</td> <td>   -0.949</td> <td>   -0.087</td>\n",
       "</tr>\n",
       "<tr>\n",
       "  <th>team[T.West Ham]</th>           <td>    0.0398</td> <td>    0.187</td> <td>    0.213</td> <td> 0.831</td> <td>   -0.327</td> <td>    0.406</td>\n",
       "</tr>\n",
       "<tr>\n",
       "  <th>team[T.Wolves]</th>             <td>   -0.4429</td> <td>    0.212</td> <td>   -2.088</td> <td> 0.037</td> <td>   -0.859</td> <td>   -0.027</td>\n",
       "</tr>\n",
       "<tr>\n",
       "  <th>opponent[T.Aston Villa]</th>    <td>    0.1071</td> <td>    0.203</td> <td>    0.529</td> <td> 0.597</td> <td>   -0.290</td> <td>    0.504</td>\n",
       "</tr>\n",
       "<tr>\n",
       "  <th>opponent[T.Brentford]</th>      <td>    0.1297</td> <td>    0.200</td> <td>    0.649</td> <td> 0.516</td> <td>   -0.262</td> <td>    0.521</td>\n",
       "</tr>\n",
       "<tr>\n",
       "  <th>opponent[T.Brighton]</th>       <td>   -0.0994</td> <td>    0.211</td> <td>   -0.470</td> <td> 0.638</td> <td>   -0.514</td> <td>    0.315</td>\n",
       "</tr>\n",
       "<tr>\n",
       "  <th>opponent[T.Burnley]</th>        <td>    0.0579</td> <td>    0.202</td> <td>    0.286</td> <td> 0.775</td> <td>   -0.339</td> <td>    0.455</td>\n",
       "</tr>\n",
       "<tr>\n",
       "  <th>opponent[T.Chelsea]</th>        <td>   -0.3702</td> <td>    0.230</td> <td>   -1.613</td> <td> 0.107</td> <td>   -0.820</td> <td>    0.080</td>\n",
       "</tr>\n",
       "<tr>\n",
       "  <th>opponent[T.Crystal Palace]</th> <td>   -0.0219</td> <td>    0.208</td> <td>   -0.105</td> <td> 0.916</td> <td>   -0.429</td> <td>    0.385</td>\n",
       "</tr>\n",
       "<tr>\n",
       "  <th>opponent[T.Everton]</th>        <td>    0.2573</td> <td>    0.194</td> <td>    1.325</td> <td> 0.185</td> <td>   -0.123</td> <td>    0.638</td>\n",
       "</tr>\n",
       "<tr>\n",
       "  <th>opponent[T.Leeds]</th>          <td>    0.4973</td> <td>    0.185</td> <td>    2.688</td> <td> 0.007</td> <td>    0.135</td> <td>    0.860</td>\n",
       "</tr>\n",
       "<tr>\n",
       "  <th>opponent[T.Leicester]</th>      <td>    0.2134</td> <td>    0.197</td> <td>    1.085</td> <td> 0.278</td> <td>   -0.172</td> <td>    0.599</td>\n",
       "</tr>\n",
       "<tr>\n",
       "  <th>opponent[T.Liverpool]</th>      <td>   -0.6001</td> <td>    0.248</td> <td>   -2.421</td> <td> 0.015</td> <td>   -1.086</td> <td>   -0.114</td>\n",
       "</tr>\n",
       "<tr>\n",
       "  <th>opponent[T.Man City]</th>       <td>   -0.6284</td> <td>    0.251</td> <td>   -2.501</td> <td> 0.012</td> <td>   -1.121</td> <td>   -0.136</td>\n",
       "</tr>\n",
       "<tr>\n",
       "  <th>opponent[T.Man United]</th>     <td>    0.1833</td> <td>    0.198</td> <td>    0.925</td> <td> 0.355</td> <td>   -0.205</td> <td>    0.572</td>\n",
       "</tr>\n",
       "<tr>\n",
       "  <th>opponent[T.Newcastle]</th>      <td>    0.2445</td> <td>    0.194</td> <td>    1.258</td> <td> 0.209</td> <td>   -0.137</td> <td>    0.626</td>\n",
       "</tr>\n",
       "<tr>\n",
       "  <th>opponent[T.Norwich]</th>        <td>    0.4959</td> <td>    0.185</td> <td>    2.687</td> <td> 0.007</td> <td>    0.134</td> <td>    0.858</td>\n",
       "</tr>\n",
       "<tr>\n",
       "  <th>opponent[T.Southampton]</th>    <td>    0.2915</td> <td>    0.193</td> <td>    1.509</td> <td> 0.131</td> <td>   -0.087</td> <td>    0.670</td>\n",
       "</tr>\n",
       "<tr>\n",
       "  <th>opponent[T.Tottenham]</th>      <td>   -0.1604</td> <td>    0.215</td> <td>   -0.744</td> <td> 0.457</td> <td>   -0.583</td> <td>    0.262</td>\n",
       "</tr>\n",
       "<tr>\n",
       "  <th>opponent[T.Watford]</th>        <td>    0.4646</td> <td>    0.186</td> <td>    2.492</td> <td> 0.013</td> <td>    0.099</td> <td>    0.830</td>\n",
       "</tr>\n",
       "<tr>\n",
       "  <th>opponent[T.West Ham]</th>       <td>    0.0248</td> <td>    0.206</td> <td>    0.120</td> <td> 0.904</td> <td>   -0.378</td> <td>    0.428</td>\n",
       "</tr>\n",
       "<tr>\n",
       "  <th>opponent[T.Wolves]</th>         <td>   -0.1530</td> <td>    0.215</td> <td>   -0.710</td> <td> 0.477</td> <td>   -0.575</td> <td>    0.269</td>\n",
       "</tr>\n",
       "<tr>\n",
       "  <th>home</th>                       <td>    0.1502</td> <td>    0.062</td> <td>    2.405</td> <td> 0.016</td> <td>    0.028</td> <td>    0.273</td>\n",
       "</tr>\n",
       "</table>"
      ],
      "text/plain": [
       "<class 'statsmodels.iolib.summary.Summary'>\n",
       "\"\"\"\n",
       "                 Generalized Linear Model Regression Results                  \n",
       "==============================================================================\n",
       "Dep. Variable:                  goals   No. Observations:                  740\n",
       "Model:                            GLM   Df Residuals:                      700\n",
       "Model Family:                 Poisson   Df Model:                           39\n",
       "Link Function:                    Log   Scale:                          1.0000\n",
       "Method:                          IRLS   Log-Likelihood:                -1043.1\n",
       "Date:                Sun, 01 Oct 2023   Deviance:                       776.72\n",
       "Time:                        21:10:59   Pearson chi2:                     681.\n",
       "No. Iterations:                     5   Pseudo R-squ. (CS):             0.2498\n",
       "Covariance Type:            nonrobust                                         \n",
       "==============================================================================================\n",
       "                                 coef    std err          z      P>|z|      [0.025      0.975]\n",
       "----------------------------------------------------------------------------------------------\n",
       "Intercept                      0.2470      0.203      1.214      0.225      -0.152       0.646\n",
       "team[T.Aston Villa]           -0.1298      0.195     -0.666      0.506      -0.512       0.252\n",
       "team[T.Brentford]             -0.1589      0.198     -0.802      0.423      -0.547       0.230\n",
       "team[T.Brighton]              -0.3735      0.209     -1.788      0.074      -0.783       0.036\n",
       "team[T.Burnley]               -0.5263      0.220     -2.395      0.017      -0.957      -0.096\n",
       "team[T.Chelsea]                0.2714      0.177      1.529      0.126      -0.077       0.619\n",
       "team[T.Crystal Palace]        -0.1370      0.196     -0.699      0.484      -0.521       0.247\n",
       "team[T.Everton]               -0.2847      0.204     -1.394      0.163      -0.685       0.116\n",
       "team[T.Leeds]                 -0.3127      0.207     -1.507      0.132      -0.719       0.094\n",
       "team[T.Leicester]              0.0481      0.188      0.256      0.798      -0.320       0.416\n",
       "team[T.Liverpool]              0.4522      0.170      2.657      0.008       0.119       0.786\n",
       "team[T.Man City]               0.5115      0.168      3.036      0.002       0.181       0.842\n",
       "team[T.Man United]             0.0156      0.189      0.083      0.934      -0.354       0.385\n",
       "team[T.Newcastle]             -0.2841      0.204     -1.389      0.165      -0.685       0.117\n",
       "team[T.Norwich]               -0.8697      0.248     -3.507      0.000      -1.356      -0.384\n",
       "team[T.Southampton]           -0.2770      0.205     -1.354      0.176      -0.678       0.124\n",
       "team[T.Tottenham]              0.1294      0.183      0.706      0.480      -0.230       0.489\n",
       "team[T.Watford]               -0.5181      0.220     -2.357      0.018      -0.949      -0.087\n",
       "team[T.West Ham]               0.0398      0.187      0.213      0.831      -0.327       0.406\n",
       "team[T.Wolves]                -0.4429      0.212     -2.088      0.037      -0.859      -0.027\n",
       "opponent[T.Aston Villa]        0.1071      0.203      0.529      0.597      -0.290       0.504\n",
       "opponent[T.Brentford]          0.1297      0.200      0.649      0.516      -0.262       0.521\n",
       "opponent[T.Brighton]          -0.0994      0.211     -0.470      0.638      -0.514       0.315\n",
       "opponent[T.Burnley]            0.0579      0.202      0.286      0.775      -0.339       0.455\n",
       "opponent[T.Chelsea]           -0.3702      0.230     -1.613      0.107      -0.820       0.080\n",
       "opponent[T.Crystal Palace]    -0.0219      0.208     -0.105      0.916      -0.429       0.385\n",
       "opponent[T.Everton]            0.2573      0.194      1.325      0.185      -0.123       0.638\n",
       "opponent[T.Leeds]              0.4973      0.185      2.688      0.007       0.135       0.860\n",
       "opponent[T.Leicester]          0.2134      0.197      1.085      0.278      -0.172       0.599\n",
       "opponent[T.Liverpool]         -0.6001      0.248     -2.421      0.015      -1.086      -0.114\n",
       "opponent[T.Man City]          -0.6284      0.251     -2.501      0.012      -1.121      -0.136\n",
       "opponent[T.Man United]         0.1833      0.198      0.925      0.355      -0.205       0.572\n",
       "opponent[T.Newcastle]          0.2445      0.194      1.258      0.209      -0.137       0.626\n",
       "opponent[T.Norwich]            0.4959      0.185      2.687      0.007       0.134       0.858\n",
       "opponent[T.Southampton]        0.2915      0.193      1.509      0.131      -0.087       0.670\n",
       "opponent[T.Tottenham]         -0.1604      0.215     -0.744      0.457      -0.583       0.262\n",
       "opponent[T.Watford]            0.4646      0.186      2.492      0.013       0.099       0.830\n",
       "opponent[T.West Ham]           0.0248      0.206      0.120      0.904      -0.378       0.428\n",
       "opponent[T.Wolves]            -0.1530      0.215     -0.710      0.477      -0.575       0.269\n",
       "home                           0.1502      0.062      2.405      0.016       0.028       0.273\n",
       "==============================================================================================\n",
       "\"\"\""
      ]
     },
     "execution_count": 15,
     "metadata": {},
     "output_type": "execute_result"
    }
   ],
   "source": [
    "poisson_model = smf.glm(formula=\"goals ~ home + team + opponent\", data=goal_model_data,\n",
    "                        family=sm.families.Poisson()).fit()\n",
    "poisson_model.summary()"
   ]
  },
  {
   "cell_type": "markdown",
   "id": "1130aae9",
   "metadata": {},
   "source": [
    "### Simulating a game\n",
    "Simulate a match between Manchester City and Arsenal.  This will leverage the poission model to simulate a score rate for each team, and the outcome of a match between the two.  This will be followed by a simulation of the probability of all likely score lines between the two teams."
   ]
  },
  {
   "cell_type": "code",
   "execution_count": 16,
   "id": "b61e8d22",
   "metadata": {},
   "outputs": [],
   "source": [
    "# Set teams\n",
    "home_team='Tottenham'\n",
    "away_team='Arsenal'"
   ]
  },
  {
   "cell_type": "code",
   "execution_count": 17,
   "id": "ed2f3c73",
   "metadata": {},
   "outputs": [
    {
     "name": "stdout",
     "output_type": "stream",
     "text": [
      "Tottenham against Arsenal expect to score: 1    1.693137\n",
      "dtype: float64\n",
      "Arsenal against Tottenham expect to score: 1    1.090481\n",
      "dtype: float64\n"
     ]
    }
   ],
   "source": [
    "# Predict for Arsenal vs. Tottenham home and away series\n",
    "home_score_rate=poisson_model.predict(pd.DataFrame(data={'team': home_team, 'opponent': away_team,\n",
    "                                       'home':1},index=[1]))\n",
    "away_score_rate=poisson_model.predict(pd.DataFrame(data={'team': away_team, 'opponent': home_team,\n",
    "                                       'home':0},index=[1]))\n",
    "print(f'{home_team} against {away_team} expect to score: ' + str(home_score_rate))\n",
    "print(f'{away_team} against {home_team} expect to score: ' + str(away_score_rate))"
   ]
  },
  {
   "cell_type": "code",
   "execution_count": 18,
   "id": "7a842d37",
   "metadata": {},
   "outputs": [
    {
     "name": "stdout",
     "output_type": "stream",
     "text": [
      "Tottenham: 3\n",
      "Arsenal: 3\n"
     ]
    }
   ],
   "source": [
    "# Simulate a direct result\n",
    "home_goals=np.random.poisson(home_score_rate)\n",
    "away_goals=np.random.poisson(away_score_rate)\n",
    "print(home_team + ': ' + str(home_goals[0]))\n",
    "print(away_team + ': '  + str(away_goals[0]))"
   ]
  },
  {
   "cell_type": "markdown",
   "id": "370a2055",
   "metadata": {},
   "source": [
    ">**NOTE**: Sometimes big match ups do not result in goals"
   ]
  },
  {
   "cell_type": "markdown",
   "id": "45275c58",
   "metadata": {},
   "source": [
    "### Two-dimensional histogram of scores\n",
    "This provides the probability of multiple score lines between the two teams in question, home and away.  The simulation is run with a max goal limit set to a default of 10 which limits outcomes, but this will be defined at the time of simulation.  "
   ]
  },
  {
   "cell_type": "code",
   "execution_count": 19,
   "id": "a99afc8a",
   "metadata": {},
   "outputs": [],
   "source": [
    "# Function to caluclate the goals for the match.\n",
    "def simulate_match(foot_model, homeTeam, awayTeam, max_goals=10):\n",
    "    '''Function which determines average goals for the home and away teams, and then uses the average\n",
    "    to simulate the outcome of a game\n",
    "    foot_model = predictive model developed ahead of simulation\n",
    "    homeTeam/awayTeam = string entry for team names\n",
    "    max_goals = integer goal limit for simulation'''\n",
    "    home_goals_avg = foot_model.predict(pd.DataFrame(data={'team': homeTeam,'opponent': awayTeam, 'home': 1},\n",
    "                                                     index=[1])).values[0]\n",
    "    away_goals_avg = foot_model.predict(pd.DataFrame(data={'team': awayTeam,'opponent': homeTeam, 'home': 0},\n",
    "                                                     index=[1])).values[0]\n",
    "    team_pred = [[poisson.pmf(i, team_avg) for i in range(0, max_goals + 1)] for team_avg in\n",
    "                 [home_goals_avg, away_goals_avg]]\n",
    "    return (np.outer(np.array(team_pred[0]), np.array(team_pred[1])))"
   ]
  },
  {
   "cell_type": "code",
   "execution_count": 20,
   "id": "7f3f1050",
   "metadata": {},
   "outputs": [],
   "source": [
    "#Fill in the matrix\n",
    "max_goals=5\n",
    "score_matrix=simulate_match(poisson_model, home_team, away_team,max_goals)"
   ]
  },
  {
   "cell_type": "code",
   "execution_count": 21,
   "id": "8dca006a",
   "metadata": {},
   "outputs": [
    {
     "data": {
      "image/png": "[encoded data removed]",
      "text/plain": [
       "<Figure size 640x480 with 2 Axes>"
      ]
     },
     "metadata": {},
     "output_type": "display_data"
    }
   ],
   "source": [
    "fig=plt.figure()\n",
    "ax=fig.add_subplot(1,1,1)\n",
    "pos=ax.imshow(score_matrix, extent=[-0.5,max_goals+0.5,-0.5,max_goals+0.5], aspect='auto',cmap=plt.cm.Reds)\n",
    "fig.colorbar(pos, ax=ax)\n",
    "ax.set_title('Probability of outcome')\n",
    "plt.xlim((-0.5,5.5))\n",
    "plt.ylim((-0.5,5.5))\n",
    "plt.tight_layout()\n",
    "ax.set_xlabel('Goals scored by ' + away_team)\n",
    "ax.set_ylabel('Goals scored by ' + home_team)\n",
    "plt.show()\n",
    "\n",
    "# Home, draw, away probabilities\n",
    "homewin=np.sum(np.tril(score_matrix, -1))\n",
    "draw=np.sum(np.diag(score_matrix))\n",
    "awaywin=np.sum(np.triu(score_matrix, 1))"
   ]
  },
  {
   "cell_type": "markdown",
   "id": "14000191",
   "metadata": {},
   "source": [
    "### Statistical modelling\n",
    "In this section a variety of methods is considered for evaluating the degree to which passing/possession lead to goals being scroed, and how to identify the strongest areas on the pitch for a team.  These are two very specific methodologies being considered; Ball movement vs positioning.  Each has its place to improve the team's chances for success."
   ]
  },
  {
   "cell_type": "code",
   "execution_count": 22,
   "id": "c7787d98",
   "metadata": {},
   "outputs": [],
   "source": [
    "#importing necessary libraries\n",
    "from mplsoccer import Sbopen, Pitch\n",
    "import statsmodels.api as sm\n",
    "import statsmodels.formula.api as smf\n",
    "from matplotlib import colors\n",
    "\n",
    "#open data from WWC 2019\n",
    "parser = Sbopen()\n",
    "df_match = parser.match(competition_id=72, season_id=30)"
   ]
  },
  {
   "cell_type": "code",
   "execution_count": 23,
   "id": "815a41bb",
   "metadata": {},
   "outputs": [
    {
     "data": {
      "text/html": [
       "<div>\n",
       "<style scoped>\n",
       "    .dataframe tbody tr th:only-of-type {\n",
       "        vertical-align: middle;\n",
       "    }\n",
       "\n",
       "    .dataframe tbody tr th {\n",
       "        vertical-align: top;\n",
       "    }\n",
       "\n",
       "    .dataframe thead th {\n",
       "        text-align: right;\n",
       "    }\n",
       "</style>\n",
       "<table border=\"1\" class=\"dataframe\">\n",
       "  <thead>\n",
       "    <tr style=\"text-align: right;\">\n",
       "      <th></th>\n",
       "      <th>match_id</th>\n",
       "      <th>match_date</th>\n",
       "      <th>kick_off</th>\n",
       "      <th>home_score</th>\n",
       "      <th>away_score</th>\n",
       "      <th>match_status</th>\n",
       "      <th>match_status_360</th>\n",
       "      <th>last_updated</th>\n",
       "      <th>last_updated_360</th>\n",
       "      <th>match_week</th>\n",
       "      <th>...</th>\n",
       "      <th>competition_stage_id</th>\n",
       "      <th>competition_stage_name</th>\n",
       "      <th>stadium_id</th>\n",
       "      <th>stadium_name</th>\n",
       "      <th>stadium_country_id</th>\n",
       "      <th>stadium_country_name</th>\n",
       "      <th>referee_id</th>\n",
       "      <th>referee_name</th>\n",
       "      <th>referee_country_id</th>\n",
       "      <th>referee_country_name</th>\n",
       "    </tr>\n",
       "  </thead>\n",
       "  <tbody>\n",
       "    <tr>\n",
       "      <th>0</th>\n",
       "      <td>22949</td>\n",
       "      <td>2019-06-12</td>\n",
       "      <td>2019-06-12 18:00:00</td>\n",
       "      <td>1</td>\n",
       "      <td>0</td>\n",
       "      <td>available</td>\n",
       "      <td>scheduled</td>\n",
       "      <td>2023-07-24 21:46:41.279089</td>\n",
       "      <td>2021-06-13 16:17:31.694</td>\n",
       "      <td>2</td>\n",
       "      <td>...</td>\n",
       "      <td>1</td>\n",
       "      <td>Regular Season</td>\n",
       "      <td>231</td>\n",
       "      <td>Stade du Hainaut</td>\n",
       "      <td>78</td>\n",
       "      <td>France</td>\n",
       "      <td>374.0</td>\n",
       "      <td>Kateryna Monzul</td>\n",
       "      <td>238.0</td>\n",
       "      <td>Ukraine</td>\n",
       "    </tr>\n",
       "    <tr>\n",
       "      <th>1</th>\n",
       "      <td>22943</td>\n",
       "      <td>2019-06-11</td>\n",
       "      <td>2019-06-11 21:00:00</td>\n",
       "      <td>13</td>\n",
       "      <td>0</td>\n",
       "      <td>available</td>\n",
       "      <td>scheduled</td>\n",
       "      <td>2023-07-24 21:45:44.511885</td>\n",
       "      <td>2021-06-13 16:17:31.694</td>\n",
       "      <td>1</td>\n",
       "      <td>...</td>\n",
       "      <td>1</td>\n",
       "      <td>Regular Season</td>\n",
       "      <td>232</td>\n",
       "      <td>Stade Auguste-Delaune II</td>\n",
       "      <td>78</td>\n",
       "      <td>France</td>\n",
       "      <td>NaN</td>\n",
       "      <td>NaN</td>\n",
       "      <td>NaN</td>\n",
       "      <td>NaN</td>\n",
       "    </tr>\n",
       "    <tr>\n",
       "      <th>2</th>\n",
       "      <td>22944</td>\n",
       "      <td>2019-06-11</td>\n",
       "      <td>2019-06-11 18:00:00</td>\n",
       "      <td>0</td>\n",
       "      <td>2</td>\n",
       "      <td>available</td>\n",
       "      <td>scheduled</td>\n",
       "      <td>2023-07-25 05:54:25.449812</td>\n",
       "      <td>2021-06-13 16:17:31.694</td>\n",
       "      <td>1</td>\n",
       "      <td>...</td>\n",
       "      <td>1</td>\n",
       "      <td>Regular Season</td>\n",
       "      <td>166</td>\n",
       "      <td>Roazhon Park</td>\n",
       "      <td>78</td>\n",
       "      <td>France</td>\n",
       "      <td>1638.0</td>\n",
       "      <td>Lucila Venegas Montes</td>\n",
       "      <td>147.0</td>\n",
       "      <td>Mexico</td>\n",
       "    </tr>\n",
       "  </tbody>\n",
       "</table>\n",
       "<p>3 rows × 52 columns</p>\n",
       "</div>"
      ],
      "text/plain": [
       "   match_id match_date            kick_off  home_score  away_score   \n",
       "0     22949 2019-06-12 2019-06-12 18:00:00           1           0  \\\n",
       "1     22943 2019-06-11 2019-06-11 21:00:00          13           0   \n",
       "2     22944 2019-06-11 2019-06-11 18:00:00           0           2   \n",
       "\n",
       "  match_status match_status_360               last_updated   \n",
       "0    available        scheduled 2023-07-24 21:46:41.279089  \\\n",
       "1    available        scheduled 2023-07-24 21:45:44.511885   \n",
       "2    available        scheduled 2023-07-25 05:54:25.449812   \n",
       "\n",
       "         last_updated_360  match_week  ...  competition_stage_id   \n",
       "0 2021-06-13 16:17:31.694           2  ...                     1  \\\n",
       "1 2021-06-13 16:17:31.694           1  ...                     1   \n",
       "2 2021-06-13 16:17:31.694           1  ...                     1   \n",
       "\n",
       "  competition_stage_name stadium_id               stadium_name   \n",
       "0         Regular Season        231           Stade du Hainaut  \\\n",
       "1         Regular Season        232  Stade Auguste-Delaune II    \n",
       "2         Regular Season        166               Roazhon Park   \n",
       "\n",
       "  stadium_country_id  stadium_country_name referee_id           referee_name   \n",
       "0                 78                France      374.0        Kateryna Monzul  \\\n",
       "1                 78                France        NaN                    NaN   \n",
       "2                 78                France     1638.0  Lucila Venegas Montes   \n",
       "\n",
       "  referee_country_id  referee_country_name  \n",
       "0              238.0               Ukraine  \n",
       "1                NaN                   NaN  \n",
       "2              147.0                Mexico  \n",
       "\n",
       "[3 rows x 52 columns]"
      ]
     },
     "execution_count": 23,
     "metadata": {},
     "output_type": "execute_result"
    }
   ],
   "source": [
    "df_match.head(3)"
   ]
  },
  {
   "cell_type": "code",
   "execution_count": 24,
   "id": "819b3795",
   "metadata": {},
   "outputs": [
    {
     "name": "stdout",
     "output_type": "stream",
     "text": [
      "<class 'pandas.core.frame.DataFrame'>\n",
      "RangeIndex: 52 entries, 0 to 51\n",
      "Data columns (total 52 columns):\n",
      " #   Column                           Non-Null Count  Dtype         \n",
      "---  ------                           --------------  -----         \n",
      " 0   match_id                         52 non-null     int64         \n",
      " 1   match_date                       52 non-null     datetime64[ns]\n",
      " 2   kick_off                         52 non-null     datetime64[ns]\n",
      " 3   home_score                       52 non-null     int64         \n",
      " 4   away_score                       52 non-null     int64         \n",
      " 5   match_status                     52 non-null     object        \n",
      " 6   match_status_360                 52 non-null     object        \n",
      " 7   last_updated                     52 non-null     datetime64[ns]\n",
      " 8   last_updated_360                 52 non-null     datetime64[ns]\n",
      " 9   match_week                       52 non-null     int64         \n",
      " 10  competition_id                   52 non-null     int64         \n",
      " 11  country_name                     52 non-null     object        \n",
      " 12  competition_name                 52 non-null     object        \n",
      " 13  season_id                        52 non-null     int64         \n",
      " 14  season_name                      52 non-null     object        \n",
      " 15  home_team_id                     52 non-null     int64         \n",
      " 16  home_team_name                   52 non-null     object        \n",
      " 17  home_team_gender                 52 non-null     object        \n",
      " 18  home_team_group                  48 non-null     object        \n",
      " 19  home_team_country_id             52 non-null     int64         \n",
      " 20  home_team_country_name           52 non-null     object        \n",
      " 21  home_team_managers_id            52 non-null     int64         \n",
      " 22  home_team_managers_name          52 non-null     object        \n",
      " 23  home_team_managers_nickname      52 non-null     object        \n",
      " 24  home_team_managers_dob           52 non-null     datetime64[ns]\n",
      " 25  home_team_managers_country_id    52 non-null     int64         \n",
      " 26  home_team_managers_country_name  52 non-null     object        \n",
      " 27  away_team_id                     52 non-null     int64         \n",
      " 28  away_team_name                   52 non-null     object        \n",
      " 29  away_team_gender                 52 non-null     object        \n",
      " 30  away_team_group                  48 non-null     object        \n",
      " 31  away_team_country_id             52 non-null     int64         \n",
      " 32  away_team_country_name           52 non-null     object        \n",
      " 33  away_team_managers_id            52 non-null     int64         \n",
      " 34  away_team_managers_name          52 non-null     object        \n",
      " 35  away_team_managers_nickname      52 non-null     object        \n",
      " 36  away_team_managers_dob           52 non-null     datetime64[ns]\n",
      " 37  away_team_managers_country_id    52 non-null     int64         \n",
      " 38  away_team_managers_country_name  52 non-null     object        \n",
      " 39  metadata_data_version            52 non-null     object        \n",
      " 40  metadata_shot_fidelity_version   52 non-null     object        \n",
      " 41  metadata_xy_fidelity_version     52 non-null     object        \n",
      " 42  competition_stage_id             52 non-null     int64         \n",
      " 43  competition_stage_name           52 non-null     object        \n",
      " 44  stadium_id                       52 non-null     int64         \n",
      " 45  stadium_name                     52 non-null     object        \n",
      " 46  stadium_country_id               52 non-null     int64         \n",
      " 47  stadium_country_name             52 non-null     object        \n",
      " 48  referee_id                       36 non-null     float64       \n",
      " 49  referee_name                     36 non-null     object        \n",
      " 50  referee_country_id               36 non-null     float64       \n",
      " 51  referee_country_name             36 non-null     object        \n",
      "dtypes: datetime64[ns](6), float64(2), int64(17), object(27)\n",
      "memory usage: 21.2+ KB\n"
     ]
    }
   ],
   "source": [
    "df_match.info()"
   ]
  },
  {
   "cell_type": "markdown",
   "id": "ddca33cf",
   "metadata": {},
   "source": [
    "### Data Prep\n",
    "Two different dataframes are required for the analysis. \n",
    "- **passshot_df:** This dataframe will keep information about team performance in every game they played - index of a game, name of a team, number of shots, number of goals and number of danger passes by this team (see Danger passes). \n",
    "- **danger_passes_df:** Dataframe of all danger passes during the tournament. "
   ]
  },
  {
   "cell_type": "code",
   "execution_count": 25,
   "id": "8f2cfee4",
   "metadata": {},
   "outputs": [],
   "source": [
    "# get team names\n",
    "teams = df_match[\"home_team_name\"].unique()\n",
    "\n",
    "# get indicies of all games\n",
    "match_ids = df_match[\"match_id\"]"
   ]
  },
  {
   "cell_type": "code",
   "execution_count": 26,
   "id": "7d7b0828",
   "metadata": {},
   "outputs": [],
   "source": [
    "# Initialize empty dataframes\n",
    "# passshot_df = pd.DataFrame()\n",
    "# danger_passes_df = pd.DataFrame()"
   ]
  },
  {
   "cell_type": "markdown",
   "id": "8839f48b",
   "metadata": {},
   "source": [
    "## REFACTOR CODE"
   ]
  },
  {
   "cell_type": "code",
   "execution_count": 32,
   "id": "10e7d647",
   "metadata": {},
   "outputs": [],
   "source": [
    "def get_home_away(match_id, season_df):\n",
    "    '''Extract home and away for match in season:\n",
    "    returns tuple (home, away)'''\n",
    "    # open event data\n",
    "    df = parser.event(match_id)[0]\n",
    "    # get home and away team\n",
    "    home_team = season_df.loc[lambda df_: df_.match_id == match_id][\"home_team_name\"].iloc[0]\n",
    "    away_team = season_df.loc[lambda df_: df_.match_id == match_id][\"away_team_name\"].iloc[0]\n",
    "    return home_team, away_team"
   ]
  },
  {
   "cell_type": "code",
   "execution_count": 34,
   "id": "40366b61",
   "metadata": {},
   "outputs": [
    {
     "data": {
      "text/plain": [
       "(\"Germany Women's\", \"Spain Women's\")"
      ]
     },
     "execution_count": 34,
     "metadata": {},
     "output_type": "execute_result"
    }
   ],
   "source": [
    "get_home_away(match_id=match_ids[0], season_df=df_match)"
   ]
  },
  {
   "cell_type": "code",
   "execution_count": null,
   "id": "b8ac610a",
   "metadata": {},
   "outputs": [],
   "source": [
    "\n",
    "def get_match_passshot_dangerpass(match_df):\n",
    "    '''Create dataframe for passshot_df and danger_passes_df from season data'''\n",
    "    passshot_df = pd.DataFrame()\n",
    "    danger_passes_df = pd.DataFrame()\n",
    "    for team in teams:\n",
    "        # declare count variables to sum shots, passes and danger passes from both halves\n",
    "        shots = 0\n",
    "        passes = 0\n",
    "        danger_passes = 0\n",
    "        \n",
    "        #for both periods - see previous lessons\n",
    "        for period in [1, 2]:\n",
    "            # passes\n",
    "            mask_pass = (df.team_name == team) & (df.type_name == \"Pass\") & (df.outcome_name.isnull()) & (df.period == period) & (df.sub_type_name.isnull())\n",
    "            pass_df = df.loc[mask_pass]\n",
    "            \n",
    "            # A dataframe of shots ## Find passes within 15 seconds of a shot, exclude corners.\n",
    "            shot_window = 15\n",
    "            mask_shot = (df.team_name == team) & (df.type_name == \"Shot\") & (df.period == period)\n",
    "            shot_df = df.loc[mask_shot, [\"minute\", \"second\"]]\n",
    "            shot_times = shot_df['minute']*60+shot_df['second'] # convert time to seconds\n",
    "            \n",
    "\n",
    "            # find start of the window ## add condition to avoid negative shot starts\n",
    "            shot_start = shot_times - shot_window\n",
    "            shot_start = shot_start.apply(lambda i: i if i>0 else (period-1)*45) \n",
    "            pass_times = pass_df['minute']*60+pass_df['second']\n",
    "            \n",
    "            # check if pass is in any of the windows for this half\n",
    "            pass_to_shot = pass_times.apply(lambda x: True in ((shot_start < x) & (x < shot_times)).unique())\n",
    "            danger_passes_period = pass_df.loc[pass_to_shot]\n",
    "\n",
    "            #will need later all danger passes\n",
    "            danger_passes_df = pd.concat([danger_passes_df, danger_passes_period], ignore_index = True)\n",
    "\n",
    "            #adding number of passes, shots and danger passes from a game\n",
    "            passes += len(pass_df)\n",
    "            shots += len(shot_df)\n",
    "            danger_passes += len(danger_passes_period)\n",
    "        #getting number of goals by the team from the game\n",
    "        if team == home_team:\n",
    "            goals = df_match.loc[df_match[\"match_id\"] == idx][\"home_score\"].iloc[0]\n",
    "        else:\n",
    "            goals = df_match.loc[df_match[\"match_id\"] == idx][\"away_score\"].iloc[0]\n",
    "        #appending passshot dataframe\n",
    "        match_info_df = pd.DataFrame({\n",
    "                    \"Team\": [team],\n",
    "                    \"Passes\": [passes],\n",
    "                    \"Shots\": [shots],\n",
    "                    \"Goals\": [goals],\n",
    "                    \"Danger Passes\": [danger_passes]\n",
    "                    })\n",
    "        passshot_df = pd.concat([passshot_df, match_info_df])"
   ]
  }
 ],
 "metadata": {
  "kernelspec": {
   "display_name": "Python 3 (ipykernel)",
   "language": "python",
   "name": "python3"
  },
  "language_info": {
   "codemirror_mode": {
    "name": "ipython",
    "version": 3
   },
   "file_extension": ".py",
   "mimetype": "text/x-python",
   "name": "python",
   "nbconvert_exporter": "python",
   "pygments_lexer": "ipython3",
   "version": "3.11.0"
  }
 },
 "nbformat": 4,
 "nbformat_minor": 5
}
