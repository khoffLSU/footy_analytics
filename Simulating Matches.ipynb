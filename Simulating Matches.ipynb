{
 "cells": [
  {
   "cell_type": "markdown",
   "id": "b30eab8b",
   "metadata": {},
   "source": [
    "# Simulating a match\n",
    "This can be done many differet ways from statistical models informed based on the team/player performance or simple models which focus on specific attributes or are random simulators.  \n",
    "\n",
    "---\n",
    "To get started, a simple model will be leveraged to simulate a football match. One in which goals occur completely at random during the match."
   ]
  },
  {
   "cell_type": "code",
   "execution_count": 1,
   "id": "4237248f",
   "metadata": {},
   "outputs": [],
   "source": [
    "import numpy as np\n",
    "import numpy.random as rnd\n",
    "import time\n",
    "import pylab as plt"
   ]
  },
  {
   "cell_type": "markdown",
   "id": "21dafcbf",
   "metadata": {},
   "source": [
    "### Setting parameters for the simplified model\n",
    "Set up the basic scoring rates for football and other contoling aspects of a game. "
   ]
  },
  {
   "cell_type": "code",
   "execution_count": 2,
   "id": "3c06f8ca",
   "metadata": {},
   "outputs": [
    {
     "name": "stdout",
     "output_type": "stream",
     "text": [
      "The probability of a goal per minute is 0.03100. \n",
      "\n"
     ]
    }
   ],
   "source": [
    "# Length of match\n",
    "match_minutes = 90\n",
    "# Average goals per match\n",
    "goals_per_match = 2.79\n",
    "# Probability of a goal per minute\n",
    "prob_per_minute = np.array(goals_per_match/match_minutes)\n",
    "print('The probability of a goal per minute is %5.5f. \\n' % prob_per_minute )"
   ]
  },
  {
   "cell_type": "code",
   "execution_count": null,
   "id": "6421e349",
   "metadata": {},
   "outputs": [],
   "source": []
  }
 ],
 "metadata": {
  "kernelspec": {
   "display_name": "Python 3 (ipykernel)",
   "language": "python",
   "name": "python3"
  },
  "language_info": {
   "codemirror_mode": {
    "name": "ipython",
    "version": 3
   },
   "file_extension": ".py",
   "mimetype": "text/x-python",
   "name": "python",
   "nbconvert_exporter": "python",
   "pygments_lexer": "ipython3",
   "version": "3.11.0"
  }
 },
 "nbformat": 4,
 "nbformat_minor": 5
}
