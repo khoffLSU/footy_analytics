{
 "cells": [
  {
   "cell_type": "markdown",
   "metadata": {},
   "source": [
    "### Expected Goals including player positions\n",
    "Step-by-step walk thru of making an expected goals model leveraging additional information concerning opposition player location. This tutorial follows similar design choices as Javier Fernandez’s expected goals model in \"A framework for the fine-grained evaluation of the instantaneous expected value of soccer possessions.\n",
    "\n",
    "This effort will train a shallow neural network with following features:\n",
    "\n",
    "- ball location (x)\n",
    "- binary variable signifying if ball was closer to the goal than the opponent’s goalkeeper\n",
    "- angle between the ball and the goal\n",
    "- distance between the ball and the goal\n",
    "- distance between the ball and the goalkeeper in y-axis\n",
    "- distance between the ball and the goalkeeper\n",
    "- number of opponent players inside the triangle formed between the ball location and opponent’s goal posts\n",
    "- number of opponent players less than 3 meters away from the ball location\n",
    "- binary variable signifying if shot was a header\n",
    "- expected goals based on distance to goal and angle between the ball and the goal"
   ]
  },
  {
   "cell_type": "code",
   "execution_count": 2,
   "metadata": {},
   "outputs": [
    {
     "name": "stderr",
     "output_type": "stream",
     "text": [
      "2023-12-09 21:15:27.710109: I tensorflow/core/platform/cpu_feature_guard.cc:182] This TensorFlow binary is optimized to use available CPU instructions in performance-critical operations.\n",
      "To enable the following instructions: AVX2 FMA, in other operations, rebuild TensorFlow with the appropriate compiler flags.\n"
     ]
    }
   ],
   "source": [
    "#importing necessary libraries\n",
    "from mplsoccer import Sbopen\n",
    "import pandas as pd\n",
    "import numpy as np\n",
    "import warnings\n",
    "import statsmodels.api as sm\n",
    "import statsmodels.formula.api as smf\n",
    "import matplotlib.pyplot as plt\n",
    "import os\n",
    "import random as rn\n",
    "import tensorflow as tf\n",
    "#warnings not visible on the course webpage\n",
    "pd.options.mode.chained_assignment = None\n",
    "warnings.filterwarnings('ignore')"
   ]
  },
  {
   "cell_type": "code",
   "execution_count": 3,
   "metadata": {},
   "outputs": [],
   "source": [
    "#setting random seeds so that the results are reproducible on the webpage\n",
    "\n",
    "os.environ['PYTHONHASHSEED'] = '0'\n",
    "os.environ['CUDA_VISIBLE_DEVICES'] = ''\n",
    "np.random.seed(1)\n",
    "rn.seed(1)\n",
    "tf.random.set_seed(1)\n",
    "os.environ['TF_CPP_MIN_LOG_LEVEL'] = '3'"
   ]
  },
  {
   "cell_type": "markdown",
   "metadata": {},
   "source": [
    "### Opening data\n",
    "This task will use Statsbomb Indian Super League 2021/2022 data since it is the only dataset openly available that **contains both event and tracking data** for the entire season. Open each game and store data for the entire season in dataframes shot_df and track_df. Then change yards to meters. In the end, filter open play shots and remove shots without the goalkeeper tracked."
   ]
  },
  {
   "cell_type": "code",
   "execution_count": 5,
   "metadata": {},
   "outputs": [
    {
     "data": {
      "text/plain": [
       "array([3827767, 3827335, 3827336, 3827338, 3827337, 3817856, 3817891,\n",
       "       3817870, 3817899, 3817866, 3817889, 3817887, 3817872, 3817900,\n",
       "       3817855, 3817863, 3817877, 3817901, 3817880, 3817902, 3817862,\n",
       "       3817873, 3817869, 3817881, 3817895, 3817884, 3817896, 3817852,\n",
       "       3817883, 3817886, 3817864, 3817882, 3817894, 3817871, 3817861,\n",
       "       3817888, 3817875, 3817868, 3817867, 3813313, 3817890, 3813302,\n",
       "       3817857, 3817898, 3817893, 3817854, 3817892, 3817859, 3817858,\n",
       "       3817897, 3817885, 3817878, 3817876, 3813305, 3813266, 3813271,\n",
       "       3813311, 3813303, 3813304, 3813306, 3813283, 3813275, 3813278,\n",
       "       3813295, 3813296, 3813282, 3813269, 3817879, 3817874, 3817865,\n",
       "       3817860, 3817853, 3817851, 3817850, 3817849, 3817848, 3813318,\n",
       "       3813287, 3813270, 3813307, 3813279, 3813281, 3813274, 3813285,\n",
       "       3813317, 3813316, 3813315, 3813314, 3813312, 3813310, 3813309,\n",
       "       3813308, 3813301, 3813300, 3813299, 3813298, 3813297, 3813294,\n",
       "       3813293, 3813292, 3813291, 3813290, 3813289, 3813288, 3813286,\n",
       "       3813284, 3813280, 3813277, 3813276, 3813273, 3813272, 3813268,\n",
       "       3813267, 3813265, 3813264])"
      ]
     },
     "execution_count": 5,
     "metadata": {},
     "output_type": "execute_result"
    }
   ],
   "source": [
    "parser = Sbopen()\n",
    "#get list of games during Indian Super League season\n",
    "df_match = parser.match(competition_id=1238, season_id=108)\n",
    "matches = df_match.match_id.unique()\n",
    "matches"
   ]
  },
  {
   "cell_type": "code",
   "execution_count": 6,
   "metadata": {},
   "outputs": [],
   "source": [
    "\n",
    "\n",
    "shot_df = pd.DataFrame()\n",
    "track_df = pd.DataFrame()\n",
    "#store data in one dataframe\n",
    "for match in matches:\n",
    "    #open events\n",
    "    df_event = parser.event(match)[0]\n",
    "    #open 360 data\n",
    "    df_track = parser.event(match)[2]\n",
    "    #get shots\n",
    "    shots = df_event.loc[df_event[\"type_name\"] == \"Shot\"]\n",
    "    shots.x = shots.x.apply(lambda cell: cell*105/120)\n",
    "    shots.y = shots.y.apply(lambda cell: cell*68/80)\n",
    "    df_track.x = df_track.x.apply(lambda cell: cell*105/120)\n",
    "    df_track.y = df_track.y.apply(lambda cell: cell*68/80)\n",
    "    #append event and trackings to a dataframe\n",
    "    shot_df = pd.concat([shot_df, shots], ignore_index = True)\n",
    "    track_df = pd.concat([track_df, df_track], ignore_index = True)\n",
    "\n",
    "#reset indicies\n",
    "shot_df.reset_index(drop=True, inplace=True)\n",
    "track_df.reset_index(drop=True, inplace=True)\n",
    "#filter out non open-play shots\n",
    "shot_df = shot_df.loc[shot_df[\"sub_type_name\"] == \"Open Play\"]\n",
    "#filter out shots where goalkeeper was not tracked\n",
    "gks_tracked = track_df.loc[track_df[\"teammate\"] == False].loc[track_df[\"position_name\"] == \"Goalkeeper\"]['id'].unique()\n",
    "shot_df = shot_df.loc[shot_df[\"id\"].isin(gks_tracked)]"
   ]
  },
  {
   "cell_type": "code",
   "execution_count": 8,
   "metadata": {},
   "outputs": [
    {
     "name": "stdout",
     "output_type": "stream",
     "text": [
      "<class 'pandas.core.frame.DataFrame'>\n",
      "Index: 2875 entries, 0 to 3094\n",
      "Data columns (total 87 columns):\n",
      " #   Column                          Non-Null Count  Dtype  \n",
      "---  ------                          --------------  -----  \n",
      " 0   id                              2875 non-null   object \n",
      " 1   index                           2875 non-null   int64  \n",
      " 2   period                          2875 non-null   int64  \n",
      " 3   timestamp                       2875 non-null   object \n",
      " 4   minute                          2875 non-null   int64  \n",
      " 5   second                          2875 non-null   int64  \n",
      " 6   possession                      2875 non-null   int64  \n",
      " 7   duration                        2875 non-null   float64\n",
      " 8   match_id                        2875 non-null   int64  \n",
      " 9   type_id                         2875 non-null   int64  \n",
      " 10  type_name                       2875 non-null   object \n",
      " 11  possession_team_id              2875 non-null   int64  \n",
      " 12  possession_team_name            2875 non-null   object \n",
      " 13  play_pattern_id                 2875 non-null   int64  \n",
      " 14  play_pattern_name               2875 non-null   object \n",
      " 15  team_id                         2875 non-null   int64  \n",
      " 16  team_name                       2875 non-null   object \n",
      " 17  tactics_formation               0 non-null      float64\n",
      " 18  player_id                       2875 non-null   float64\n",
      " 19  player_name                     2875 non-null   object \n",
      " 20  position_id                     2875 non-null   float64\n",
      " 21  position_name                   2875 non-null   object \n",
      " 22  pass_recipient_id               0 non-null      float64\n",
      " 23  pass_recipient_name             0 non-null      object \n",
      " 24  pass_length                     0 non-null      float64\n",
      " 25  pass_angle                      0 non-null      float64\n",
      " 26  pass_height_id                  0 non-null      float64\n",
      " 27  pass_height_name                0 non-null      object \n",
      " 28  end_x                           2875 non-null   float64\n",
      " 29  end_y                           2875 non-null   float64\n",
      " 30  body_part_id                    2875 non-null   float64\n",
      " 31  body_part_name                  2875 non-null   object \n",
      " 32  sub_type_id                     2875 non-null   float64\n",
      " 33  sub_type_name                   2875 non-null   object \n",
      " 34  x                               2875 non-null   float64\n",
      " 35  y                               2875 non-null   float64\n",
      " 36  outcome_id                      2875 non-null   float64\n",
      " 37  outcome_name                    2875 non-null   object \n",
      " 38  counterpress                    0 non-null      float64\n",
      " 39  under_pressure                  526 non-null    float64\n",
      " 40  dribble_overrun                 0 non-null      object \n",
      " 41  pass_cross                      0 non-null      object \n",
      " 42  pass_cut_back                   0 non-null      object \n",
      " 43  off_camera                      3 non-null      float64\n",
      " 44  out                             89 non-null     float64\n",
      " 45  aerial_won                      246 non-null    object \n",
      " 46  pass_switch                     0 non-null      object \n",
      " 47  ball_recovery_recovery_failure  0 non-null      object \n",
      " 48  foul_committed_card_id          0 non-null      float64\n",
      " 49  foul_committed_card_name        0 non-null      object \n",
      " 50  technique_id                    2875 non-null   float64\n",
      " 51  technique_name                  2875 non-null   object \n",
      " 52  pass_assisted_shot_id           0 non-null      object \n",
      " 53  pass_shot_assist                0 non-null      object \n",
      " 54  shot_statsbomb_xg               2875 non-null   float64\n",
      " 55  end_z                           1894 non-null   float64\n",
      " 56  shot_key_pass_id                2005 non-null   object \n",
      " 57  goalkeeper_position_id          0 non-null      float64\n",
      " 58  goalkeeper_position_name        0 non-null      object \n",
      " 59  foul_won_defensive              0 non-null      object \n",
      " 60  substitution_replacement_id     0 non-null      float64\n",
      " 61  substitution_replacement_name   0 non-null      object \n",
      " 62  shot_first_time                 942 non-null    object \n",
      " 63  shot_one_on_one                 143 non-null    object \n",
      " 64  pass_deflected                  0 non-null      object \n",
      " 65  pass_goal_assist                0 non-null      object \n",
      " 66  pass_no_touch                   0 non-null      object \n",
      " 67  block_offensive                 0 non-null      object \n",
      " 68  block_deflection                0 non-null      object \n",
      " 69  injury_stoppage_in_chain        0 non-null      object \n",
      " 70  block_save_block                0 non-null      object \n",
      " 71  foul_committed_advantage        0 non-null      object \n",
      " 72  foul_won_advantage              0 non-null      object \n",
      " 73  dribble_nutmeg                  0 non-null      object \n",
      " 74  foul_committed_offensive        0 non-null      object \n",
      " 75  bad_behaviour_card_id           0 non-null      float64\n",
      " 76  bad_behaviour_card_name         0 non-null      object \n",
      " 77  shot_deflected                  40 non-null     object \n",
      " 78  shot_open_goal                  34 non-null     object \n",
      " 79  ball_recovery_offensive         0 non-null      object \n",
      " 80  pass_miscommunication           0 non-null      object \n",
      " 81  player_off_permanent            0 non-null      object \n",
      " 82  dribble_no_touch                0 non-null      object \n",
      " 83  foul_committed_penalty          0 non-null      object \n",
      " 84  foul_won_penalty                0 non-null      object \n",
      " 85  shot_follows_dribble            1 non-null      object \n",
      " 86  shot_redirect                   9 non-null      object \n",
      "dtypes: float64(26), int64(10), object(51)\n",
      "memory usage: 1.9+ MB\n"
     ]
    }
   ],
   "source": [
    "shot_df.info()"
   ]
  },
  {
   "cell_type": "code",
   "execution_count": null,
   "metadata": {},
   "outputs": [],
   "source": []
  }
 ],
 "metadata": {
  "kernelspec": {
   "display_name": ".venv",
   "language": "python",
   "name": "python3"
  },
  "language_info": {
   "codemirror_mode": {
    "name": "ipython",
    "version": 3
   },
   "file_extension": ".py",
   "mimetype": "text/x-python",
   "name": "python",
   "nbconvert_exporter": "python",
   "pygments_lexer": "ipython3",
   "version": "3.11.0"
  }
 },
 "nbformat": 4,
 "nbformat_minor": 2
}
