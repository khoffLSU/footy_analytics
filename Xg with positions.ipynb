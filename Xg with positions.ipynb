{
 "cells": [
  {
   "cell_type": "markdown",
   "metadata": {},
   "source": [
    "### Expected Goals including player positions\n",
    "Step-by-step walk thru of making an expected goals model leveraging additional information concerning opposition player location. This tutorial follows similar design choices as Javier Fernandez’s expected goals model in \"A framework for the fine-grained evaluation of the instantaneous expected value of soccer possessions.\n",
    "\n",
    "This effort will train a shallow neural network with following features:\n",
    "\n",
    "- ball location (x)\n",
    "- binary variable signifying if ball was closer to the goal than the opponent’s goalkeeper\n",
    "- angle between the ball and the goal\n",
    "- distance between the ball and the goal\n",
    "- distance between the ball and the goalkeeper in y-axis\n",
    "- distance between the ball and the goalkeeper\n",
    "- number of opponent players inside the triangle formed between the ball location and opponent’s goal posts\n",
    "- number of opponent players less than 3 meters away from the ball location\n",
    "- binary variable signifying if shot was a header\n",
    "- expected goals based on distance to goal and angle between the ball and the goal"
   ]
  },
  {
   "cell_type": "code",
   "execution_count": 6,
   "metadata": {},
   "outputs": [],
   "source": [
    "from pathlib import Path"
   ]
  },
  {
   "cell_type": "code",
   "execution_count": 1,
   "metadata": {},
   "outputs": [
    {
     "name": "stderr",
     "output_type": "stream",
     "text": [
      "2023-12-19 20:25:22.209647: I tensorflow/core/platform/cpu_feature_guard.cc:182] This TensorFlow binary is optimized to use available CPU instructions in performance-critical operations.\n",
      "To enable the following instructions: AVX2 FMA, in other operations, rebuild TensorFlow with the appropriate compiler flags.\n"
     ]
    }
   ],
   "source": [
    "#importing necessary libraries\n",
    "from mplsoccer import Sbopen\n",
    "import pandas as pd\n",
    "import numpy as np\n",
    "import warnings\n",
    "import statsmodels.api as sm\n",
    "import statsmodels.formula.api as smf\n",
    "import matplotlib.pyplot as plt\n",
    "import os\n",
    "import random as rn\n",
    "import tensorflow as tf\n",
    "#warnings not visible on the course webpage\n",
    "pd.options.mode.chained_assignment = None\n",
    "warnings.filterwarnings('ignore')"
   ]
  },
  {
   "cell_type": "code",
   "execution_count": 2,
   "metadata": {},
   "outputs": [],
   "source": [
    "#setting random seeds so that the results are reproducible on the webpage\n",
    "\n",
    "os.environ['PYTHONHASHSEED'] = '0'\n",
    "os.environ['CUDA_VISIBLE_DEVICES'] = ''\n",
    "np.random.seed(1)\n",
    "rn.seed(1)\n",
    "tf.random.set_seed(1)\n",
    "os.environ['TF_CPP_MIN_LOG_LEVEL'] = '3'"
   ]
  },
  {
   "cell_type": "markdown",
   "metadata": {},
   "source": [
    "### Opening data\n",
    "This task will use Statsbomb Indian Super League 2021/2022 data since it is the only dataset openly available that **contains both event and tracking data** for the entire season. Open each game and store data for the entire season in dataframes shot_df and track_df. Then change yards to meters. In the end, filter open play shots and remove shots without the goalkeeper tracked."
   ]
  },
  {
   "cell_type": "code",
   "execution_count": 3,
   "metadata": {},
   "outputs": [
    {
     "data": {
      "text/plain": [
       "array([3827767, 3827335, 3827336, 3827338, 3827337, 3817856, 3817891,\n",
       "       3817870, 3817899, 3817866])"
      ]
     },
     "execution_count": 3,
     "metadata": {},
     "output_type": "execute_result"
    }
   ],
   "source": [
    "parser = Sbopen()\n",
    "#get list of games during Indian Super League season\n",
    "df_match = parser.match(competition_id=1238, season_id=108)\n",
    "matches = df_match.match_id.unique()\n",
    "matches[:10]"
   ]
  },
  {
   "cell_type": "code",
   "execution_count": 12,
   "metadata": {},
   "outputs": [
    {
     "name": "stdout",
     "output_type": "stream",
     "text": [
      "files are there\n"
     ]
    }
   ],
   "source": [
    "file1 = Path('./shot_df_xGpos.csv')\n",
    "file2 = Path('./track_df_xGpos.csv')\n",
    "if file1.is_file() and file2.is_file():\n",
    "    print('files are there')"
   ]
  },
  {
   "cell_type": "code",
   "execution_count": 13,
   "metadata": {},
   "outputs": [],
   "source": [
    "\n",
    "file1 = Path('./shot_df_xGpos.csv')\n",
    "file2 = Path('./track_df_xGpos.csv')\n",
    "if file1.is_file() and file2.is_file():\n",
    "    shot_df = pd.read_csv('shot_df_xGpos.csv')\n",
    "    track_df = pd.read_csv('track_df_xGpos.csv')\n",
    "else:\n",
    "    shot_df = pd.DataFrame()\n",
    "    track_df = pd.DataFrame()\n",
    "    #store data in one dataframe\n",
    "    for match in matches:\n",
    "        shots = (parser.event(match)[0] # open events\n",
    "                .query(\"type_name == 'Shot'\") # query shots\n",
    "                .assign(x = lambda df: df.x.apply(lambda cell: cell*105/120), # assign column updates\n",
    "                        y = lambda df: df.y.apply(lambda cell: cell*68/80))\n",
    "                )\n",
    "        \n",
    "        df_track = (parser.event(match)[2] # open 360 data\n",
    "                    .assign(x = lambda df: df.x.apply(lambda cell: cell*105/120), # assign column updates\n",
    "                            y = lambda df: df.y.apply(lambda cell: cell*68/80)))\n",
    "        \n",
    "        #append event and trackings to a dataframe\n",
    "        shot_df = pd.concat([shot_df, shots], ignore_index = True)\n",
    "        track_df = pd.concat([track_df, df_track], ignore_index = True)\n",
    "    # reset indicies\n",
    "    shot_df.reset_index(drop=True, inplace=True)\n",
    "    track_df.reset_index(drop=True, inplace=True)\n",
    "\n",
    "    # filter out non open-play shots\n",
    "    shot_df = shot_df.query('sub_type_name == \"Open Play\"')\n",
    "\n",
    "    #filter out shots where goalkeeper was not tracked\n",
    "    gks_tracked = track_df.query(\"teammate == False and position_name == 'Goalkeeper'\")['id'].unique()\n",
    "    shot_df = shot_df.loc[shot_df[\"id\"].isin(gks_tracked)]"
   ]
  },
  {
   "cell_type": "code",
   "execution_count": 14,
   "metadata": {},
   "outputs": [
    {
     "data": {
      "text/html": [
       "<div>\n",
       "<style scoped>\n",
       "    .dataframe tbody tr th:only-of-type {\n",
       "        vertical-align: middle;\n",
       "    }\n",
       "\n",
       "    .dataframe tbody tr th {\n",
       "        vertical-align: top;\n",
       "    }\n",
       "\n",
       "    .dataframe thead th {\n",
       "        text-align: right;\n",
       "    }\n",
       "</style>\n",
       "<table border=\"1\" class=\"dataframe\">\n",
       "  <thead>\n",
       "    <tr style=\"text-align: right;\">\n",
       "      <th></th>\n",
       "      <th>Unnamed: 0</th>\n",
       "      <th>id</th>\n",
       "      <th>index</th>\n",
       "      <th>period</th>\n",
       "      <th>timestamp</th>\n",
       "      <th>minute</th>\n",
       "      <th>second</th>\n",
       "      <th>possession</th>\n",
       "      <th>duration</th>\n",
       "      <th>match_id</th>\n",
       "      <th>...</th>\n",
       "      <th>shot_deflected</th>\n",
       "      <th>shot_open_goal</th>\n",
       "      <th>ball_recovery_offensive</th>\n",
       "      <th>pass_miscommunication</th>\n",
       "      <th>player_off_permanent</th>\n",
       "      <th>dribble_no_touch</th>\n",
       "      <th>foul_committed_penalty</th>\n",
       "      <th>foul_won_penalty</th>\n",
       "      <th>shot_follows_dribble</th>\n",
       "      <th>shot_redirect</th>\n",
       "    </tr>\n",
       "  </thead>\n",
       "  <tbody>\n",
       "    <tr>\n",
       "      <th>2158</th>\n",
       "      <td>2331</td>\n",
       "      <td>9bbb8185-7062-43a0-8799-3152959cf926</td>\n",
       "      <td>896</td>\n",
       "      <td>1</td>\n",
       "      <td>00:22:10</td>\n",
       "      <td>22</td>\n",
       "      <td>10</td>\n",
       "      <td>54</td>\n",
       "      <td>1.158561</td>\n",
       "      <td>3813317</td>\n",
       "      <td>...</td>\n",
       "      <td>NaN</td>\n",
       "      <td>NaN</td>\n",
       "      <td>NaN</td>\n",
       "      <td>NaN</td>\n",
       "      <td>NaN</td>\n",
       "      <td>NaN</td>\n",
       "      <td>NaN</td>\n",
       "      <td>NaN</td>\n",
       "      <td>NaN</td>\n",
       "      <td>NaN</td>\n",
       "    </tr>\n",
       "    <tr>\n",
       "      <th>1395</th>\n",
       "      <td>1515</td>\n",
       "      <td>9f21f417-17ba-45c9-b7de-4be95d449909</td>\n",
       "      <td>3120</td>\n",
       "      <td>2</td>\n",
       "      <td>00:52:55</td>\n",
       "      <td>97</td>\n",
       "      <td>55</td>\n",
       "      <td>197</td>\n",
       "      <td>1.183715</td>\n",
       "      <td>3817876</td>\n",
       "      <td>...</td>\n",
       "      <td>NaN</td>\n",
       "      <td>NaN</td>\n",
       "      <td>NaN</td>\n",
       "      <td>NaN</td>\n",
       "      <td>NaN</td>\n",
       "      <td>NaN</td>\n",
       "      <td>NaN</td>\n",
       "      <td>NaN</td>\n",
       "      <td>NaN</td>\n",
       "      <td>NaN</td>\n",
       "    </tr>\n",
       "    <tr>\n",
       "      <th>1721</th>\n",
       "      <td>1867</td>\n",
       "      <td>7834afb5-e505-4028-9307-0778f636bb22</td>\n",
       "      <td>2383</td>\n",
       "      <td>2</td>\n",
       "      <td>00:27:05</td>\n",
       "      <td>72</td>\n",
       "      <td>5</td>\n",
       "      <td>154</td>\n",
       "      <td>0.243436</td>\n",
       "      <td>3813269</td>\n",
       "      <td>...</td>\n",
       "      <td>NaN</td>\n",
       "      <td>NaN</td>\n",
       "      <td>NaN</td>\n",
       "      <td>NaN</td>\n",
       "      <td>NaN</td>\n",
       "      <td>NaN</td>\n",
       "      <td>NaN</td>\n",
       "      <td>NaN</td>\n",
       "      <td>NaN</td>\n",
       "      <td>NaN</td>\n",
       "    </tr>\n",
       "  </tbody>\n",
       "</table>\n",
       "<p>3 rows × 88 columns</p>\n",
       "</div>"
      ],
      "text/plain": [
       "      Unnamed: 0                                    id  index  period   \n",
       "2158        2331  9bbb8185-7062-43a0-8799-3152959cf926    896       1  \\\n",
       "1395        1515  9f21f417-17ba-45c9-b7de-4be95d449909   3120       2   \n",
       "1721        1867  7834afb5-e505-4028-9307-0778f636bb22   2383       2   \n",
       "\n",
       "     timestamp  minute  second  possession  duration  match_id  ...   \n",
       "2158  00:22:10      22      10          54  1.158561   3813317  ...  \\\n",
       "1395  00:52:55      97      55         197  1.183715   3817876  ...   \n",
       "1721  00:27:05      72       5         154  0.243436   3813269  ...   \n",
       "\n",
       "      shot_deflected shot_open_goal  ball_recovery_offensive   \n",
       "2158             NaN            NaN                      NaN  \\\n",
       "1395             NaN            NaN                      NaN   \n",
       "1721             NaN            NaN                      NaN   \n",
       "\n",
       "     pass_miscommunication  player_off_permanent dribble_no_touch   \n",
       "2158                   NaN                   NaN              NaN  \\\n",
       "1395                   NaN                   NaN              NaN   \n",
       "1721                   NaN                   NaN              NaN   \n",
       "\n",
       "      foul_committed_penalty foul_won_penalty  shot_follows_dribble   \n",
       "2158                     NaN              NaN                   NaN  \\\n",
       "1395                     NaN              NaN                   NaN   \n",
       "1721                     NaN              NaN                   NaN   \n",
       "\n",
       "      shot_redirect  \n",
       "2158            NaN  \n",
       "1395            NaN  \n",
       "1721            NaN  \n",
       "\n",
       "[3 rows x 88 columns]"
      ]
     },
     "execution_count": 14,
     "metadata": {},
     "output_type": "execute_result"
    }
   ],
   "source": [
    "shot_df.sample(3)"
   ]
  },
  {
   "cell_type": "code",
   "execution_count": 15,
   "metadata": {},
   "outputs": [
    {
     "data": {
      "text/html": [
       "<div>\n",
       "<style scoped>\n",
       "    .dataframe tbody tr th:only-of-type {\n",
       "        vertical-align: middle;\n",
       "    }\n",
       "\n",
       "    .dataframe tbody tr th {\n",
       "        vertical-align: top;\n",
       "    }\n",
       "\n",
       "    .dataframe thead th {\n",
       "        text-align: right;\n",
       "    }\n",
       "</style>\n",
       "<table border=\"1\" class=\"dataframe\">\n",
       "  <thead>\n",
       "    <tr style=\"text-align: right;\">\n",
       "      <th></th>\n",
       "      <th>Unnamed: 0</th>\n",
       "      <th>teammate</th>\n",
       "      <th>match_id</th>\n",
       "      <th>id</th>\n",
       "      <th>x</th>\n",
       "      <th>y</th>\n",
       "      <th>player_id</th>\n",
       "      <th>player_name</th>\n",
       "      <th>position_id</th>\n",
       "      <th>position_name</th>\n",
       "      <th>event_freeze_id</th>\n",
       "    </tr>\n",
       "  </thead>\n",
       "  <tbody>\n",
       "    <tr>\n",
       "      <th>17854</th>\n",
       "      <td>17854</td>\n",
       "      <td>False</td>\n",
       "      <td>3817892</td>\n",
       "      <td>0821a975-2be4-4d8d-97ee-942d4bf2206e</td>\n",
       "      <td>87.7625</td>\n",
       "      <td>23.715</td>\n",
       "      <td>24860</td>\n",
       "      <td>Héctor Rodas Ramírez</td>\n",
       "      <td>3</td>\n",
       "      <td>Right Center Back</td>\n",
       "      <td>8</td>\n",
       "    </tr>\n",
       "    <tr>\n",
       "      <th>5948</th>\n",
       "      <td>5948</td>\n",
       "      <td>False</td>\n",
       "      <td>3817863</td>\n",
       "      <td>4763d971-6861-4e3d-a862-ae6953ebb7e5</td>\n",
       "      <td>95.2000</td>\n",
       "      <td>23.800</td>\n",
       "      <td>124903</td>\n",
       "      <td>Akash Mishra</td>\n",
       "      <td>6</td>\n",
       "      <td>Left Back</td>\n",
       "      <td>7</td>\n",
       "    </tr>\n",
       "    <tr>\n",
       "      <th>40295</th>\n",
       "      <td>40295</td>\n",
       "      <td>False</td>\n",
       "      <td>3813268</td>\n",
       "      <td>058bf268-4f99-405d-85a9-a5a5eba780cf</td>\n",
       "      <td>87.0625</td>\n",
       "      <td>43.435</td>\n",
       "      <td>124756</td>\n",
       "      <td>Subhasish Bose</td>\n",
       "      <td>8</td>\n",
       "      <td>Left Wing Back</td>\n",
       "      <td>3</td>\n",
       "    </tr>\n",
       "  </tbody>\n",
       "</table>\n",
       "</div>"
      ],
      "text/plain": [
       "       Unnamed: 0  teammate  match_id                                    id   \n",
       "17854       17854     False   3817892  0821a975-2be4-4d8d-97ee-942d4bf2206e  \\\n",
       "5948         5948     False   3817863  4763d971-6861-4e3d-a862-ae6953ebb7e5   \n",
       "40295       40295     False   3813268  058bf268-4f99-405d-85a9-a5a5eba780cf   \n",
       "\n",
       "             x       y  player_id           player_name  position_id   \n",
       "17854  87.7625  23.715      24860  Héctor Rodas Ramírez            3  \\\n",
       "5948   95.2000  23.800     124903          Akash Mishra            6   \n",
       "40295  87.0625  43.435     124756        Subhasish Bose            8   \n",
       "\n",
       "           position_name  event_freeze_id  \n",
       "17854  Right Center Back                8  \n",
       "5948           Left Back                7  \n",
       "40295     Left Wing Back                3  "
      ]
     },
     "execution_count": 15,
     "metadata": {},
     "output_type": "execute_result"
    }
   ],
   "source": [
    "track_df.sample(3)"
   ]
  },
  {
   "cell_type": "markdown",
   "metadata": {},
   "source": [
    "### Feature engineering\n",
    "This section creates features to improve the dataset. They will be stored in a model_vars dataframe. It is suggested to read the code comments to understand this part of tutorial better.  The details are embedded within the code."
   ]
  },
  {
   "cell_type": "markdown",
   "metadata": {},
   "source": []
  }
 ],
 "metadata": {
  "kernelspec": {
   "display_name": ".venv",
   "language": "python",
   "name": "python3"
  },
  "language_info": {
   "codemirror_mode": {
    "name": "ipython",
    "version": 3
   },
   "file_extension": ".py",
   "mimetype": "text/x-python",
   "name": "python",
   "nbconvert_exporter": "python",
   "pygments_lexer": "ipython3",
   "version": "3.11.0"
  }
 },
 "nbformat": 4,
 "nbformat_minor": 2
}
