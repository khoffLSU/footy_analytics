{
 "cells": [
  {
   "cell_type": "markdown",
   "metadata": {},
   "source": [
    "## Continued Exploration of High Scoring Affairs\n",
    "In soccer analytics there are many results considered.  Because coaching is also interested in patterns in the game, the hidden truths in the data, and a question was posed regarding high scoring games.  Is there a pattern which these games fall into, where defense is thrown out the window and goals come in high numbers.  Soccer/Football is for all intents and purposes a low scoring game. The introduction of the 3 point win was a huge shift in teams pursuing wins and not draws.  Even so, two to three goals is a pretty common outcome for a match.\n",
    "\n",
    "What about the exceptions?  Not the one sided exceptions.  The track meets where the last team with the ball might be the winner.  The games where goals come fast and furious, but no team has a significant advantage.  Score lines like 4-3 or 5-5 come to mind.  Games with at least six goals which are well distributed.  Is there anything to learn from these *High Scoring Affairs*?\n",
    "\n",
    "The first notebook analysis identified the data aggregation views.  This highlighted that more shots were taken, and they were taken closer to the goal.  Analysis of passing and recieve patterns for both HSA and non HSA games showed basically the same distibution of patterns, as did the turnover locations follow state likelywise.  Here, the goal will be to see how shots develop in live play through passing patterns.\n",
    "\n",
    "---\n",
    "### Imports and Data"
   ]
  },
  {
   "cell_type": "code",
   "execution_count": 1,
   "metadata": {},
   "outputs": [],
   "source": [
    "import mplsoccer as mpl\n",
    "import matplotlib.pyplot as plt\n",
    "import matplotlib.patheffects as path_effects\n",
    "import seaborn as sns\n",
    "import pandas as pd\n",
    "import numpy as np\n",
    "\n",
    "from statsbombpy import sb\n",
    "# suppress due to free data warning\n",
    "import warnings\n",
    "warnings.filterwarnings('ignore')\n",
    "pd.set_option('display.max_rows', 500)"
   ]
  },
  {
   "cell_type": "markdown",
   "metadata": {},
   "source": [
    "### Competitions"
   ]
  },
  {
   "cell_type": "code",
   "execution_count": 2,
   "metadata": {},
   "outputs": [
    {
     "data": {
      "text/plain": [
       "competition_name\n",
       "Champions League           18\n",
       "La Liga                    18\n",
       "FIFA World Cup              8\n",
       "Ligue 1                     3\n",
       "Copa del Rey                3\n",
       "FA Women's Super League     3\n",
       "Liga Profesional            2\n",
       "Serie A                     2\n",
       "Premier League              2\n",
       "Women's World Cup           2\n",
       "African Cup of Nations      1\n",
       "Major League Soccer         1\n",
       "North American League       1\n",
       "NWSL                        1\n",
       "Indian Super league         1\n",
       "FIFA U20 World Cup          1\n",
       "UEFA Euro                   1\n",
       "UEFA Europa League          1\n",
       "UEFA Women's Euro           1\n",
       "1. Bundesliga               1\n",
       "Name: Seasons, dtype: int64"
      ]
     },
     "execution_count": 2,
     "metadata": {},
     "output_type": "execute_result"
    }
   ],
   "source": [
    "# Break down on total seasons by competition name\n",
    "(sb.competitions(creds={'user': None, 'passwd': None})\n",
    " .competition_name.value_counts()\n",
    " .rename('Seasons')\n",
    ")"
   ]
  },
  {
   "cell_type": "markdown",
   "metadata": {},
   "source": [
    "### Match Example"
   ]
  },
  {
   "cell_type": "code",
   "execution_count": 3,
   "metadata": {},
   "outputs": [
    {
     "data": {
      "text/plain": [
       "match_id                                       9880\n",
       "match_date                               2018-04-14\n",
       "kick_off                               16:15:00.000\n",
       "competition                         Spain - La Liga\n",
       "season                                    2017/2018\n",
       "home_team                                 Barcelona\n",
       "away_team                                  Valencia\n",
       "home_score                                        2\n",
       "away_score                                        1\n",
       "match_status                              available\n",
       "match_status_360                          scheduled\n",
       "last_updated             2023-02-08T17:23:53.901920\n",
       "last_updated_360            2021-06-13T16:17:31.694\n",
       "match_week                                       32\n",
       "competition_stage                    Regular Season\n",
       "stadium                            Spotify Camp Nou\n",
       "referee                     Carlos del Cerro Grande\n",
       "home_managers              Ernesto Valverde Tejedor\n",
       "away_managers                Marcelino García Toral\n",
       "data_version                                  1.1.0\n",
       "shot_fidelity_version                             2\n",
       "xy_fidelity_version                               2\n",
       "Name: 0, dtype: object"
      ]
     },
     "execution_count": 3,
     "metadata": {},
     "output_type": "execute_result"
    }
   ],
   "source": [
    "sb.matches(11,1).iloc[0] # characteristic record"
   ]
  },
  {
   "cell_type": "markdown",
   "metadata": {},
   "source": [
    "### HSA Record Inspection\n",
    "The match_id along with the home and away score can be inspected from the data which is available.  A column will need to be added for the total match goals and total differential, and finally a binary for HSA classification.  This can then be used to add match_ids to a dataframe/list for extraction of event data."
   ]
  },
  {
   "cell_type": "code",
   "execution_count": 4,
   "metadata": {},
   "outputs": [],
   "source": [
    "def hsa_add(df, goals=4, diff=3):\n",
    "    '''Adds columns for total goals, total goal differential and HSA classifier.\n",
    "    Returns dataframe where games are considered High Scoring Affairs or HSAs.\n",
    "    df = dataframe from statsbomb\n",
    "    goals = number in total to exceed in game\n",
    "    diff = difference between score threshold'''\n",
    "    df_update = (df\n",
    "                 .assign(total_goals = lambda df: df.home_score + df.away_score,\n",
    "                         goal_diff = lambda df: abs(df.home_score - df.away_score),\n",
    "                         HSA = lambda df: np.where(df.total_goals>goals,np.where(df.goal_diff<diff,1,0),0))\n",
    "                 ).query('HSA==1')\n",
    "    return df_update"
   ]
  },
  {
   "cell_type": "code",
   "execution_count": 5,
   "metadata": {},
   "outputs": [],
   "source": [
    "def non_hsa_add(df, goals=4, diff=3):\n",
    "    '''Adds columns for total goals, total goal differential and HSA classifier.\n",
    "    Returns dataframe where games are considered High Scoring Affairs or HSAs.\n",
    "    df = dataframe from statsbomb\n",
    "    goals = number in total to exceed in game\n",
    "    diff = difference between score threshold'''\n",
    "    df_update = (df\n",
    "                 .assign(total_goals = lambda df: df.home_score + df.away_score,\n",
    "                         goal_diff = lambda df: abs(df.home_score - df.away_score),\n",
    "                         HSA = lambda df: np.where(df.total_goals>goals,np.where(df.goal_diff<diff,1,0),0))\n",
    "                 ).query('HSA==0')\n",
    "    return df_update"
   ]
  },
  {
   "cell_type": "markdown",
   "metadata": {},
   "source": [
    "### Extract Competitions and Seasons\n",
    "Extract all competitions and seasons, then extract and append all of the HSA games into a single database so the match_ids can be pull and the event data can be evaluated. Here, both the HSA and Non_HSA classified matches can be extracted.  "
   ]
  },
  {
   "cell_type": "code",
   "execution_count": 6,
   "metadata": {},
   "outputs": [],
   "source": [
    "def extract_comps(df):\n",
    "    '''Extract a list of tuples for compeition and season ids.'''\n",
    "    L = []\n",
    "    for ind, row in (df.iterrows()):\n",
    "        L.append((row.competition_id, row.season_id))\n",
    "    return L"
   ]
  },
  {
   "cell_type": "code",
   "execution_count": 7,
   "metadata": {},
   "outputs": [
    {
     "name": "stdout",
     "output_type": "stream",
     "text": [
      "Read CSV from memory\n"
     ]
    }
   ],
   "source": [
    "try:\n",
    "    hsa_df = pd.read_csv('./data/hsa_df.csv')\n",
    "    print('Read CSV from memory')\n",
    "except:  # noqa: E722\n",
    "    hsa_df = pd.DataFrame()\n",
    "    for i in extract_comps(sb.competitions()):\n",
    "        hsa_df= pd.concat([hsa_df,hsa_add(sb.matches(i[0],i[1]),5,3)])\n",
    "    print('Used Statsbomb API')\n",
    "    hsa_df.to_csv('./data/hsa_df.csv')\n",
    "    "
   ]
  },
  {
   "cell_type": "code",
   "execution_count": 8,
   "metadata": {},
   "outputs": [
    {
     "name": "stdout",
     "output_type": "stream",
     "text": [
      "Read CSV from memory\n"
     ]
    }
   ],
   "source": [
    "try:\n",
    "    non_hsa_df = pd.read_csv('./data/non_hsa_df.csv')\n",
    "    print('Read CSV from memory')\n",
    "except:  # noqa: E722\n",
    "    non_hsa_df = pd.DataFrame()\n",
    "    for i in extract_comps(sb.competitions()):\n",
    "        non_hsa_df= pd.concat([non_hsa_df,non_hsa_add(sb.matches(i[0],i[1]),5,3)])\n",
    "    print('Used Statsbomb API')\n",
    "    non_hsa_df.to_csv('./data/non_hsa_df.csv')\n",
    "    "
   ]
  },
  {
   "cell_type": "code",
   "execution_count": 9,
   "metadata": {},
   "outputs": [],
   "source": [
    "hsa_matches = hsa_df.reset_index().match_id.values"
   ]
  },
  {
   "cell_type": "code",
   "execution_count": 10,
   "metadata": {},
   "outputs": [],
   "source": [
    "non_hsa_matches = non_hsa_df.reset_index().match_id.values"
   ]
  },
  {
   "cell_type": "code",
   "execution_count": 11,
   "metadata": {},
   "outputs": [
    {
     "name": "stdout",
     "output_type": "stream",
     "text": [
      "110\n",
      "3206\n"
     ]
    }
   ],
   "source": [
    "print(len(hsa_matches))\n",
    "print(len(non_hsa_matches))"
   ]
  },
  {
   "cell_type": "markdown",
   "metadata": {},
   "source": [
    "### Total Available Matches\n",
    "In total, there are 110 matches across the entire dataset of competitions in the Statsbomb free datasets.  Without having inspected the specifics, that feels about right.  It wouldn't do to have thousands of matches in this category.  More often, soccer is a low scoring game.  Achieving more than 5 goals with a difference of less than 3 is an uncommon result."
   ]
  },
  {
   "cell_type": "markdown",
   "metadata": {},
   "source": [
    "### Extracting Events\n",
    "All events are extracted and aggregated across all 110 HSA and the 110 non HSA matches in this analysis. "
   ]
  },
  {
   "cell_type": "code",
   "execution_count": 12,
   "metadata": {},
   "outputs": [],
   "source": [
    "# defining universal event extractor function\n",
    "def full_event_extract(match_ids):\n",
    "    '''Returns all events using the statsbomb library and the match list previously defined.\n",
    "    matchid = number or array of numbers containing matchid\n",
    "    '''\n",
    "    event_df = pd.DataFrame()\n",
    "    for i in match_ids:\n",
    "        event_df = pd.concat([sb.events(i),event_df])\n",
    "    return event_df"
   ]
  },
  {
   "cell_type": "code",
   "execution_count": 13,
   "metadata": {},
   "outputs": [
    {
     "name": "stdout",
     "output_type": "stream",
     "text": [
      "read CSV\n"
     ]
    }
   ],
   "source": [
    "try:\n",
    "    hsa_events_df = pd.read_csv('./data/hsa_events_df.csv')\n",
    "    print('read CSV')\n",
    "except:  # noqa: E722\n",
    "    hsa_events_df = (full_event_extract(hsa_matches)\n",
    "                    .dropna(axis=1, how='all')\n",
    "                    .assign(time = lambda df: pd.to_timedelta(df.timestamp))\n",
    "                    )\n",
    "    print('Used statsbomb API')\n",
    "    hsa_events_df.to_csv('./data/hsa_events_df.csv')"
   ]
  },
  {
   "cell_type": "code",
   "execution_count": 14,
   "metadata": {},
   "outputs": [
    {
     "name": "stdout",
     "output_type": "stream",
     "text": [
      "read CSV\n"
     ]
    }
   ],
   "source": [
    "try:\n",
    "    non_hsa_events_df = pd.read_csv('./data/non_hsa_events_df.csv')\n",
    "    print('read CSV')\n",
    "except:  # noqa: E722\n",
    "    np.random.seed(42)\n",
    "    non_hsa_events_df = (full_event_extract(np.random.choice(non_hsa_matches,size=110))\n",
    "                    .dropna(axis=1, how='all')\n",
    "                    .assign(time = lambda df: pd.to_timedelta(df.timestamp))\n",
    "                    )\n",
    "    print('Used statsbomb API')\n",
    "    non_hsa_events_df.to_csv('./data/non_hsa_events_df.csv')"
   ]
  },
  {
   "cell_type": "markdown",
   "metadata": {},
   "source": [
    "### Xt and Possession Chains\n",
    "Moving into more refined analysis, the possession chains which lead to goals will be evaluated to determine the difference between HSA games and Non HSA games.  Do the HSA games demonstrate longer chains? Is length based on the number of passes or the amount of time in possession before a shot occurs.  The focus for this analysis will be on chains which result in a shot or goal, since that is the primary focus of this analysis.\n",
    "\n",
    "Using the turtorial from MPL soccer, the expected threat matrix will be recreated and used to evaluate possessions in both the HSA and Non HSA games.  The Statsbomb data comes with possession chains highlighted, so the designation of chains has been taken care of as shown below.  "
   ]
  },
  {
   "cell_type": "code",
   "execution_count": 16,
   "metadata": {},
   "outputs": [
    {
     "data": {
      "text/html": [
       "<div>\n",
       "<style scoped>\n",
       "    .dataframe tbody tr th:only-of-type {\n",
       "        vertical-align: middle;\n",
       "    }\n",
       "\n",
       "    .dataframe tbody tr th {\n",
       "        vertical-align: top;\n",
       "    }\n",
       "\n",
       "    .dataframe thead th {\n",
       "        text-align: right;\n",
       "    }\n",
       "</style>\n",
       "<table border=\"1\" class=\"dataframe\">\n",
       "  <thead>\n",
       "    <tr style=\"text-align: right;\">\n",
       "      <th></th>\n",
       "      <th>index</th>\n",
       "      <th>possession</th>\n",
       "      <th>possession_team</th>\n",
       "      <th>type</th>\n",
       "      <th>location</th>\n",
       "      <th>shot_outcome</th>\n",
       "      <th>match_id</th>\n",
       "      <th>minute</th>\n",
       "      <th>period</th>\n",
       "      <th>timestamp</th>\n",
       "      <th>id</th>\n",
       "      <th>related_events</th>\n",
       "    </tr>\n",
       "  </thead>\n",
       "  <tbody>\n",
       "    <tr>\n",
       "      <th>6</th>\n",
       "      <td>5</td>\n",
       "      <td>2</td>\n",
       "      <td>Argentina Women's</td>\n",
       "      <td>Pass</td>\n",
       "      <td>[61.0, 40.1]</td>\n",
       "      <td>NaN</td>\n",
       "      <td>68338</td>\n",
       "      <td>0</td>\n",
       "      <td>1</td>\n",
       "      <td>00:00:00.240</td>\n",
       "      <td>541a0851-b8d8-40c1-94fa-7a691cfd5c71</td>\n",
       "      <td>['7d973b5e-9724-4474-9311-a599ea4cf5c6']</td>\n",
       "    </tr>\n",
       "    <tr>\n",
       "      <th>793</th>\n",
       "      <td>6</td>\n",
       "      <td>2</td>\n",
       "      <td>Argentina Women's</td>\n",
       "      <td>Ball Receipt*</td>\n",
       "      <td>[41.4, 36.0]</td>\n",
       "      <td>NaN</td>\n",
       "      <td>68338</td>\n",
       "      <td>0</td>\n",
       "      <td>1</td>\n",
       "      <td>00:00:01.574</td>\n",
       "      <td>7d973b5e-9724-4474-9311-a599ea4cf5c6</td>\n",
       "      <td>['541a0851-b8d8-40c1-94fa-7a691cfd5c71']</td>\n",
       "    </tr>\n",
       "    <tr>\n",
       "      <th>1499</th>\n",
       "      <td>7</td>\n",
       "      <td>2</td>\n",
       "      <td>Argentina Women's</td>\n",
       "      <td>Carry</td>\n",
       "      <td>[41.4, 36.0]</td>\n",
       "      <td>NaN</td>\n",
       "      <td>68338</td>\n",
       "      <td>0</td>\n",
       "      <td>1</td>\n",
       "      <td>00:00:01.574</td>\n",
       "      <td>62ad2742-4b2d-4c1c-9761-66eb9f2c4c7a</td>\n",
       "      <td>['25d41cf4-96d0-4781-9130-a43a376fd553', '7d97...</td>\n",
       "    </tr>\n",
       "  </tbody>\n",
       "</table>\n",
       "</div>"
      ],
      "text/plain": [
       "      index  possession    possession_team           type      location   \n",
       "6         5           2  Argentina Women's           Pass  [61.0, 40.1]  \\\n",
       "793       6           2  Argentina Women's  Ball Receipt*  [41.4, 36.0]   \n",
       "1499      7           2  Argentina Women's          Carry  [41.4, 36.0]   \n",
       "\n",
       "     shot_outcome  match_id  minute  period     timestamp   \n",
       "6             NaN     68338       0       1  00:00:00.240  \\\n",
       "793           NaN     68338       0       1  00:00:01.574   \n",
       "1499          NaN     68338       0       1  00:00:01.574   \n",
       "\n",
       "                                        id   \n",
       "6     541a0851-b8d8-40c1-94fa-7a691cfd5c71  \\\n",
       "793   7d973b5e-9724-4474-9311-a599ea4cf5c6   \n",
       "1499  62ad2742-4b2d-4c1c-9761-66eb9f2c4c7a   \n",
       "\n",
       "                                         related_events  \n",
       "6              ['7d973b5e-9724-4474-9311-a599ea4cf5c6']  \n",
       "793            ['541a0851-b8d8-40c1-94fa-7a691cfd5c71']  \n",
       "1499  ['25d41cf4-96d0-4781-9130-a43a376fd553', '7d97...  "
      ]
     },
     "execution_count": 16,
     "metadata": {},
     "output_type": "execute_result"
    }
   ],
   "source": [
    "(hsa_events_df\n",
    " .query(\"match_id==68338 and possession.isin([2,3,4])\")\n",
    " .loc[:,['index','possession','possession_team','type','location','shot_outcome','match_id','minute','period','timestamp','id','related_events']]\n",
    " .sort_values(by='index')\n",
    ").head(3)"
   ]
  },
  {
   "cell_type": "markdown",
   "metadata": {},
   "source": [
    "---\n",
    "## Xt Model\n",
    "Taken from MPLsoccer tutorial and reapplied to the games of interest for analysis.\n",
    "\n",
    "\n",
    "### The Grid\n",
    "Our first decision, is how to grid the soccer field. Here we copy the MPLsoccer setup and have 16 cells in the x-direction and 12 cells in the y-direction."
   ]
  },
  {
   "cell_type": "code",
   "execution_count": 17,
   "metadata": {},
   "outputs": [],
   "source": [
    "# Set up the grid\n",
    "bins = (16,12)"
   ]
  },
  {
   "cell_type": "markdown",
   "metadata": {},
   "source": [
    "Create a dataframe of the events using the column equivalents shown below: \n",
    "```cols = ['match_id', 'id', 'type_name', 'sub_type_name', 'player_name',\n",
    "        'x', 'y', 'end_x', 'end_y', 'outcome_name', 'shot_statsbomb_xg']```"
   ]
  },
  {
   "cell_type": "code",
   "execution_count": 55,
   "metadata": {
    "scrolled": false
   },
   "outputs": [],
   "source": [
    "hsa_xT_event_df = (hsa_events_df\n",
    " .loc[:,['match_id','id','type','player','location','pass_end_location','shot_outcome','shot_statsbomb_xg']]\n",
    " .query('type.isin([\"Carry\",\"Shot\",\"Pass\"])')\n",
    " .assign(goal = lambda df: np.where(df.shot_outcome==\"Goal\",1,0),\n",
    "         shoot = lambda df: np.where(df.type == \"Shot\",1,0),\n",
    "         move = lambda df: np.where(df.type != \"Shot\",1,0),\n",
    "         x = lambda df: df.location.apply(lambda x:eval(x)[0]),\n",
    "         y = lambda df: df.location.apply(lambda y:eval(y)[1]))\n",
    ")"
   ]
  },
  {
   "cell_type": "markdown",
   "metadata": {},
   "source": [
    "### Bin the data\n",
    "Calculate the probability of a shot, successful move (pass or carry), and goal (given a shot). Averaging the boolean columns (True = 1) and (False = 0) to give us the probability between zero and one."
   ]
  },
  {
   "cell_type": "code",
   "execution_count": 56,
   "metadata": {},
   "outputs": [],
   "source": [
    "pitch = mpl.Pitch(line_zorder=2)"
   ]
  },
  {
   "cell_type": "code",
   "execution_count": 58,
   "metadata": {},
   "outputs": [],
   "source": [
    "event=hsa_xT_event_df\n",
    "shot_probability = pitch.bin_statistic(event['x'], event['y'], values=event['shoot'],\n",
    "                                       statistic='mean', bins=bins)\n",
    "move_probability = pitch.bin_statistic(event['x'], event['y'], values=event['move'],\n",
    "                                       statistic='mean', bins=bins)\n",
    "goal_probability = pitch.bin_statistic(event.loc[lambda df: df.shoot==1, 'x'],\n",
    "                                       event.loc[lambda df: df.shoot==1, 'y'],\n",
    "                                       event.loc[lambda df: df.shoot==1, 'goal'],\n",
    "                                       statistic='mean', bins=bins)"
   ]
  },
  {
   "cell_type": "markdown",
   "metadata": {},
   "source": [
    "### Plot shot and move probability\n",
    "Move probabilities are the mirror of the shot probability. The shot_probability + goal_probability adds up to one for each grid cell, as we assume only these two event types occur when in possession."
   ]
  },
  {
   "cell_type": "code",
   "execution_count": 64,
   "metadata": {},
   "outputs": [
    {
     "data": {
      "image/png": "[encoded data removed]",
      "text/plain": [
       "<Figure size 640x480 with 1 Axes>"
      ]
     },
     "metadata": {},
     "output_type": "display_data"
    }
   ],
   "source": [
    "fig, ax = pitch.draw()\n",
    "shot_heatmap = pitch.heatmap(shot_probability, ax=ax)\n",
    "ax.set_title('Shot probability');"
   ]
  },
  {
   "cell_type": "code",
   "execution_count": 65,
   "metadata": {},
   "outputs": [
    {
     "data": {
      "image/png": "[encoded data removed]",
      "text/plain": [
       "<Figure size 640x480 with 1 Axes>"
      ]
     },
     "metadata": {},
     "output_type": "display_data"
    }
   ],
   "source": [
    "fig, ax = pitch.draw()\n",
    "move_heatmap = pitch.heatmap(move_probability, ax=ax)\n",
    "ax.set_title('Move (pass or carry) probability');"
   ]
  },
  {
   "cell_type": "markdown",
   "metadata": {},
   "source": [
    "### Plot goal probability\n",
    "This is the likelihood of scoring from a shot, versus the likelihood of shooting.  Earlier, the views were not based on scoring chance, but the attractiveness of a possition for shooting.  "
   ]
  },
  {
   "cell_type": "code",
   "execution_count": 68,
   "metadata": {},
   "outputs": [
    {
     "data": {
      "image/png": "[encoded data removed]",
      "text/plain": [
       "<Figure size 640x480 with 1 Axes>"
      ]
     },
     "metadata": {},
     "output_type": "display_data"
    }
   ],
   "source": [
    "fig, ax = pitch.draw()\n",
    "goal_heatmap = pitch.heatmap(goal_probability, ax=ax)\n",
    "ax.set_title('Goal Probability');"
   ]
  },
  {
   "cell_type": "code",
   "execution_count": null,
   "metadata": {},
   "outputs": [],
   "source": []
  }
 ],
 "metadata": {
  "kernelspec": {
   "display_name": "Python 3 (ipykernel)",
   "language": "python",
   "name": "python3"
  },
  "language_info": {
   "codemirror_mode": {
    "name": "ipython",
    "version": 3
   },
   "file_extension": ".py",
   "mimetype": "text/x-python",
   "name": "python",
   "nbconvert_exporter": "python",
   "pygments_lexer": "ipython3",
   "version": "3.11.0"
  }
 },
 "nbformat": 4,
 "nbformat_minor": 2
}
