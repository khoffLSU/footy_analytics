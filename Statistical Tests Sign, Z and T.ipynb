{
 "cells": [
  {
   "cell_type": "markdown",
   "id": "5bf66966",
   "metadata": {},
   "source": [
    "# Sign Test\n",
    "This tutorial demonstrates how to check for the equal size of two samples using the sign test. To do so, an example is provided in which it is checked to determine if Heung-Min Son shoots with both feet the same number of times.\n",
    "\n",
    "### Imports for the analysis\n",
    "These imports cover all parts of the turtorial and facilitate its entirety. It is good practice to move all imports to the top of the notebook to allow ease of processing by others who did not author the code base."
   ]
  },
  {
   "cell_type": "code",
   "execution_count": 1,
   "id": "5360ebb5",
   "metadata": {},
   "outputs": [],
   "source": [
    "# datawrangling and creation\n",
    "import pandas as pd\n",
    "import numpy as np\n",
    "import json\n",
    "\n",
    "# plotting\n",
    "import matplotlib.pyplot as plt\n",
    "\n",
    "#opening data\n",
    "import os\n",
    "import pathlib\n",
    "import warnings\n",
    "\n",
    "pd.options.mode.chained_assignment = None\n",
    "warnings.filterwarnings('ignore')"
   ]
  },
  {
   "cell_type": "markdown",
   "id": "8aac4d55",
   "metadata": {},
   "source": [
    "### Dataset\n",
    "This example uses WyScout data from 2017/18 Premier League season. To meet file size requirements of Github, the original turtorial had to open the the data from different files, but here the file was saved to a local directory and it is not being pushed to Github. Also, the example uses the file containing all players in the WyScout database."
   ]
  },
  {
   "cell_type": "code",
   "execution_count": 2,
   "id": "f9d8f1fc",
   "metadata": {},
   "outputs": [
    {
     "data": {
      "text/html": [
       "<div>\n",
       "<style scoped>\n",
       "    .dataframe tbody tr th:only-of-type {\n",
       "        vertical-align: middle;\n",
       "    }\n",
       "\n",
       "    .dataframe tbody tr th {\n",
       "        vertical-align: top;\n",
       "    }\n",
       "\n",
       "    .dataframe thead th {\n",
       "        text-align: right;\n",
       "    }\n",
       "</style>\n",
       "<table border=\"1\" class=\"dataframe\">\n",
       "  <thead>\n",
       "    <tr style=\"text-align: right;\">\n",
       "      <th></th>\n",
       "      <th>eventId</th>\n",
       "      <th>subEventName</th>\n",
       "      <th>tags</th>\n",
       "      <th>playerId</th>\n",
       "      <th>positions</th>\n",
       "      <th>matchId</th>\n",
       "      <th>eventName</th>\n",
       "      <th>teamId</th>\n",
       "      <th>matchPeriod</th>\n",
       "      <th>eventSec</th>\n",
       "      <th>subEventId</th>\n",
       "      <th>id</th>\n",
       "    </tr>\n",
       "  </thead>\n",
       "  <tbody>\n",
       "    <tr>\n",
       "      <th>0</th>\n",
       "      <td>8</td>\n",
       "      <td>Simple pass</td>\n",
       "      <td>[{'id': 1801}]</td>\n",
       "      <td>25413</td>\n",
       "      <td>[{'y': 49, 'x': 49}, {'y': 78, 'x': 31}]</td>\n",
       "      <td>2499719</td>\n",
       "      <td>Pass</td>\n",
       "      <td>1609</td>\n",
       "      <td>1H</td>\n",
       "      <td>2.758649</td>\n",
       "      <td>85</td>\n",
       "      <td>177959171</td>\n",
       "    </tr>\n",
       "    <tr>\n",
       "      <th>1</th>\n",
       "      <td>8</td>\n",
       "      <td>High pass</td>\n",
       "      <td>[{'id': 1801}]</td>\n",
       "      <td>370224</td>\n",
       "      <td>[{'y': 78, 'x': 31}, {'y': 75, 'x': 51}]</td>\n",
       "      <td>2499719</td>\n",
       "      <td>Pass</td>\n",
       "      <td>1609</td>\n",
       "      <td>1H</td>\n",
       "      <td>4.946850</td>\n",
       "      <td>83</td>\n",
       "      <td>177959172</td>\n",
       "    </tr>\n",
       "    <tr>\n",
       "      <th>2</th>\n",
       "      <td>8</td>\n",
       "      <td>Head pass</td>\n",
       "      <td>[{'id': 1801}]</td>\n",
       "      <td>3319</td>\n",
       "      <td>[{'y': 75, 'x': 51}, {'y': 71, 'x': 35}]</td>\n",
       "      <td>2499719</td>\n",
       "      <td>Pass</td>\n",
       "      <td>1609</td>\n",
       "      <td>1H</td>\n",
       "      <td>6.542188</td>\n",
       "      <td>82</td>\n",
       "      <td>177959173</td>\n",
       "    </tr>\n",
       "    <tr>\n",
       "      <th>3</th>\n",
       "      <td>8</td>\n",
       "      <td>Head pass</td>\n",
       "      <td>[{'id': 1801}]</td>\n",
       "      <td>120339</td>\n",
       "      <td>[{'y': 71, 'x': 35}, {'y': 95, 'x': 41}]</td>\n",
       "      <td>2499719</td>\n",
       "      <td>Pass</td>\n",
       "      <td>1609</td>\n",
       "      <td>1H</td>\n",
       "      <td>8.143395</td>\n",
       "      <td>82</td>\n",
       "      <td>177959174</td>\n",
       "    </tr>\n",
       "    <tr>\n",
       "      <th>4</th>\n",
       "      <td>8</td>\n",
       "      <td>Simple pass</td>\n",
       "      <td>[{'id': 1801}]</td>\n",
       "      <td>167145</td>\n",
       "      <td>[{'y': 95, 'x': 41}, {'y': 88, 'x': 72}]</td>\n",
       "      <td>2499719</td>\n",
       "      <td>Pass</td>\n",
       "      <td>1609</td>\n",
       "      <td>1H</td>\n",
       "      <td>10.302366</td>\n",
       "      <td>85</td>\n",
       "      <td>177959175</td>\n",
       "    </tr>\n",
       "  </tbody>\n",
       "</table>\n",
       "</div>"
      ],
      "text/plain": [
       "   eventId subEventName            tags  playerId   \n",
       "0        8  Simple pass  [{'id': 1801}]     25413  \\\n",
       "1        8    High pass  [{'id': 1801}]    370224   \n",
       "2        8    Head pass  [{'id': 1801}]      3319   \n",
       "3        8    Head pass  [{'id': 1801}]    120339   \n",
       "4        8  Simple pass  [{'id': 1801}]    167145   \n",
       "\n",
       "                                  positions  matchId eventName  teamId   \n",
       "0  [{'y': 49, 'x': 49}, {'y': 78, 'x': 31}]  2499719      Pass    1609  \\\n",
       "1  [{'y': 78, 'x': 31}, {'y': 75, 'x': 51}]  2499719      Pass    1609   \n",
       "2  [{'y': 75, 'x': 51}, {'y': 71, 'x': 35}]  2499719      Pass    1609   \n",
       "3  [{'y': 71, 'x': 35}, {'y': 95, 'x': 41}]  2499719      Pass    1609   \n",
       "4  [{'y': 95, 'x': 41}, {'y': 88, 'x': 72}]  2499719      Pass    1609   \n",
       "\n",
       "  matchPeriod   eventSec subEventId         id  \n",
       "0          1H   2.758649         85  177959171  \n",
       "1          1H   4.946850         83  177959172  \n",
       "2          1H   6.542188         82  177959173  \n",
       "3          1H   8.143395         82  177959174  \n",
       "4          1H  10.302366         85  177959175  "
      ]
     },
     "execution_count": 2,
     "metadata": {},
     "output_type": "execute_result"
    }
   ],
   "source": [
    "#open event data\n",
    "train = pd.DataFrame() # empty dataframe\n",
    "file_name = 'events_England.json'\n",
    "path = os.path.join(str(pathlib.Path().resolve()), 'data', file_name)\n",
    "with open(path) as f:\n",
    "    data = json.load(f) # use json library to load dataset\n",
    "train = pd.concat([train, pd.DataFrame(data)]) # add data to empty dataframe created earlier\n",
    "\n",
    "train.head()"
   ]
  },
  {
   "cell_type": "code",
   "execution_count": 3,
   "id": "820a7c76",
   "metadata": {},
   "outputs": [
    {
     "data": {
      "text/html": [
       "<div>\n",
       "<style scoped>\n",
       "    .dataframe tbody tr th:only-of-type {\n",
       "        vertical-align: middle;\n",
       "    }\n",
       "\n",
       "    .dataframe tbody tr th {\n",
       "        vertical-align: top;\n",
       "    }\n",
       "\n",
       "    .dataframe thead th {\n",
       "        text-align: right;\n",
       "    }\n",
       "</style>\n",
       "<table border=\"1\" class=\"dataframe\">\n",
       "  <thead>\n",
       "    <tr style=\"text-align: right;\">\n",
       "      <th></th>\n",
       "      <th>passportArea</th>\n",
       "      <th>weight</th>\n",
       "      <th>firstName</th>\n",
       "      <th>middleName</th>\n",
       "      <th>lastName</th>\n",
       "      <th>currentTeamId</th>\n",
       "      <th>birthDate</th>\n",
       "      <th>height</th>\n",
       "      <th>role</th>\n",
       "      <th>birthArea</th>\n",
       "      <th>wyId</th>\n",
       "      <th>foot</th>\n",
       "      <th>shortName</th>\n",
       "      <th>currentNationalTeamId</th>\n",
       "    </tr>\n",
       "  </thead>\n",
       "  <tbody>\n",
       "    <tr>\n",
       "      <th>0</th>\n",
       "      <td>{'name': 'Turkey', 'id': '792', 'alpha3code': ...</td>\n",
       "      <td>78</td>\n",
       "      <td>Harun</td>\n",
       "      <td></td>\n",
       "      <td>Tekin</td>\n",
       "      <td>4502</td>\n",
       "      <td>1989-06-17</td>\n",
       "      <td>187</td>\n",
       "      <td>{'code2': 'GK', 'code3': 'GKP', 'name': 'Goalk...</td>\n",
       "      <td>{'name': 'Turkey', 'id': '792', 'alpha3code': ...</td>\n",
       "      <td>32777</td>\n",
       "      <td>right</td>\n",
       "      <td>H. Tekin</td>\n",
       "      <td>4687</td>\n",
       "    </tr>\n",
       "    <tr>\n",
       "      <th>1</th>\n",
       "      <td>{'name': 'Senegal', 'id': '686', 'alpha3code':...</td>\n",
       "      <td>73</td>\n",
       "      <td>Malang</td>\n",
       "      <td></td>\n",
       "      <td>Sarr</td>\n",
       "      <td>3775</td>\n",
       "      <td>1999-01-23</td>\n",
       "      <td>182</td>\n",
       "      <td>{'code2': 'DF', 'code3': 'DEF', 'name': 'Defen...</td>\n",
       "      <td>{'name': 'France', 'id': '250', 'alpha3code': ...</td>\n",
       "      <td>393228</td>\n",
       "      <td>left</td>\n",
       "      <td>M. Sarr</td>\n",
       "      <td>4423</td>\n",
       "    </tr>\n",
       "  </tbody>\n",
       "</table>\n",
       "</div>"
      ],
      "text/plain": [
       "                                        passportArea  weight firstName   \n",
       "0  {'name': 'Turkey', 'id': '792', 'alpha3code': ...      78     Harun  \\\n",
       "1  {'name': 'Senegal', 'id': '686', 'alpha3code':...      73    Malang   \n",
       "\n",
       "  middleName lastName currentTeamId   birthDate  height   \n",
       "0               Tekin          4502  1989-06-17     187  \\\n",
       "1                Sarr          3775  1999-01-23     182   \n",
       "\n",
       "                                                role   \n",
       "0  {'code2': 'GK', 'code3': 'GKP', 'name': 'Goalk...  \\\n",
       "1  {'code2': 'DF', 'code3': 'DEF', 'name': 'Defen...   \n",
       "\n",
       "                                           birthArea    wyId   foot shortName   \n",
       "0  {'name': 'Turkey', 'id': '792', 'alpha3code': ...   32777  right  H. Tekin  \\\n",
       "1  {'name': 'France', 'id': '250', 'alpha3code': ...  393228   left   M. Sarr   \n",
       "\n",
       "  currentNationalTeamId  \n",
       "0                  4687  \n",
       "1                  4423  "
      ]
     },
     "execution_count": 3,
     "metadata": {},
     "output_type": "execute_result"
    }
   ],
   "source": [
    "# map to player data from Wyscout in local directory\n",
    "path = os.path.join(str(pathlib.Path().resolve()),\"data\", 'players.json')\n",
    "\n",
    "#open dataset with players\n",
    "with open(path) as f:\n",
    "    players = json.load(f)\n",
    "player_df = pd.DataFrame(players)\n",
    "\n",
    "player_df.head(2)"
   ]
  },
  {
   "cell_type": "markdown",
   "id": "3341a66a",
   "metadata": {},
   "source": [
    "### Preparing the dataset\n",
    "The steps associated with the datawrangling bulleted below:\n",
    "1. Check for Son’s id in the player database. \n",
    "2. Filter the events for shots. \n",
    "3. Keep only shots by Son. \n",
    "4. Look for the shots made with his left (ones with id = 401) and right (ones with id = 402) foot. \n",
    "5. Create a list with 1 values for shots with his left foot and -1 values for shots with his right foot."
   ]
  },
  {
   "cell_type": "code",
   "execution_count": 4,
   "id": "935e31db",
   "metadata": {},
   "outputs": [
    {
     "data": {
      "text/plain": [
       "14911"
      ]
     },
     "execution_count": 4,
     "metadata": {},
     "output_type": "execute_result"
    }
   ],
   "source": [
    "#look for son's id\n",
    "son_id = (player_df.loc[player_df[\"shortName\"] == \"Son Heung-Min\"][\"wyId\"].iloc[0])\n",
    "son_id"
   ]
  },
  {
   "cell_type": "code",
   "execution_count": 5,
   "id": "0df65b57",
   "metadata": {},
   "outputs": [
    {
     "data": {
      "text/plain": [
       "eventId                                                10\n",
       "subEventName                                         Shot\n",
       "tags            [{'id': 402}, {'id': 1216}, {'id': 1802}]\n",
       "playerId                                            14911\n",
       "positions          [{'y': 25, 'x': 87}, {'y': 0, 'x': 0}]\n",
       "matchId                                           2499746\n",
       "eventName                                            Shot\n",
       "teamId                                               1624\n",
       "matchPeriod                                            1H\n",
       "eventSec                                         41.02532\n",
       "subEventId                                            100\n",
       "id                                              182699784\n",
       "Name: 44012, dtype: object"
      ]
     },
     "execution_count": 5,
     "metadata": {},
     "output_type": "execute_result"
    }
   ],
   "source": [
    "# shots by son only\n",
    "son_shots = (train\n",
    "             .loc[lambda df: df['subEventName'] == 'Shot']\n",
    "             .loc[lambda df: df[\"playerId\"] == son_id]\n",
    "            )\n",
    "son_shots.iloc[0] # first entry"
   ]
  },
  {
   "cell_type": "code",
   "execution_count": 6,
   "id": "7122d884",
   "metadata": {},
   "outputs": [
    {
     "data": {
      "text/html": [
       "<div>\n",
       "<style scoped>\n",
       "    .dataframe tbody tr th:only-of-type {\n",
       "        vertical-align: middle;\n",
       "    }\n",
       "\n",
       "    .dataframe tbody tr th {\n",
       "        vertical-align: top;\n",
       "    }\n",
       "\n",
       "    .dataframe thead th {\n",
       "        text-align: right;\n",
       "    }\n",
       "</style>\n",
       "<table border=\"1\" class=\"dataframe\">\n",
       "  <thead>\n",
       "    <tr style=\"text-align: right;\">\n",
       "      <th></th>\n",
       "      <th>eventId</th>\n",
       "      <th>subEventName</th>\n",
       "      <th>tags</th>\n",
       "      <th>playerId</th>\n",
       "      <th>positions</th>\n",
       "      <th>matchId</th>\n",
       "      <th>eventName</th>\n",
       "      <th>teamId</th>\n",
       "      <th>matchPeriod</th>\n",
       "      <th>eventSec</th>\n",
       "      <th>subEventId</th>\n",
       "      <th>id</th>\n",
       "    </tr>\n",
       "  </thead>\n",
       "  <tbody>\n",
       "    <tr>\n",
       "      <th>76728</th>\n",
       "      <td>10</td>\n",
       "      <td>Shot</td>\n",
       "      <td>[{'id': 1901}, {'id': 401}, {'id': 201}, {'id'...</td>\n",
       "      <td>14911</td>\n",
       "      <td>[{'y': 28, 'x': 93}, {'y': 0, 'x': 0}]</td>\n",
       "      <td>2499766</td>\n",
       "      <td>Shot</td>\n",
       "      <td>1624</td>\n",
       "      <td>1H</td>\n",
       "      <td>628.104553</td>\n",
       "      <td>100</td>\n",
       "      <td>187932110</td>\n",
       "    </tr>\n",
       "    <tr>\n",
       "      <th>77705</th>\n",
       "      <td>10</td>\n",
       "      <td>Shot</td>\n",
       "      <td>[{'id': 401}, {'id': 1215}, {'id': 1802}]</td>\n",
       "      <td>14911</td>\n",
       "      <td>[{'y': 59, 'x': 83}, {'y': 0, 'x': 0}]</td>\n",
       "      <td>2499766</td>\n",
       "      <td>Shot</td>\n",
       "      <td>1624</td>\n",
       "      <td>2H</td>\n",
       "      <td>926.843545</td>\n",
       "      <td>100</td>\n",
       "      <td>187933200</td>\n",
       "    </tr>\n",
       "    <tr>\n",
       "      <th>129577</th>\n",
       "      <td>10</td>\n",
       "      <td>Shot</td>\n",
       "      <td>[{'id': 401}, {'id': 2101}, {'id': 1802}]</td>\n",
       "      <td>14911</td>\n",
       "      <td>[{'y': 74, 'x': 73}, {'y': 0, 'x': 0}]</td>\n",
       "      <td>2499797</td>\n",
       "      <td>Shot</td>\n",
       "      <td>1624</td>\n",
       "      <td>2H</td>\n",
       "      <td>319.143277</td>\n",
       "      <td>100</td>\n",
       "      <td>196336924</td>\n",
       "    </tr>\n",
       "    <tr>\n",
       "      <th>145545</th>\n",
       "      <td>10</td>\n",
       "      <td>Shot</td>\n",
       "      <td>[{'id': 101}, {'id': 401}, {'id': 201}, {'id':...</td>\n",
       "      <td>14911</td>\n",
       "      <td>[{'y': 41, 'x': 89}, {'y': 0, 'x': 0}]</td>\n",
       "      <td>2499807</td>\n",
       "      <td>Shot</td>\n",
       "      <td>1624</td>\n",
       "      <td>1H</td>\n",
       "      <td>678.442730</td>\n",
       "      <td>100</td>\n",
       "      <td>198837059</td>\n",
       "    </tr>\n",
       "    <tr>\n",
       "      <th>161051</th>\n",
       "      <td>10</td>\n",
       "      <td>Shot</td>\n",
       "      <td>[{'id': 401}, {'id': 2101}, {'id': 1802}]</td>\n",
       "      <td>14911</td>\n",
       "      <td>[{'y': 63, 'x': 80}, {'y': 100, 'x': 100}]</td>\n",
       "      <td>2499816</td>\n",
       "      <td>Shot</td>\n",
       "      <td>1624</td>\n",
       "      <td>1H</td>\n",
       "      <td>982.194329</td>\n",
       "      <td>100</td>\n",
       "      <td>200611755</td>\n",
       "    </tr>\n",
       "  </tbody>\n",
       "</table>\n",
       "</div>"
      ],
      "text/plain": [
       "        eventId subEventName   \n",
       "76728        10         Shot  \\\n",
       "77705        10         Shot   \n",
       "129577       10         Shot   \n",
       "145545       10         Shot   \n",
       "161051       10         Shot   \n",
       "\n",
       "                                                     tags  playerId   \n",
       "76728   [{'id': 1901}, {'id': 401}, {'id': 201}, {'id'...     14911  \\\n",
       "77705           [{'id': 401}, {'id': 1215}, {'id': 1802}]     14911   \n",
       "129577          [{'id': 401}, {'id': 2101}, {'id': 1802}]     14911   \n",
       "145545  [{'id': 101}, {'id': 401}, {'id': 201}, {'id':...     14911   \n",
       "161051          [{'id': 401}, {'id': 2101}, {'id': 1802}]     14911   \n",
       "\n",
       "                                         positions  matchId eventName  teamId   \n",
       "76728       [{'y': 28, 'x': 93}, {'y': 0, 'x': 0}]  2499766      Shot    1624  \\\n",
       "77705       [{'y': 59, 'x': 83}, {'y': 0, 'x': 0}]  2499766      Shot    1624   \n",
       "129577      [{'y': 74, 'x': 73}, {'y': 0, 'x': 0}]  2499797      Shot    1624   \n",
       "145545      [{'y': 41, 'x': 89}, {'y': 0, 'x': 0}]  2499807      Shot    1624   \n",
       "161051  [{'y': 63, 'x': 80}, {'y': 100, 'x': 100}]  2499816      Shot    1624   \n",
       "\n",
       "       matchPeriod    eventSec subEventId         id  \n",
       "76728           1H  628.104553        100  187932110  \n",
       "77705           2H  926.843545        100  187933200  \n",
       "129577          2H  319.143277        100  196336924  \n",
       "145545          1H  678.442730        100  198837059  \n",
       "161051          1H  982.194329        100  200611755  "
      ]
     },
     "execution_count": 6,
     "metadata": {},
     "output_type": "execute_result"
    }
   ],
   "source": [
    "#left leg shots\n",
    "lefty_shots = son_shots.loc[lambda df: df.apply(lambda x:{'id':401} in x.tags, axis = 1)]\n",
    "#right leg shots\n",
    "righty_shots = son_shots.loc[lambda df: df.apply(lambda x:{'id':402} in x.tags, axis = 1)]\n",
    "\n",
    "lefty_shots.head()"
   ]
  },
  {
   "cell_type": "code",
   "execution_count": 7,
   "id": "c3a6dd0b",
   "metadata": {},
   "outputs": [],
   "source": [
    "#create list with ones for left foot shots and -1 for right foot shots\n",
    "l = [1] * len(lefty_shots)\n",
    "l.extend([-1] * len(righty_shots))"
   ]
  },
  {
   "cell_type": "markdown",
   "id": "fc90eb3a",
   "metadata": {},
   "source": [
    "### Testing the hypothesis\n",
    "The hypothesis states that Heung-Min Son is ambidextrous. To evaluate this a sign test can be used. The significance level is set at 0.05 (**note:** this is a common set point). After conducting the hypothesis test, there’s no reason to reject the null hypothesis. Therefore, it is claimed that Son shoots with his right and left foot the same number of times."
   ]
  },
  {
   "cell_type": "code",
   "execution_count": 8,
   "id": "f2e7ff52",
   "metadata": {},
   "outputs": [],
   "source": [
    "from statsmodels.stats.descriptivestats import sign_test "
   ]
  },
  {
   "cell_type": "code",
   "execution_count": 9,
   "id": "b94f7bd9",
   "metadata": {},
   "outputs": [
    {
     "name": "stdout",
     "output_type": "stream",
     "text": [
      "P-value amounts to 0.142  - We do not reject null hypothesis - Heung-Min Son is ambidextrous\n"
     ]
    }
   ],
   "source": [
    "test = sign_test(l, mu0 = 0)\n",
    "pvalue = test[1]\n",
    "\n",
    "if pvalue < 0.05:\n",
    "    print(\"P-value amounts to\", str(pvalue)[:5], \n",
    "          \"- We reject null hypothesis - Heung-Min Son is not ambidextrous\")\n",
    "else:\n",
    "    print(\"P-value amounts to\", str(pvalue)[:5], \n",
    "          \" - We do not reject null hypothesis - Heung-Min Son is ambidextrous\")"
   ]
  },
  {
   "cell_type": "markdown",
   "id": "b09d47dc",
   "metadata": {},
   "source": [
    "After looking into the details of the sign test and hypothesis testing on Wikipedia understanding and explanation are still a bit fleeting.  \n",
    "\n",
    "- The sign test is a statistical method to test for *consistent differences* between pairs of observations, such as the weight of subjects before and after treatment.  \n",
    "- Hard to extrapolate to shots on a soccer field, but given that each shot is an observation perhaps...\n",
    "- There is an aspect of sidedness in this evaluation, which does not seem present in the statsmodel call\n",
    "\n",
    "Yet another website states, \"The Sign test is a non-parametric test that is used to test whether or not two groups are equally sized.\". This does seems a bit more related to the discussion of left and right foot shots.  It might answer a question stated something like, **\"Which foot (left or right) does Son prefer across a season of shots?\"**. Since it is unlikely that the number will be exact, you need to know if the amounts are statistically significant for either outcome: one foot (left of right) or both.\n"
   ]
  },
  {
   "cell_type": "markdown",
   "id": "cc1a078f",
   "metadata": {},
   "source": [
    "# Z and T Tests\n",
    "This tutorial demonstrates how to check if values are significantly different from each other using z-tests and t-tests.  Again, without the benefit of following along, this may slow progress a bit.  The code is fine, but understanding the application of the concept will be somewhat limited.\n",
    "\n",
    "### Dataset\n",
    "This example will also use WyScout data from 2017/18 Premier League season. In addition, it will use the file containing all teams in WyScout database.  The event data is already available, so only the team data will be added for the next tests."
   ]
  },
  {
   "cell_type": "code",
   "execution_count": 10,
   "id": "d7b5f09c",
   "metadata": {},
   "outputs": [
    {
     "data": {
      "text/html": [
       "<div>\n",
       "<style scoped>\n",
       "    .dataframe tbody tr th:only-of-type {\n",
       "        vertical-align: middle;\n",
       "    }\n",
       "\n",
       "    .dataframe tbody tr th {\n",
       "        vertical-align: top;\n",
       "    }\n",
       "\n",
       "    .dataframe thead th {\n",
       "        text-align: right;\n",
       "    }\n",
       "</style>\n",
       "<table border=\"1\" class=\"dataframe\">\n",
       "  <thead>\n",
       "    <tr style=\"text-align: right;\">\n",
       "      <th></th>\n",
       "      <th>city</th>\n",
       "      <th>name</th>\n",
       "      <th>teamId</th>\n",
       "      <th>officialName</th>\n",
       "      <th>area</th>\n",
       "      <th>type</th>\n",
       "    </tr>\n",
       "  </thead>\n",
       "  <tbody>\n",
       "    <tr>\n",
       "      <th>0</th>\n",
       "      <td>Newcastle upon Tyne</td>\n",
       "      <td>Newcastle United</td>\n",
       "      <td>1613</td>\n",
       "      <td>Newcastle United FC</td>\n",
       "      <td>{'name': 'England', 'id': '0', 'alpha3code': '...</td>\n",
       "      <td>club</td>\n",
       "    </tr>\n",
       "    <tr>\n",
       "      <th>1</th>\n",
       "      <td>Vigo</td>\n",
       "      <td>Celta de Vigo</td>\n",
       "      <td>692</td>\n",
       "      <td>Real Club Celta de Vigo</td>\n",
       "      <td>{'name': 'Spain', 'id': '724', 'alpha3code': '...</td>\n",
       "      <td>club</td>\n",
       "    </tr>\n",
       "  </tbody>\n",
       "</table>\n",
       "</div>"
      ],
      "text/plain": [
       "                  city              name  teamId             officialName   \n",
       "0  Newcastle upon Tyne  Newcastle United    1613      Newcastle United FC  \\\n",
       "1                 Vigo     Celta de Vigo     692  Real Club Celta de Vigo   \n",
       "\n",
       "                                                area  type  \n",
       "0  {'name': 'England', 'id': '0', 'alpha3code': '...  club  \n",
       "1  {'name': 'Spain', 'id': '724', 'alpha3code': '...  club  "
      ]
     },
     "execution_count": 10,
     "metadata": {},
     "output_type": "execute_result"
    }
   ],
   "source": [
    "#open team data\n",
    "path = os.path.join(str(pathlib.Path().resolve()),\"data\", 'teams.json')\n",
    "with open(path) as f:\n",
    "    teams = json.load(f)\n",
    "\n",
    "teams_df = pd.DataFrame(teams)\n",
    "teams_df = teams_df.rename(columns={\"wyId\": \"teamId\"})\n",
    "teams_df.head(2)"
   ]
  },
  {
   "cell_type": "markdown",
   "id": "bca4d731",
   "metadata": {},
   "source": [
    "## Preparing the dataset\n",
    "Interestingly, the specifics of what is being tested for were not mentioned in the Soccermatics examples, but here are the dataset preparation steps.  Will attempt to chain the datawrangling.\n",
    "\n",
    "1. Take out corners. \n",
    "2. Sum them by team. \n",
    "3. Merge it together with team dataframe to keep their names. \n",
    "4. Repeat the same, but calculate corners taken by each team per game."
   ]
  },
  {
   "cell_type": "code",
   "execution_count": 19,
   "id": "9aa3459a",
   "metadata": {},
   "outputs": [
    {
     "data": {
      "text/html": [
       "<div>\n",
       "<style scoped>\n",
       "    .dataframe tbody tr th:only-of-type {\n",
       "        vertical-align: middle;\n",
       "    }\n",
       "\n",
       "    .dataframe tbody tr th {\n",
       "        vertical-align: top;\n",
       "    }\n",
       "\n",
       "    .dataframe thead th {\n",
       "        text-align: right;\n",
       "    }\n",
       "</style>\n",
       "<table border=\"1\" class=\"dataframe\">\n",
       "  <thead>\n",
       "    <tr style=\"text-align: right;\">\n",
       "      <th></th>\n",
       "      <th>teamId</th>\n",
       "      <th>counts</th>\n",
       "      <th>name</th>\n",
       "    </tr>\n",
       "  </thead>\n",
       "  <tbody>\n",
       "    <tr>\n",
       "      <th>0</th>\n",
       "      <td>1609</td>\n",
       "      <td>225</td>\n",
       "      <td>Arsenal</td>\n",
       "    </tr>\n",
       "    <tr>\n",
       "      <th>1</th>\n",
       "      <td>1610</td>\n",
       "      <td>229</td>\n",
       "      <td>Chelsea</td>\n",
       "    </tr>\n",
       "  </tbody>\n",
       "</table>\n",
       "</div>"
      ],
      "text/plain": [
       "   teamId  counts     name\n",
       "0    1609     225  Arsenal\n",
       "1    1610     229  Chelsea"
      ]
     },
     "execution_count": 19,
     "metadata": {},
     "output_type": "execute_result"
    }
   ],
   "source": [
    "corners_by_team = (train\n",
    "                   .loc[lambda df: df[\"subEventName\"] == \"Corner\"] # get corners\n",
    "                   .groupby('teamId') # group by team\n",
    "                   .size() # sum the grouping by team\n",
    "                   .reset_index(name='counts') # reset the index\n",
    "                   .merge(teams_df[[\"name\", \"teamId\"]], how = \"left\", on = [\"teamId\"]) # join with team data\n",
    "                  )\n",
    "\n",
    "corners_by_team.head(2)"
   ]
  },
  {
   "cell_type": "code",
   "execution_count": 91,
   "id": "06236cf0",
   "metadata": {},
   "outputs": [
    {
     "data": {
      "text/html": [
       "<div>\n",
       "<style scoped>\n",
       "    .dataframe tbody tr th:only-of-type {\n",
       "        vertical-align: middle;\n",
       "    }\n",
       "\n",
       "    .dataframe tbody tr th {\n",
       "        vertical-align: top;\n",
       "    }\n",
       "\n",
       "    .dataframe thead th {\n",
       "        text-align: right;\n",
       "    }\n",
       "</style>\n",
       "<table border=\"1\" class=\"dataframe\">\n",
       "  <thead>\n",
       "    <tr style=\"text-align: right;\">\n",
       "      <th></th>\n",
       "      <th>teamId</th>\n",
       "      <th>matchId</th>\n",
       "      <th>counts</th>\n",
       "      <th>name</th>\n",
       "    </tr>\n",
       "  </thead>\n",
       "  <tbody>\n",
       "    <tr>\n",
       "      <th>0</th>\n",
       "      <td>1609</td>\n",
       "      <td>2499719</td>\n",
       "      <td>9</td>\n",
       "      <td>Arsenal</td>\n",
       "    </tr>\n",
       "    <tr>\n",
       "      <th>1</th>\n",
       "      <td>1609</td>\n",
       "      <td>2499735</td>\n",
       "      <td>9</td>\n",
       "      <td>Arsenal</td>\n",
       "    </tr>\n",
       "  </tbody>\n",
       "</table>\n",
       "</div>"
      ],
      "text/plain": [
       "   teamId  matchId  counts     name\n",
       "0    1609  2499719       9  Arsenal\n",
       "1    1609  2499735       9  Arsenal"
      ]
     },
     "execution_count": 91,
     "metadata": {},
     "output_type": "execute_result"
    }
   ],
   "source": [
    "corners_by_game = (train\n",
    "                   .loc[lambda df: df[\"subEventName\"] == \"Corner\"] # get corners\n",
    "                   .groupby(['teamId','matchId']) # group by team\n",
    "                   .size() # sum the grouping by team\n",
    "                   .reset_index(name='counts')\n",
    "                   .merge(teams_df[[\"name\", \"teamId\"]], how = \"left\", on = [\"teamId\"])\n",
    "                  )\n",
    "\n",
    "corners_by_game.head(2)"
   ]
  },
  {
   "cell_type": "markdown",
   "id": "66d5885b",
   "metadata": {},
   "source": [
    "## Two sided Z-test\n",
    "The two-sided z-test can be used to check if Manchester City take 8 corners per game. Set the significance level at 0.05 for this statistical evaluation. At this significance level, there’s no reason to reject the null hypothesis. Therefore, the hypothesis states/claims that City takes 8 corners per game."
   ]
  },
  {
   "cell_type": "code",
   "execution_count": 92,
   "id": "17f44dbc",
   "metadata": {},
   "outputs": [],
   "source": [
    "from statsmodels.stats.weightstats import ztest"
   ]
  },
  {
   "cell_type": "code",
   "execution_count": 93,
   "id": "cf83e3d3",
   "metadata": {},
   "outputs": [
    {
     "data": {
      "text/plain": [
       "array(['Arsenal', 'Chelsea', 'Manchester United', 'Liverpool',\n",
       "       'Newcastle United', 'Southampton', 'Everton', 'Tottenham Hotspur',\n",
       "       'Manchester City', 'West Bromwich Albion', 'Crystal Palace',\n",
       "       'Leicester City', 'West Ham United', 'Stoke City', 'Watford',\n",
       "       'Burnley', 'Brighton & Hove Albion', 'AFC Bournemouth',\n",
       "       'Huddersfield Town', 'Swansea City'], dtype=object)"
      ]
     },
     "execution_count": 93,
     "metadata": {},
     "output_type": "execute_result"
    }
   ],
   "source": [
    "corners_by_team.name.unique()"
   ]
  },
  {
   "cell_type": "code",
   "execution_count": 94,
   "id": "52840de3",
   "metadata": {},
   "outputs": [
    {
     "data": {
      "text/plain": [
       "298    10\n",
       "299     7\n",
       "Name: counts, dtype: int64"
      ]
     },
     "execution_count": 94,
     "metadata": {},
     "output_type": "execute_result"
    }
   ],
   "source": [
    "#get city corners\n",
    "mancity_corners = (corners_by_game\n",
    "                   .loc[lambda df: df[\"name\"] == 'Manchester City']\n",
    "                   [\"counts\"]\n",
    "                  )\n",
    "\n",
    "mancity_corners.head(2)"
   ]
  },
  {
   "cell_type": "code",
   "execution_count": 95,
   "id": "f221b394",
   "metadata": {},
   "outputs": [
    {
     "name": "stdout",
     "output_type": "stream",
     "text": [
      "P-value = 0.34703298713007624. We do not reject null hypothesis - Manchester City take 8 corners per game\n"
     ]
    }
   ],
   "source": [
    "#test the hypothesis\n",
    "t, pvalue = ztest(mancity_corners,  value=8)\n",
    "\n",
    "#checking outcome\n",
    "if pvalue < 0.05:\n",
    "    print(f\"P-value = {pvalue}. We reject null hypothesis - Manchester City do not take 8 corners per game\")\n",
    "else:\n",
    "    print(f\"P-value = {pvalue}. We do not reject null hypothesis - Manchester City take 8 corners per game\")"
   ]
  },
  {
   "cell_type": "markdown",
   "id": "c2b2afc0",
   "metadata": {},
   "source": [
    "## One-sided z-test\n",
    "Use one-sided z-test to check if Manchester City take more than 6 corners per game. Set the significance level at 0.05. At this significance level, we reject the null hypothesis. Therefore, it is claimed that City takes more than 6 corners per game."
   ]
  },
  {
   "cell_type": "code",
   "execution_count": 105,
   "id": "5a617297",
   "metadata": {},
   "outputs": [
    {
     "name": "stdout",
     "output_type": "stream",
     "text": [
      "P-value = 0.0023931156479123942. We reject null hypothesis - Manchester City take more than 6 corners per game\n"
     ]
    }
   ],
   "source": [
    "t, pvalue = ztest(mancity_corners,  value=6, alternative = \"larger\")\n",
    "if pvalue < 0.05:\n",
    "    print(f\"P-value = {pvalue}. We reject null hypothesis - Manchester City take more than 6 corners per game\")\n",
    "else:\n",
    "    print(f\"P-value = {pvalue}. We do not reject null hypothesis - Manchester City do not take 6 or more corners per game\")\n"
   ]
  },
  {
   "cell_type": "markdown",
   "id": "ea121135",
   "metadata": {},
   "source": [
    "## Exploring the data\n",
    "As an extension of this test, this will be an exploration of the data based on corners per game data frame created above.  Here the intent is to plot out the data."
   ]
  },
  {
   "cell_type": "code",
   "execution_count": 96,
   "id": "6118ff6f",
   "metadata": {},
   "outputs": [],
   "source": [
    "import matplotlib.pyplot as plt"
   ]
  },
  {
   "cell_type": "code",
   "execution_count": 98,
   "id": "b4289d00",
   "metadata": {},
   "outputs": [
    {
     "data": {
      "text/plain": [
       "<Axes: >"
      ]
     },
     "execution_count": 98,
     "metadata": {},
     "output_type": "execute_result"
    },
    {
     "data": {
      "image/png": "[encoded data removed]",
      "text/plain": [
       "<Figure size 640x480 with 1 Axes>"
      ]
     },
     "metadata": {},
     "output_type": "display_data"
    }
   ],
   "source": [
    "(corners_by_game\n",
    " .loc[lambda df: df.name.isin(['Manchester City'])]\n",
    " .loc[:,['counts','name']]\n",
    " .plot.box()\n",
    ")"
   ]
  },
  {
   "cell_type": "code",
   "execution_count": 101,
   "id": "6829cb52",
   "metadata": {},
   "outputs": [
    {
     "data": {
      "text/plain": [
       "7.5"
      ]
     },
     "execution_count": 101,
     "metadata": {},
     "output_type": "execute_result"
    }
   ],
   "source": [
    "mancity_corners.mean()"
   ]
  },
  {
   "cell_type": "code",
   "execution_count": 102,
   "id": "63af51e9",
   "metadata": {},
   "outputs": [
    {
     "data": {
      "text/plain": [
       "7.5"
      ]
     },
     "execution_count": 102,
     "metadata": {},
     "output_type": "execute_result"
    }
   ],
   "source": [
    "mancity_corners.median()"
   ]
  },
  {
   "cell_type": "code",
   "execution_count": 104,
   "id": "a591b6d6",
   "metadata": {},
   "outputs": [
    {
     "data": {
      "text/plain": [
       "count    38.000000\n",
       "mean      7.500000\n",
       "std       3.277689\n",
       "min       1.000000\n",
       "25%       5.000000\n",
       "50%       7.500000\n",
       "75%       9.000000\n",
       "max      19.000000\n",
       "Name: counts, dtype: float64"
      ]
     },
     "execution_count": 104,
     "metadata": {},
     "output_type": "execute_result"
    }
   ],
   "source": [
    "mancity_corners.describe()"
   ]
  },
  {
   "cell_type": "markdown",
   "id": "47c7887f",
   "metadata": {},
   "source": []
  }
 ],
 "metadata": {
  "kernelspec": {
   "display_name": "Python 3 (ipykernel)",
   "language": "python",
   "name": "python3"
  },
  "language_info": {
   "codemirror_mode": {
    "name": "ipython",
    "version": 3
   },
   "file_extension": ".py",
   "mimetype": "text/x-python",
   "name": "python",
   "nbconvert_exporter": "python",
   "pygments_lexer": "ipython3",
   "version": "3.11.0"
  }
 },
 "nbformat": 4,
 "nbformat_minor": 5
}
