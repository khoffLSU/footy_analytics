{
 "cells": [
  {
   "cell_type": "markdown",
   "id": "d7d164da",
   "metadata": {},
   "source": [
    "## Imports\n",
    "There are just a few imports for this analysis, but this version will deviate from the Soccermatics approach due to the mplsoccer library throwing and error when making a call to Statsbomb.  Instead, the statsbomb data will be called directly for the dataframe."
   ]
  },
  {
   "cell_type": "code",
   "execution_count": 1,
   "id": "8a8f928b",
   "metadata": {},
   "outputs": [],
   "source": [
    "import matplotlib.pyplot as plt\n",
    "import numpy as np\n",
    "from mplsoccer import Pitch, Sbopen, VerticalPitch\n",
    "from statsbombpy import sb"
   ]
  },
  {
   "cell_type": "markdown",
   "id": "6705e53e",
   "metadata": {},
   "source": [
    "## Opening the dataset\n",
    "Using the sb parser in place of SBopen in mplsoccer the event data is pulled out. Calling on the event level data and inputting the id of the game as a parameter loads the game data. The event data is stored in a dataframe df. From this dataframe take out the names of the two teams. Then, filter the dataframe so that only shots are left in the events."
   ]
  },
  {
   "cell_type": "code",
   "execution_count": 6,
   "id": "6cde55d9",
   "metadata": {},
   "outputs": [
    {
     "data": {
      "text/plain": [
       "dict_keys(['starting_xis', 'half_starts', 'passes', 'ball_receipts', 'carrys', 'pressures', 'ball_recoverys', 'clearances', 'blocks', 'dispossesseds', 'duels', 'dribbled_pasts', 'dribbles', 'interceptions', 'goal_keepers', 'miscontrols', 'foul_committeds', 'foul_wons', 'injury_stoppages', 'errors', 'shots', 'substitutions', 'half_ends', 'tactical_shifts', 'bad_behaviours'])"
      ]
     },
     "execution_count": 6,
     "metadata": {},
     "output_type": "execute_result"
    }
   ],
   "source": [
    "# get event data\n",
    "event_lib = sb.events(match_id=69301, split=True, flatten_attrs=False)\n",
    "event_lib.keys()"
   ]
  },
  {
   "cell_type": "code",
   "execution_count": 14,
   "id": "dbb7104e",
   "metadata": {},
   "outputs": [
    {
     "data": {
      "text/html": [
       "<div>\n",
       "<style scoped>\n",
       "    .dataframe tbody tr th:only-of-type {\n",
       "        vertical-align: middle;\n",
       "    }\n",
       "\n",
       "    .dataframe tbody tr th {\n",
       "        vertical-align: top;\n",
       "    }\n",
       "\n",
       "    .dataframe thead th {\n",
       "        text-align: right;\n",
       "    }\n",
       "</style>\n",
       "<table border=\"1\" class=\"dataframe\">\n",
       "  <thead>\n",
       "    <tr style=\"text-align: right;\">\n",
       "      <th></th>\n",
       "      <th>id</th>\n",
       "      <th>index</th>\n",
       "      <th>period</th>\n",
       "      <th>timestamp</th>\n",
       "      <th>minute</th>\n",
       "      <th>second</th>\n",
       "      <th>type</th>\n",
       "      <th>possession</th>\n",
       "      <th>possession_team</th>\n",
       "      <th>play_pattern</th>\n",
       "      <th>...</th>\n",
       "      <th>position</th>\n",
       "      <th>location</th>\n",
       "      <th>duration</th>\n",
       "      <th>related_events</th>\n",
       "      <th>shot</th>\n",
       "      <th>match_id</th>\n",
       "      <th>possession_team_id</th>\n",
       "      <th>team_id</th>\n",
       "      <th>player_id</th>\n",
       "      <th>out</th>\n",
       "    </tr>\n",
       "  </thead>\n",
       "  <tbody>\n",
       "    <tr>\n",
       "      <th>0</th>\n",
       "      <td>f158cbc0-a7a1-4787-8f73-15c66ae55764</td>\n",
       "      <td>340</td>\n",
       "      <td>1</td>\n",
       "      <td>00:10:24.396</td>\n",
       "      <td>10</td>\n",
       "      <td>24</td>\n",
       "      <td>Shot</td>\n",
       "      <td>18</td>\n",
       "      <td>Sweden Women's</td>\n",
       "      <td>From Free Kick</td>\n",
       "      <td>...</td>\n",
       "      <td>Center Attacking Midfield</td>\n",
       "      <td>[104.7, 45.5]</td>\n",
       "      <td>1.342346</td>\n",
       "      <td>[034cfcf5-cc65-4850-9134-32c87320bad9]</td>\n",
       "      <td>{'statsbomb_xg': 0.1051876, 'end_location': [1...</td>\n",
       "      <td>69301</td>\n",
       "      <td>858</td>\n",
       "      <td>858</td>\n",
       "      <td>10220</td>\n",
       "      <td>NaN</td>\n",
       "    </tr>\n",
       "    <tr>\n",
       "      <th>1</th>\n",
       "      <td>de5c41c5-9200-439e-b051-bfe2016d689a</td>\n",
       "      <td>531</td>\n",
       "      <td>1</td>\n",
       "      <td>00:15:28.174</td>\n",
       "      <td>15</td>\n",
       "      <td>28</td>\n",
       "      <td>Shot</td>\n",
       "      <td>25</td>\n",
       "      <td>Sweden Women's</td>\n",
       "      <td>From Free Kick</td>\n",
       "      <td>...</td>\n",
       "      <td>Right Wing</td>\n",
       "      <td>[110.9, 53.1]</td>\n",
       "      <td>0.472900</td>\n",
       "      <td>[beb4be84-907c-4f48-93b2-69310e6af8fd]</td>\n",
       "      <td>{'statsbomb_xg': 0.039003637, 'end_location': ...</td>\n",
       "      <td>69301</td>\n",
       "      <td>858</td>\n",
       "      <td>858</td>\n",
       "      <td>13881</td>\n",
       "      <td>NaN</td>\n",
       "    </tr>\n",
       "  </tbody>\n",
       "</table>\n",
       "<p>2 rows × 22 columns</p>\n",
       "</div>"
      ],
      "text/plain": [
       "                                     id  index  period     timestamp  minute   \n",
       "0  f158cbc0-a7a1-4787-8f73-15c66ae55764    340       1  00:10:24.396      10  \\\n",
       "1  de5c41c5-9200-439e-b051-bfe2016d689a    531       1  00:15:28.174      15   \n",
       "\n",
       "   second  type  possession possession_team    play_pattern  ...   \n",
       "0      24  Shot          18  Sweden Women's  From Free Kick  ...  \\\n",
       "1      28  Shot          25  Sweden Women's  From Free Kick  ...   \n",
       "\n",
       "                    position       location  duration   \n",
       "0  Center Attacking Midfield  [104.7, 45.5]  1.342346  \\\n",
       "1                 Right Wing  [110.9, 53.1]  0.472900   \n",
       "\n",
       "                           related_events   \n",
       "0  [034cfcf5-cc65-4850-9134-32c87320bad9]  \\\n",
       "1  [beb4be84-907c-4f48-93b2-69310e6af8fd]   \n",
       "\n",
       "                                                shot match_id   \n",
       "0  {'statsbomb_xg': 0.1051876, 'end_location': [1...    69301  \\\n",
       "1  {'statsbomb_xg': 0.039003637, 'end_location': ...    69301   \n",
       "\n",
       "  possession_team_id  team_id  player_id  out  \n",
       "0                858      858      10220  NaN  \n",
       "1                858      858      13881  NaN  \n",
       "\n",
       "[2 rows x 22 columns]"
      ]
     },
     "execution_count": 14,
     "metadata": {},
     "output_type": "execute_result"
    }
   ],
   "source": [
    "shots = event_lib['shots']\n",
    "shots.head(2)"
   ]
  },
  {
   "cell_type": "code",
   "execution_count": 15,
   "id": "1ebd3b37",
   "metadata": {},
   "outputs": [
    {
     "name": "stdout",
     "output_type": "stream",
     "text": [
      "Sweden Women's England Women's\n"
     ]
    }
   ],
   "source": [
    "#get team names\n",
    "team1, team2 = shots.possession_team.unique()\n",
    "print(team1, team2)"
   ]
  },
  {
   "cell_type": "code",
   "execution_count": 16,
   "id": "6a0192bf",
   "metadata": {},
   "outputs": [],
   "source": [
    "shots_id = (shots.set_index('id'))"
   ]
  },
  {
   "cell_type": "code",
   "execution_count": null,
   "id": "f89e7655",
   "metadata": {},
   "outputs": [],
   "source": []
  }
 ],
 "metadata": {
  "kernelspec": {
   "display_name": "Python 3 (ipykernel)",
   "language": "python",
   "name": "python3"
  },
  "language_info": {
   "codemirror_mode": {
    "name": "ipython",
    "version": 3
   },
   "file_extension": ".py",
   "mimetype": "text/x-python",
   "name": "python",
   "nbconvert_exporter": "python",
   "pygments_lexer": "ipython3",
   "version": "3.11.0"
  }
 },
 "nbformat": 4,
 "nbformat_minor": 5
}
