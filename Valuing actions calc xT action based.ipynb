{
 "cells": [
  {
   "cell_type": "markdown",
   "id": "edab5196",
   "metadata": {},
   "source": [
    "### Calculating xT (action-based)\n",
    "Calculate action based Expected Threat using the previously created possession chains.  This will leverage a prepared dataset, but the created dataframe in the prior section could have been leveraged for this scope.\n",
    "\n",
    "### Opening the dataset\n",
    "Open the data. It is the file created in the Possesion Chain segment, but saved and reloaded. The files are available on the github repository. There were prepared using the script from the previous section."
   ]
  },
  {
   "cell_type": "code",
   "execution_count": 1,
   "id": "e42311a2",
   "metadata": {},
   "outputs": [],
   "source": [
    "import pandas as pd\n",
    "import numpy as np\n",
    "import matplotlib.pyplot as plt\n",
    "import json\n",
    "\n",
    "import os\n",
    "import pathlib\n",
    "import warnings\n",
    "from joblib import load\n",
    "from mplsoccer import Pitch\n",
    "\n",
    "pd.options.mode.chained_assignment = None\n",
    "warnings.filterwarnings('ignore')"
   ]
  },
  {
   "cell_type": "code",
   "execution_count": 2,
   "id": "62316909",
   "metadata": {},
   "outputs": [],
   "source": [
    "from itertools import combinations_with_replacement\n",
    "from sklearn.linear_model import LinearRegression"
   ]
  },
  {
   "cell_type": "code",
   "execution_count": 3,
   "id": "e5fcc881",
   "metadata": {},
   "outputs": [],
   "source": [
    "df = pd.DataFrame()\n",
    "for i in range(11):\n",
    "    file_name = 'possession_chains_England' + str(i+1) + '.json'\n",
    "    path = os.path.join(str(pathlib.Path().resolve().parents[0]), 'footy_analytics', 'data', file_name)\n",
    "    with open(path) as f:\n",
    "        data = json.load(f)\n",
    "    df = pd.concat([df, pd.DataFrame(data)], ignore_index = True)\n",
    "df = df.reset_index()"
   ]
  },
  {
   "cell_type": "code",
   "execution_count": 4,
   "id": "91f7d9ec",
   "metadata": {},
   "outputs": [
    {
     "data": {
      "text/html": [
       "<div>\n",
       "<style scoped>\n",
       "    .dataframe tbody tr th:only-of-type {\n",
       "        vertical-align: middle;\n",
       "    }\n",
       "\n",
       "    .dataframe tbody tr th {\n",
       "        vertical-align: top;\n",
       "    }\n",
       "\n",
       "    .dataframe thead th {\n",
       "        text-align: right;\n",
       "    }\n",
       "</style>\n",
       "<table border=\"1\" class=\"dataframe\">\n",
       "  <thead>\n",
       "    <tr style=\"text-align: right;\">\n",
       "      <th></th>\n",
       "      <th>level_0</th>\n",
       "      <th>index</th>\n",
       "      <th>eventId</th>\n",
       "      <th>subEventName</th>\n",
       "      <th>tags</th>\n",
       "      <th>playerId</th>\n",
       "      <th>positions</th>\n",
       "      <th>matchId</th>\n",
       "      <th>eventName</th>\n",
       "      <th>teamId</th>\n",
       "      <th>...</th>\n",
       "      <th>possesion_chain</th>\n",
       "      <th>possesion_chain_team</th>\n",
       "      <th>xG</th>\n",
       "      <th>shot_end</th>\n",
       "      <th>x0</th>\n",
       "      <th>c0</th>\n",
       "      <th>x1</th>\n",
       "      <th>c1</th>\n",
       "      <th>y0</th>\n",
       "      <th>y1</th>\n",
       "    </tr>\n",
       "  </thead>\n",
       "  <tbody>\n",
       "    <tr>\n",
       "      <th>164988</th>\n",
       "      <td>164988</td>\n",
       "      <td>42612</td>\n",
       "      <td>3</td>\n",
       "      <td>Throw in</td>\n",
       "      <td>[{'id': 1801}]</td>\n",
       "      <td>340</td>\n",
       "      <td>[{'y': 0, 'x': 19}, {'y': 6, 'x': 41}]</td>\n",
       "      <td>2499863</td>\n",
       "      <td>Free Kick</td>\n",
       "      <td>1623</td>\n",
       "      <td>...</td>\n",
       "      <td>42427</td>\n",
       "      <td>1623</td>\n",
       "      <td>0.000000</td>\n",
       "      <td>0</td>\n",
       "      <td>19.95</td>\n",
       "      <td>34.00</td>\n",
       "      <td>43.05</td>\n",
       "      <td>29.92</td>\n",
       "      <td>68.00</td>\n",
       "      <td>63.92</td>\n",
       "    </tr>\n",
       "    <tr>\n",
       "      <th>14977</th>\n",
       "      <td>14977</td>\n",
       "      <td>22289</td>\n",
       "      <td>8</td>\n",
       "      <td>Simple pass</td>\n",
       "      <td>[{'id': 1801}]</td>\n",
       "      <td>64966</td>\n",
       "      <td>[{'y': 6, 'x': 82}, {'y': 7, 'x': 80}]</td>\n",
       "      <td>2499732</td>\n",
       "      <td>Pass</td>\n",
       "      <td>1651</td>\n",
       "      <td>...</td>\n",
       "      <td>3900</td>\n",
       "      <td>1651</td>\n",
       "      <td>0.009225</td>\n",
       "      <td>1</td>\n",
       "      <td>86.10</td>\n",
       "      <td>29.92</td>\n",
       "      <td>84.00</td>\n",
       "      <td>29.24</td>\n",
       "      <td>63.92</td>\n",
       "      <td>63.24</td>\n",
       "    </tr>\n",
       "    <tr>\n",
       "      <th>206343</th>\n",
       "      <td>206343</td>\n",
       "      <td>3766</td>\n",
       "      <td>8</td>\n",
       "      <td>Simple pass</td>\n",
       "      <td>[{'id': 1801}]</td>\n",
       "      <td>8514</td>\n",
       "      <td>[{'y': 55, 'x': 11}, {'y': 27, 'x': 71}]</td>\n",
       "      <td>2499899</td>\n",
       "      <td>Pass</td>\n",
       "      <td>1612</td>\n",
       "      <td>...</td>\n",
       "      <td>53146</td>\n",
       "      <td>1612</td>\n",
       "      <td>0.000000</td>\n",
       "      <td>0</td>\n",
       "      <td>11.55</td>\n",
       "      <td>3.40</td>\n",
       "      <td>74.55</td>\n",
       "      <td>15.64</td>\n",
       "      <td>30.60</td>\n",
       "      <td>49.64</td>\n",
       "    </tr>\n",
       "  </tbody>\n",
       "</table>\n",
       "<p>3 rows × 27 columns</p>\n",
       "</div>"
      ],
      "text/plain": [
       "        level_0  index  eventId subEventName            tags  playerId   \n",
       "164988   164988  42612        3     Throw in  [{'id': 1801}]       340  \\\n",
       "14977     14977  22289        8  Simple pass  [{'id': 1801}]     64966   \n",
       "206343   206343   3766        8  Simple pass  [{'id': 1801}]      8514   \n",
       "\n",
       "                                       positions  matchId  eventName  teamId   \n",
       "164988    [{'y': 0, 'x': 19}, {'y': 6, 'x': 41}]  2499863  Free Kick    1623  \\\n",
       "14977     [{'y': 6, 'x': 82}, {'y': 7, 'x': 80}]  2499732       Pass    1651   \n",
       "206343  [{'y': 55, 'x': 11}, {'y': 27, 'x': 71}]  2499899       Pass    1612   \n",
       "\n",
       "        ... possesion_chain  possesion_chain_team        xG  shot_end     x0   \n",
       "164988  ...           42427                  1623  0.000000         0  19.95  \\\n",
       "14977   ...            3900                  1651  0.009225         1  86.10   \n",
       "206343  ...           53146                  1612  0.000000         0  11.55   \n",
       "\n",
       "           c0     x1     c1     y0     y1  \n",
       "164988  34.00  43.05  29.92  68.00  63.92  \n",
       "14977   29.92  84.00  29.24  63.92  63.24  \n",
       "206343   3.40  74.55  15.64  30.60  49.64  \n",
       "\n",
       "[3 rows x 27 columns]"
      ]
     },
     "execution_count": 4,
     "metadata": {},
     "output_type": "execute_result"
    }
   ],
   "source": [
    "df.sample(3)"
   ]
  },
  {
   "cell_type": "markdown",
   "id": "761f54c0",
   "metadata": {},
   "source": [
    "### Preparing variables for models\n",
    "The models will use all non-linear combinations of the starting and ending x coordinate and c (distance from the middle of the pitch). Create combinations with replacement of these variables - to get their non-linear transfomations. In the next step, multiply the columns in the combination and create a model with the output."
   ]
  },
  {
   "cell_type": "code",
   "execution_count": 5,
   "id": "12757ca4",
   "metadata": {},
   "outputs": [],
   "source": [
    "def create_model_combo_cols(df=df):\n",
    "    '''Create column combinations from x0,x1, c0, and c1\n",
    "     ---\n",
    "     x0 = starting x position\n",
    "     x1 = finishing x position on field\n",
    "     c0 = starting distance from center of field\n",
    "     c1 = finishing distance from center of field\n",
    "    '''\n",
    "    var = [\"x0\", \"x1\", \"c0\", \"c1\"] # column name placeholders\n",
    "    inputs = []\n",
    "\n",
    "    for v in range(1,4):\n",
    "        inputs.extend(combinations_with_replacement(var, v))\n",
    "    \n",
    "    for i in inputs:\n",
    "        if len(i) > 1:\n",
    "            column = ''\n",
    "            x = 1\n",
    "            for c in i:\n",
    "                column += c\n",
    "                x = x*df[c]\n",
    "            df[column] = x\n",
    "            var.append(column)\n",
    "    return var,inputs"
   ]
  },
  {
   "cell_type": "code",
   "execution_count": 6,
   "id": "06755064",
   "metadata": {},
   "outputs": [],
   "source": [
    "v,i = create_model_combo_cols(df)"
   ]
  },
  {
   "cell_type": "code",
   "execution_count": 7,
   "id": "9e640ff7",
   "metadata": {},
   "outputs": [
    {
     "data": {
      "text/html": [
       "<div>\n",
       "<style scoped>\n",
       "    .dataframe tbody tr th:only-of-type {\n",
       "        vertical-align: middle;\n",
       "    }\n",
       "\n",
       "    .dataframe tbody tr th {\n",
       "        vertical-align: top;\n",
       "    }\n",
       "\n",
       "    .dataframe thead th {\n",
       "        text-align: right;\n",
       "    }\n",
       "</style>\n",
       "<table border=\"1\" class=\"dataframe\">\n",
       "  <thead>\n",
       "    <tr style=\"text-align: right;\">\n",
       "      <th></th>\n",
       "      <th>c0c0c1</th>\n",
       "      <th>c0c1c1</th>\n",
       "      <th>c1c1c1</th>\n",
       "    </tr>\n",
       "  </thead>\n",
       "  <tbody>\n",
       "    <tr>\n",
       "      <th>0</th>\n",
       "      <td>8.804096</td>\n",
       "      <td>246.514688</td>\n",
       "      <td>6902.411264</td>\n",
       "    </tr>\n",
       "    <tr>\n",
       "      <th>1</th>\n",
       "      <td>6162.867200</td>\n",
       "      <td>5502.560000</td>\n",
       "      <td>4913.000000</td>\n",
       "    </tr>\n",
       "    <tr>\n",
       "      <th>2</th>\n",
       "      <td>4126.920000</td>\n",
       "      <td>3466.612800</td>\n",
       "      <td>2911.954752</td>\n",
       "    </tr>\n",
       "  </tbody>\n",
       "</table>\n",
       "</div>"
      ],
      "text/plain": [
       "        c0c0c1       c0c1c1       c1c1c1\n",
       "0     8.804096   246.514688  6902.411264\n",
       "1  6162.867200  5502.560000  4913.000000\n",
       "2  4126.920000  3466.612800  2911.954752"
      ]
     },
     "execution_count": 7,
     "metadata": {},
     "output_type": "execute_result"
    }
   ],
   "source": [
    "# investigate original and created column combinations\n",
    "df[v[-3:]].head(3)"
   ]
  },
  {
   "cell_type": "markdown",
   "id": "7531599d",
   "metadata": {},
   "source": [
    "### Calculating action-based Expected Threat values for passes\n",
    "To predict the outcome of a shot requires training a model (XGB classifier) on the Bundesliga dataset. In the code, the model is saved in the file. It was trained using the xgboost library version 1.6.2. Training steps are provided, but commented out. \n",
    "\n",
    "Using it allows predicting the probability of a chain ending with a shot. Then, on chains ending with a shot, fit a linear regression to calculate the probability that a shot ended with a goal. Product of these 2 values is the action-based Expected Threat statistic.\n",
    "1. Use XGBoost Classifier to predict the likelihood of a shoot\n",
    "2. Linear regression to predict the likelihood of a goal\n",
    "3. Multiply them (p_shot x p_goal) to yield action-based expected Threat"
   ]
  },
  {
   "cell_type": "code",
   "execution_count": 8,
   "id": "8416e2a7",
   "metadata": {},
   "outputs": [],
   "source": [
    "from sklearn.model_selection import train_test_split\n",
    "from xgboost import XGBRegressor\n",
    "from xgboost import XGBClassifier"
   ]
  },
  {
   "cell_type": "markdown",
   "id": "23ca217b",
   "metadata": {},
   "source": [
    "---\n",
    "#### Classifier\n",
    "Test Classifier, but will not work for probability of pass position to lead to a shot."
   ]
  },
  {
   "cell_type": "code",
   "execution_count": 9,
   "id": "2add1e6a",
   "metadata": {},
   "outputs": [],
   "source": [
    "## TRAINING, it's not perfect ML procedure, but results in AUC 0.2 higher than Logistic Regression ###\n",
    "\n",
    "passes = df.loc[ df[\"eventName\"].isin([\"Pass\"])] # filter for passes\n",
    "X = passes[v].values\n",
    "y = passes[\"shot_end\"].values\n",
    "X_train, X_test, y_train, y_test = train_test_split(X, y, test_size = 0.1, random_state = 123, stratify = y)\n",
    "xgb = XGBClassifier(n_estimators = 100, max_depth=4, random_state=123)"
   ]
  },
  {
   "cell_type": "code",
   "execution_count": 10,
   "id": "069af30a",
   "metadata": {},
   "outputs": [
    {
     "name": "stdout",
     "output_type": "stream",
     "text": [
      "0.9204402601155547 7.145374560398199e-05\n",
      "0.9208466420305432\n",
      "0.92032403609516\n"
     ]
    }
   ],
   "source": [
    "from sklearn.model_selection import cross_val_score\n",
    "scores = cross_val_score(estimator = xgb, X = X_train, y = y_train, cv = 5, n_jobs = -1)\n",
    "print(np.mean(scores), np.std(scores))\n",
    "xgb.fit(X_train, y_train)\n",
    "print(xgb.score(X_train, y_train))\n",
    "y_pred = xgb.predict(X_test)\n",
    "print(xgb.score(X_test, y_test))"
   ]
  },
  {
   "cell_type": "code",
   "execution_count": 14,
   "id": "d845f0ee",
   "metadata": {},
   "outputs": [
    {
     "data": {
      "text/plain": [
       "0    29223\n",
       "1       33\n",
       "Name: count, dtype: int64"
      ]
     },
     "execution_count": 14,
     "metadata": {},
     "output_type": "execute_result"
    }
   ],
   "source": [
    "# 33 goals doesn't look to good.  Also, cannot use a classifier since looking for probability of shot. \n",
    "# this is why the regressor was used.\n",
    "pd.Series(y_pred).value_counts() "
   ]
  },
  {
   "cell_type": "markdown",
   "id": "f3997440",
   "metadata": {},
   "source": [
    "---\n",
    "#### Regressor\n",
    "Ran original code again with regressor to return a probability of a shot, not a binary goal/no goal prediction."
   ]
  },
  {
   "cell_type": "markdown",
   "id": "2e433047",
   "metadata": {},
   "source": [
    "#### Model application\n",
    "Reload data into the train test groupings and run the model to predict if the passing sequence ended in a shot. At this point, there is no need to validate the model which was done previously.  The only objective is a prediction since this represents the likelihood for a shot, and not if one actually occurred."
   ]
  },
  {
   "cell_type": "code",
   "execution_count": 15,
   "id": "d778e1cb",
   "metadata": {},
   "outputs": [],
   "source": [
    "## TRAINING, it's not perfect ML procedure, but results in AUC 0.2 higher than Logistic Regression ###\n",
    "\n",
    "passes = df.loc[ df[\"eventName\"].isin([\"Pass\"])] # filter for passes\n",
    "X = passes[v].values\n",
    "y = passes[\"shot_end\"].values\n",
    "X_train, X_test, y_train, y_test = train_test_split(X, y, test_size = 0.1, random_state = 123, stratify = y)\n",
    "xgb = XGBRegressor(n_estimators = 100, max_depth=4, random_state=123)"
   ]
  },
  {
   "cell_type": "code",
   "execution_count": 16,
   "id": "9257cde1",
   "metadata": {},
   "outputs": [
    {
     "name": "stdout",
     "output_type": "stream",
     "text": [
      "0.05554421091219741 0.003169110911737059\n",
      "0.08722348145784209\n",
      "0.05908842951658555\n"
     ]
    }
   ],
   "source": [
    "from sklearn.model_selection import cross_val_score\n",
    "scores = cross_val_score(estimator = xgb, X = X_train, y = y_train, cv = 5, n_jobs = -1)\n",
    "print(np.mean(scores), np.std(scores))\n",
    "xgb.fit(X_train, y_train)\n",
    "print(xgb.score(X_train, y_train))\n",
    "y_pred = xgb.predict(X_test)\n",
    "print(xgb.score(X_test, y_test))"
   ]
  },
  {
   "cell_type": "code",
   "execution_count": 20,
   "id": "5c70d9ff",
   "metadata": {},
   "outputs": [
    {
     "data": {
      "text/plain": [
       "array([0.04468377, 0.04183801, 0.03390996, ..., 0.01558963, 0.03831318,\n",
       "       0.015978  ], dtype=float32)"
      ]
     },
     "execution_count": 20,
     "metadata": {},
     "output_type": "execute_result"
    }
   ],
   "source": [
    "y_pred # probability of a shot, which is a decimal base, but x 100 to get a percentage"
   ]
  },
  {
   "cell_type": "markdown",
   "id": "7f30be5b",
   "metadata": {},
   "source": [
    "### Apply the model\n",
    "Using the regressor model, a prediction column is added indicating the likelihood of a shot.  The y_pred values are all low percentages, which aligns with some of the analysis conducted previously around xG and xT.  These are not high percentages in general. \n",
    "\n",
    "Tried to save and reload model unsuccessfully.  The original soccermatics work was conducted in an older version of XGBoost, and the new model loading is not compatible.  Used above created model in place of the loaded model.  Outcomes may be different for the predictions."
   ]
  },
  {
   "cell_type": "code",
   "execution_count": 25,
   "id": "8b5cea9e",
   "metadata": {},
   "outputs": [],
   "source": [
    "from xgboost import Booster"
   ]
  },
  {
   "cell_type": "code",
   "execution_count": 34,
   "id": "0082d599",
   "metadata": {},
   "outputs": [],
   "source": [
    "# predict if ended with shot\n",
    "passes = df.loc[df[\"eventName\"].isin([\"Pass\"])]\n",
    "X = passes[v].values\n",
    "y = passes[\"shot_end\"].values\n",
    "# load saved model from git hub\n",
    "# path_model = os.path.join(str(pathlib.Path().resolve().parents[0]), 'footy_analytics', 'data', 'finalized_model.sav')\n",
    "# model = load(path_model)\n",
    "# Booster.save_model(xgb, 'finalized_model1.sav')\n",
    "# model = Booster.load_model('finalized_model1.sav')\n",
    "# predict probability of pass position resulting in a shot end\n",
    "y_pred_proba = xgb.predict(X)\n"
   ]
  },
  {
   "cell_type": "code",
   "execution_count": 35,
   "id": "5d921abb",
   "metadata": {},
   "outputs": [
    {
     "data": {
      "text/plain": [
       "array([0.04009402, 0.04183381, 0.04691054, ..., 0.05473039, 0.02997477,\n",
       "       0.02710184], dtype=float32)"
      ]
     },
     "execution_count": 35,
     "metadata": {},
     "output_type": "execute_result"
    }
   ],
   "source": [
    "y_pred_proba"
   ]
  },
  {
   "cell_type": "code",
   "execution_count": 37,
   "id": "2edb42b9",
   "metadata": {},
   "outputs": [
    {
     "data": {
      "text/html": [
       "<div>\n",
       "<style scoped>\n",
       "    .dataframe tbody tr th:only-of-type {\n",
       "        vertical-align: middle;\n",
       "    }\n",
       "\n",
       "    .dataframe tbody tr th {\n",
       "        vertical-align: top;\n",
       "    }\n",
       "\n",
       "    .dataframe thead th {\n",
       "        text-align: right;\n",
       "    }\n",
       "</style>\n",
       "<table border=\"1\" class=\"dataframe\">\n",
       "  <thead>\n",
       "    <tr style=\"text-align: right;\">\n",
       "      <th></th>\n",
       "      <th>xG_pred</th>\n",
       "      <th>shot_prob</th>\n",
       "      <th>xT</th>\n",
       "    </tr>\n",
       "  </thead>\n",
       "  <tbody>\n",
       "    <tr>\n",
       "      <th>0</th>\n",
       "      <td>0.121099</td>\n",
       "      <td>0.040094</td>\n",
       "      <td>0.004855</td>\n",
       "    </tr>\n",
       "    <tr>\n",
       "      <th>1</th>\n",
       "      <td>0.108244</td>\n",
       "      <td>0.041834</td>\n",
       "      <td>0.004528</td>\n",
       "    </tr>\n",
       "    <tr>\n",
       "      <th>2</th>\n",
       "      <td>0.121571</td>\n",
       "      <td>0.046911</td>\n",
       "      <td>0.005703</td>\n",
       "    </tr>\n",
       "    <tr>\n",
       "      <th>3</th>\n",
       "      <td>0.118808</td>\n",
       "      <td>0.035048</td>\n",
       "      <td>0.004164</td>\n",
       "    </tr>\n",
       "    <tr>\n",
       "      <th>4</th>\n",
       "      <td>0.116028</td>\n",
       "      <td>0.041501</td>\n",
       "      <td>0.004815</td>\n",
       "    </tr>\n",
       "  </tbody>\n",
       "</table>\n",
       "</div>"
      ],
      "text/plain": [
       "    xG_pred  shot_prob        xT\n",
       "0  0.121099   0.040094  0.004855\n",
       "1  0.108244   0.041834  0.004528\n",
       "2  0.121571   0.046911  0.005703\n",
       "3  0.118808   0.035048  0.004164\n",
       "4  0.116028   0.041501  0.004815"
      ]
     },
     "execution_count": 37,
     "metadata": {},
     "output_type": "execute_result"
    }
   ],
   "source": [
    "passes[\"shot_prob\"] = y_pred_proba\n",
    "# OLS linear regression predicting xG for the shooting positions taken (shot_end ==1)\n",
    "shot_ended = passes.loc[passes[\"shot_end\"] == 1]\n",
    "X2 = shot_ended[v].values\n",
    "y2 = shot_ended[\"xG\"].values\n",
    "lr = LinearRegression()\n",
    "lr.fit(X2, y2)\n",
    "y_pred = lr.predict(X)\n",
    "passes[\"xG_pred\"] = y_pred\n",
    "# calculate xGchain\n",
    "passes[\"xT\"] = passes[\"xG_pred\"]*passes[\"shot_prob\"]\n",
    "\n",
    "passes[[\"xG_pred\", \"shot_prob\", \"xT\"]].head(5)"
   ]
  },
  {
   "cell_type": "markdown",
   "id": "a13b9f8e",
   "metadata": {},
   "source": [
    "### Making a plot of pass predicted/projected xT values\n",
    "Now plot the pass as before, but incorporate the predicted xT value determined from the modeling above. This is the same plot seen in previous section but this time the value is assigned to passes and line width is proportional to its value."
   ]
  },
  {
   "cell_type": "code",
   "execution_count": 38,
   "id": "a2527d11",
   "metadata": {},
   "outputs": [],
   "source": [
    "chain = df.loc[df[\"possesion_chain\"] == 4]\n",
    "# get passes\n",
    "passes_in = passes.loc[df[\"possesion_chain\"] == 4]\n",
    "max_value = passes_in[\"xT\"].max()\n",
    "# get events different than pass\n",
    "not_pass = chain.loc[chain[\"eventName\"] != \"Pass\"].iloc[:-1]\n",
    "# final row or event is assigned to shot as the last event of the chain.  \n",
    "shot = chain.iloc[-1]"
   ]
  },
  {
   "cell_type": "code",
   "execution_count": 39,
   "id": "54085ad7",
   "metadata": {},
   "outputs": [
    {
     "data": {
      "image/png": "[encoded data removed]",
      "text/plain": [
       "<Figure size 1267.73x900 with 3 Axes>"
      ]
     },
     "metadata": {},
     "output_type": "display_data"
    }
   ],
   "source": [
    "# plot pitch canvas\n",
    "pitch = Pitch(line_color='black',pitch_type='custom', pitch_length=105, pitch_width=68, line_zorder = 2)\n",
    "fig, ax = pitch.grid(grid_height=0.9, title_height=0.06, axis=False,\n",
    "                     endnote_height=0.04, title_space=0, endnote_space=0)\n",
    "\n",
    "# add size adjusted arrows\n",
    "for i, row in passes_in.iterrows():\n",
    "    value = row[\"xT\"]\n",
    "    line_width = (value / max_value * 10) # adjust the line width so that the more passes, the wider the line\n",
    "    angle = np.arctan((row.y1-row.y0)/(row.x1-row.x0))*180/np.pi # get angle\n",
    "    pitch.arrows(row.x0, row.y0, row.x1, row.y1,  \n",
    "                 alpha=0.6, width=line_width, zorder=2, \n",
    "                 color=\"blue\", ax = ax[\"pitch\"])            # plot lines on the pitch\n",
    "    ax[\"pitch\"].text((row.x0+row.x1-8)/2, (row.y0+row.y1-4)/2, str(value)[:5], \n",
    "                     fontweight = \"bold\", color = \"blue\", zorder = 4, \n",
    "                     fontsize = 20, rotation = int(angle))  #annotate text\n",
    "\n",
    "# shot\n",
    "pitch.arrows(shot.x0, shot.y0,shot.x1, shot.y1, width=line_width, \n",
    "             color = \"red\", ax=ax['pitch'], zorder =  3)\n",
    "\n",
    "# other passes like arrows\n",
    "pitch.lines(not_pass.x0, not_pass.y0, not_pass.x1, not_pass.y1, \n",
    "            color = \"grey\", lw = 1.5, ls = 'dotted', ax=ax['pitch'])\n",
    "\n",
    "\n",
    "ax['title'].text(0.5, 0.5, 'Passes leading to a shot', ha='center', va='center', fontsize=30)\n",
    "plt.show()"
   ]
  },
  {
   "cell_type": "code",
   "execution_count": null,
   "id": "61280b90",
   "metadata": {},
   "outputs": [],
   "source": []
  }
 ],
 "metadata": {
  "kernelspec": {
   "display_name": "Python 3 (ipykernel)",
   "language": "python",
   "name": "python3"
  },
  "language_info": {
   "codemirror_mode": {
    "name": "ipython",
    "version": 3
   },
   "file_extension": ".py",
   "mimetype": "text/x-python",
   "name": "python",
   "nbconvert_exporter": "python",
   "pygments_lexer": "ipython3",
   "version": "3.11.0"
  }
 },
 "nbformat": 4,
 "nbformat_minor": 5
}
