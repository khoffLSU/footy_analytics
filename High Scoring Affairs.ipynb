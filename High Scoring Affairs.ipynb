{
 "cells": [
  {
   "cell_type": "markdown",
   "metadata": {},
   "source": [
    "# Exploration of High Scoring Affairs\n",
    "In soccer analytics there are many results considered.  Because coaching is also interested in patterns in the game, the hidden truths in the data, a question was posed regarding high scoring games.  Is there a pattern which these games fall into, where defense is thrown out the window and goals come in high numbers.  Soccer/Football is for all intents and purposes a low scoring game. The introduction of the 3 point win was a huge shift in teams pursuing wins and not draws.  Even so, two to three goals is a pretty common outcome for a match.\n",
    "\n",
    "What about the exceptions?  Not the one sided exceptions.  The track meets where the last team with the ball might be the winner.  The games where goals come fast and furious, but no team has a significant advantage.  Score lines like 4-3 or 5-5 come to mind.  Games with at least six goals which are well distributed.  Is there anything to learn from these *High Scoring Affairs*?\n",
    "\n",
    "---\n",
    "\n",
    "### Players and Coaches\n",
    "As a player and a coach, it is assumed that high scoring games mean more time up the pitch, more aggressive and exposed play.  The assumption is that the average player position across a number of games in this category would show players in the oppositions side of the pitch more often.  Even so, that would mean more time for the opposition in defense.  Perhaps the games are about faster possessions which go uninterupted, and teams are able to progress to shooting positions more often.  How can event data to be used to learn more about the way such games are played?\n",
    "\n",
    "### Finding HSAs\n",
    "Polling competitions from the StatsBomb data, the goal will be to look through the history of information for HSA which have event data, and analyze the patterns associated with HSAs.  Using the Statsbomb parser, a query of the game results for competitions will be made and high scoring low differential games will be extracted so the event data can be analyzed."
   ]
  },
  {
   "cell_type": "code",
   "execution_count": 33,
   "metadata": {},
   "outputs": [],
   "source": [
    "import pandas as pd\n",
    "import numpy as np\n",
    "\n",
    "# importing SBopen from mplsoccer library to open the match data\n",
    "# mplsoccer is leveraging a statsbomb library dependancy for this feature\n",
    "from mplsoccer import Sbopen\n",
    "\n",
    "# Instantiate a data parser\n",
    "parser = Sbopen()\n",
    "\n",
    "# competitions, seasons and match data available\n",
    "df_comps = parser.competition()"
   ]
  },
  {
   "cell_type": "code",
   "execution_count": 3,
   "metadata": {},
   "outputs": [
    {
     "name": "stdout",
     "output_type": "stream",
     "text": [
      "<class 'pandas.core.frame.DataFrame'>\n",
      "RangeIndex: 71 entries, 0 to 70\n",
      "Data columns (total 12 columns):\n",
      " #   Column                     Non-Null Count  Dtype \n",
      "---  ------                     --------------  ----- \n",
      " 0   competition_id             71 non-null     int64 \n",
      " 1   season_id                  71 non-null     int64 \n",
      " 2   country_name               71 non-null     object\n",
      " 3   competition_name           71 non-null     object\n",
      " 4   competition_gender         71 non-null     object\n",
      " 5   competition_youth          71 non-null     bool  \n",
      " 6   competition_international  71 non-null     bool  \n",
      " 7   season_name                71 non-null     object\n",
      " 8   match_updated              71 non-null     object\n",
      " 9   match_updated_360          54 non-null     object\n",
      " 10  match_available_360        8 non-null      object\n",
      " 11  match_available            71 non-null     object\n",
      "dtypes: bool(2), int64(2), object(8)\n",
      "memory usage: 5.8+ KB\n"
     ]
    }
   ],
   "source": [
    "df_comps.info() # 71 available competitions across years and leagues"
   ]
  },
  {
   "cell_type": "code",
   "execution_count": 16,
   "metadata": {},
   "outputs": [
    {
     "data": {
      "text/plain": [
       "39      11-1\n",
       "40      11-2\n",
       "47     11-21\n",
       "46     11-22\n",
       "45     11-23\n",
       "       ...  \n",
       "54     81-48\n",
       "21    87-268\n",
       "22    87-279\n",
       "20     87-84\n",
       "0       9-27\n",
       "Name: comp_seas, Length: 71, dtype: object"
      ]
     },
     "execution_count": 16,
     "metadata": {},
     "output_type": "execute_result"
    }
   ],
   "source": [
    "# Using chaining methods from Matt Harrison\n",
    "(df_comps\n",
    " .assign(comp_seas = lambda df: df.competition_id.astype('str')+'-'+ df.season_id.astype('str'))\n",
    "#  .head()\n",
    " .comp_seas\n",
    " .sort_values()\n",
    ")"
   ]
  },
  {
   "cell_type": "markdown",
   "metadata": {},
   "source": [
    "### Switching to StatsBomb library\n",
    "MPLSoccer has a bug associated with the parser configuration.  Switching over the Statsbomb to pull the data for analysis.  The import and API process is shown below."
   ]
  },
  {
   "cell_type": "code",
   "execution_count": 18,
   "metadata": {},
   "outputs": [],
   "source": [
    "from statsbombpy import sb\n",
    "# suppress due to free data warning\n",
    "import warnings\n",
    "warnings.filterwarnings('ignore')"
   ]
  },
  {
   "cell_type": "code",
   "execution_count": 19,
   "metadata": {},
   "outputs": [
    {
     "name": "stdout",
     "output_type": "stream",
     "text": [
      "<class 'pandas.core.frame.DataFrame'>\n",
      "RangeIndex: 71 entries, 0 to 70\n",
      "Data columns (total 12 columns):\n",
      " #   Column                     Non-Null Count  Dtype \n",
      "---  ------                     --------------  ----- \n",
      " 0   competition_id             71 non-null     int64 \n",
      " 1   season_id                  71 non-null     int64 \n",
      " 2   country_name               71 non-null     object\n",
      " 3   competition_name           71 non-null     object\n",
      " 4   competition_gender         71 non-null     object\n",
      " 5   competition_youth          71 non-null     bool  \n",
      " 6   competition_international  71 non-null     bool  \n",
      " 7   season_name                71 non-null     object\n",
      " 8   match_updated              71 non-null     object\n",
      " 9   match_updated_360          54 non-null     object\n",
      " 10  match_available_360        8 non-null      object\n",
      " 11  match_available            71 non-null     object\n",
      "dtypes: bool(2), int64(2), object(8)\n",
      "memory usage: 5.8+ KB\n"
     ]
    }
   ],
   "source": [
    "sb.competitions(creds={'user': None, 'passwd': None}).info()"
   ]
  },
  {
   "cell_type": "markdown",
   "metadata": {},
   "source": [
    ">**NOTE**:Just as seen previously, there are 71 competition records available through the StatsBomb free data sources."
   ]
  },
  {
   "cell_type": "code",
   "execution_count": 26,
   "metadata": {},
   "outputs": [
    {
     "data": {
      "text/plain": [
       "competition_name\n",
       "Champions League           18\n",
       "La Liga                    18\n",
       "FIFA World Cup              8\n",
       "Ligue 1                     3\n",
       "Copa del Rey                3\n",
       "FA Women's Super League     3\n",
       "Liga Profesional            2\n",
       "Serie A                     2\n",
       "Premier League              2\n",
       "Women's World Cup           2\n",
       "African Cup of Nations      1\n",
       "Major League Soccer         1\n",
       "North American League       1\n",
       "NWSL                        1\n",
       "Indian Super league         1\n",
       "FIFA U20 World Cup          1\n",
       "UEFA Euro                   1\n",
       "UEFA Europa League          1\n",
       "UEFA Women's Euro           1\n",
       "1. Bundesliga               1\n",
       "Name: Seasons, dtype: int64"
      ]
     },
     "execution_count": 26,
     "metadata": {},
     "output_type": "execute_result"
    }
   ],
   "source": [
    "# Break down on total seasons by competition name\n",
    "(sb.competitions(creds={'user': None, 'passwd': None})\n",
    " .competition_name.value_counts()\n",
    " .rename('Seasons')\n",
    ")"
   ]
  },
  {
   "cell_type": "markdown",
   "metadata": {},
   "source": [
    "### Season Evaluator Function\n",
    "Define a function to extract match ids from each season which meet criteria for HSA with low differential.  First, an inspection of the match data must be made to understand how the verifications can be conducted of the results."
   ]
  },
  {
   "cell_type": "code",
   "execution_count": 29,
   "metadata": {},
   "outputs": [
    {
     "data": {
      "text/plain": [
       "match_id                                       9880\n",
       "match_date                               2018-04-14\n",
       "kick_off                               16:15:00.000\n",
       "competition                         Spain - La Liga\n",
       "season                                    2017/2018\n",
       "home_team                                 Barcelona\n",
       "away_team                                  Valencia\n",
       "home_score                                        2\n",
       "away_score                                        1\n",
       "match_status                              available\n",
       "match_status_360                          scheduled\n",
       "last_updated             2023-02-08T17:23:53.901920\n",
       "last_updated_360            2021-06-13T16:17:31.694\n",
       "match_week                                       32\n",
       "competition_stage                    Regular Season\n",
       "stadium                            Spotify Camp Nou\n",
       "referee                     Carlos del Cerro Grande\n",
       "home_managers              Ernesto Valverde Tejedor\n",
       "away_managers                Marcelino García Toral\n",
       "data_version                                  1.1.0\n",
       "shot_fidelity_version                             2\n",
       "xy_fidelity_version                               2\n",
       "Name: 0, dtype: object"
      ]
     },
     "execution_count": 29,
     "metadata": {},
     "output_type": "execute_result"
    }
   ],
   "source": [
    "sb.matches(11,1).iloc[0] # characteristic record"
   ]
  },
  {
   "cell_type": "markdown",
   "metadata": {},
   "source": [
    "### Record Inspection\n",
    "The match_id along with the home and away score can be inspected from the data which is available.  A column will need to be added for the total match goals and total differential, and finally a binary for HSA classification.  This can then be used to add match_ids to a dataframe/list for extraction of event data."
   ]
  },
  {
   "cell_type": "code",
   "execution_count": 47,
   "metadata": {},
   "outputs": [],
   "source": [
    "def hsa_add(df, goals=4, diff=3):\n",
    "    '''Adds columns for total goals, total goal differential and HSA classifier.\n",
    "    Returns dataframe where games are considered High Scoring Affairs or HSAs.\n",
    "    df = dataframe from statsbomb\n",
    "    goals = number in total to exceed in game\n",
    "    diff = difference between score threshold'''\n",
    "    df_update = (df\n",
    "                 .assign(total_goals = lambda df: df.home_score + df.away_score,\n",
    "                         goal_diff = lambda df: abs(df.home_score - df.away_score),\n",
    "                         HSA = lambda df: np.where(df.total_goals>goals,np.where(df.goal_diff<diff,1,0),0))\n",
    "                 ).query('HSA==1')\n",
    "    return df_update"
   ]
  },
  {
   "cell_type": "code",
   "execution_count": 48,
   "metadata": {},
   "outputs": [
    {
     "data": {
      "text/html": [
       "<div>\n",
       "<style scoped>\n",
       "    .dataframe tbody tr th:only-of-type {\n",
       "        vertical-align: middle;\n",
       "    }\n",
       "\n",
       "    .dataframe tbody tr th {\n",
       "        vertical-align: top;\n",
       "    }\n",
       "\n",
       "    .dataframe thead th {\n",
       "        text-align: right;\n",
       "    }\n",
       "</style>\n",
       "<table border=\"1\" class=\"dataframe\">\n",
       "  <thead>\n",
       "    <tr style=\"text-align: right;\">\n",
       "      <th></th>\n",
       "      <th>match_id</th>\n",
       "      <th>match_date</th>\n",
       "      <th>kick_off</th>\n",
       "      <th>competition</th>\n",
       "      <th>season</th>\n",
       "      <th>home_team</th>\n",
       "      <th>away_team</th>\n",
       "      <th>home_score</th>\n",
       "      <th>away_score</th>\n",
       "      <th>match_status</th>\n",
       "      <th>...</th>\n",
       "      <th>stadium</th>\n",
       "      <th>referee</th>\n",
       "      <th>home_managers</th>\n",
       "      <th>away_managers</th>\n",
       "      <th>data_version</th>\n",
       "      <th>shot_fidelity_version</th>\n",
       "      <th>xy_fidelity_version</th>\n",
       "      <th>total_goals</th>\n",
       "      <th>goal_diff</th>\n",
       "      <th>HSA</th>\n",
       "    </tr>\n",
       "  </thead>\n",
       "  <tbody>\n",
       "    <tr>\n",
       "      <th>1</th>\n",
       "      <td>9912</td>\n",
       "      <td>2018-04-29</td>\n",
       "      <td>20:45:00.000</td>\n",
       "      <td>Spain - La Liga</td>\n",
       "      <td>2017/2018</td>\n",
       "      <td>RC Deportivo La Coruña</td>\n",
       "      <td>Barcelona</td>\n",
       "      <td>2</td>\n",
       "      <td>4</td>\n",
       "      <td>available</td>\n",
       "      <td>...</td>\n",
       "      <td>Estadio Abanca-Riazor</td>\n",
       "      <td>Ricardo De Burgos Bengoetxea</td>\n",
       "      <td>Clarence Seedorf</td>\n",
       "      <td>Ernesto Valverde Tejedor</td>\n",
       "      <td>1.1.0</td>\n",
       "      <td>2</td>\n",
       "      <td>2</td>\n",
       "      <td>6</td>\n",
       "      <td>2</td>\n",
       "      <td>1</td>\n",
       "    </tr>\n",
       "    <tr>\n",
       "      <th>34</th>\n",
       "      <td>9754</td>\n",
       "      <td>2018-01-14</td>\n",
       "      <td>20:45:00.000</td>\n",
       "      <td>Spain - La Liga</td>\n",
       "      <td>2017/2018</td>\n",
       "      <td>Real Sociedad</td>\n",
       "      <td>Barcelona</td>\n",
       "      <td>2</td>\n",
       "      <td>4</td>\n",
       "      <td>available</td>\n",
       "      <td>...</td>\n",
       "      <td>Reale Arena</td>\n",
       "      <td>José Luis González González</td>\n",
       "      <td>Eusebio Sacristán Mena</td>\n",
       "      <td>Ernesto Valverde Tejedor</td>\n",
       "      <td>1.1.0</td>\n",
       "      <td>2</td>\n",
       "      <td>None</td>\n",
       "      <td>6</td>\n",
       "      <td>2</td>\n",
       "      <td>1</td>\n",
       "    </tr>\n",
       "  </tbody>\n",
       "</table>\n",
       "<p>2 rows × 25 columns</p>\n",
       "</div>"
      ],
      "text/plain": [
       "    match_id  match_date      kick_off      competition     season   \n",
       "1       9912  2018-04-29  20:45:00.000  Spain - La Liga  2017/2018  \\\n",
       "34      9754  2018-01-14  20:45:00.000  Spain - La Liga  2017/2018   \n",
       "\n",
       "                 home_team  away_team  home_score  away_score match_status   \n",
       "1   RC Deportivo La Coruña  Barcelona           2           4    available  \\\n",
       "34           Real Sociedad  Barcelona           2           4    available   \n",
       "\n",
       "    ...                stadium                       referee   \n",
       "1   ...  Estadio Abanca-Riazor  Ricardo De Burgos Bengoetxea  \\\n",
       "34  ...            Reale Arena   José Luis González González   \n",
       "\n",
       "             home_managers             away_managers data_version   \n",
       "1         Clarence Seedorf  Ernesto Valverde Tejedor        1.1.0  \\\n",
       "34  Eusebio Sacristán Mena  Ernesto Valverde Tejedor        1.1.0   \n",
       "\n",
       "   shot_fidelity_version xy_fidelity_version total_goals goal_diff HSA  \n",
       "1                      2                   2           6         2   1  \n",
       "34                     2                None           6         2   1  \n",
       "\n",
       "[2 rows x 25 columns]"
      ]
     },
     "execution_count": 48,
     "metadata": {},
     "output_type": "execute_result"
    }
   ],
   "source": [
    "# function test\n",
    "hsa_add(sb.matches(11,1))"
   ]
  },
  {
   "cell_type": "markdown",
   "metadata": {},
   "source": [
    "### Extract Competitions and Seasons\n",
    "Extract all competitions and seasons, then extract and append all of the HSA games into a single database so the match_ids can be pull and the event data can be evaluated. "
   ]
  },
  {
   "cell_type": "code",
   "execution_count": 64,
   "metadata": {},
   "outputs": [],
   "source": [
    "def extract_comps(df):\n",
    "    '''Extract a list of tuples for compeition and season ids.'''\n",
    "    L = []\n",
    "    for ind, row in (df.iterrows()):\n",
    "        L.append((row.competition_id, row.season_id))\n",
    "    return L"
   ]
  },
  {
   "cell_type": "code",
   "execution_count": 79,
   "metadata": {},
   "outputs": [],
   "source": [
    "hsa_df = pd.DataFrame()\n",
    "for i in extract_comps(sb.competitions()):\n",
    "    hsa_df= pd.concat([hsa_df,hsa_add(sb.matches(i[0],i[1]),5,3)])"
   ]
  },
  {
   "cell_type": "code",
   "execution_count": 91,
   "metadata": {},
   "outputs": [],
   "source": [
    "hsa_matches = hsa_df.reset_index().match_id.values"
   ]
  },
  {
   "cell_type": "code",
   "execution_count": 92,
   "metadata": {},
   "outputs": [
    {
     "data": {
      "text/plain": [
       "110"
      ]
     },
     "execution_count": 92,
     "metadata": {},
     "output_type": "execute_result"
    }
   ],
   "source": [
    "len(hsa_matches)"
   ]
  },
  {
   "cell_type": "markdown",
   "metadata": {},
   "source": [
    "### Total Matches\n",
    "In total, there are 110 matches across the entire dataset of competitions in the Statsbomb free datasets.  Without having inspected the specifics, that feels about right.  It wouldn't do to have thousands of matches in this category.  More often, soccer is a low scoring game.  Achieving more than 5 goals with a difference of less than 3 is an uncommon result.\n",
    "\n",
    ">**NOTE**: Extracting event data"
   ]
  },
  {
   "cell_type": "code",
   "execution_count": 99,
   "metadata": {},
   "outputs": [],
   "source": [
    "pd.set_option('display.max_rows', 500)"
   ]
  },
  {
   "cell_type": "code",
   "execution_count": 100,
   "metadata": {},
   "outputs": [
    {
     "data": {
      "text/plain": [
       "bad_behaviour_card                                                   NaN\n",
       "ball_receipt_outcome                                                 NaN\n",
       "ball_recovery_recovery_failure                                       NaN\n",
       "block_offensive                                                      NaN\n",
       "carry_end_location                                                   NaN\n",
       "clearance_aerial_won                                                 NaN\n",
       "clearance_body_part                                                  NaN\n",
       "clearance_head                                                       NaN\n",
       "clearance_left_foot                                                  NaN\n",
       "clearance_right_foot                                                 NaN\n",
       "counterpress                                                         NaN\n",
       "dribble_nutmeg                                                       NaN\n",
       "dribble_outcome                                                      NaN\n",
       "duel_outcome                                                         NaN\n",
       "duel_type                                                            NaN\n",
       "duration                                                        2.141968\n",
       "foul_committed_advantage                                             NaN\n",
       "foul_committed_card                                                  NaN\n",
       "foul_committed_type                                                  NaN\n",
       "foul_won_advantage                                                   NaN\n",
       "foul_won_defensive                                                   NaN\n",
       "goalkeeper_body_part                                                 NaN\n",
       "goalkeeper_end_location                                              NaN\n",
       "goalkeeper_outcome                                                   NaN\n",
       "goalkeeper_position                                                  NaN\n",
       "goalkeeper_technique                                                 NaN\n",
       "goalkeeper_type                                                      NaN\n",
       "id                                  f4e2e93b-53f3-4159-ab00-90a6eaf25c5c\n",
       "index                                                                322\n",
       "injury_stoppage_in_chain                                             NaN\n",
       "interception_outcome                                                 NaN\n",
       "location                                                    [48.7, 14.1]\n",
       "match_id                                                         3890503\n",
       "minute                                                                 8\n",
       "miscontrol_aerial_won                                                NaN\n",
       "off_camera                                                           NaN\n",
       "out                                                                  NaN\n",
       "pass_aerial_won                                                      NaN\n",
       "pass_angle                                                      1.739308\n",
       "pass_assisted_shot_id                                                NaN\n",
       "pass_body_part                                                Right Foot\n",
       "pass_cross                                                           NaN\n",
       "pass_cut_back                                                        NaN\n",
       "pass_end_location                                           [44.6, 38.2]\n",
       "pass_goal_assist                                                     NaN\n",
       "pass_height                                                  Ground Pass\n",
       "pass_inswinging                                                      NaN\n",
       "pass_length                                                    24.446268\n",
       "pass_miscommunication                                                NaN\n",
       "pass_outcome                                                         NaN\n",
       "pass_outswinging                                                     NaN\n",
       "pass_recipient                                             Jeong-Ho Hong\n",
       "pass_shot_assist                                                     NaN\n",
       "pass_straight                                                        NaN\n",
       "pass_switch                                                          NaN\n",
       "pass_technique                                                       NaN\n",
       "pass_through_ball                                                    NaN\n",
       "pass_type                                                            NaN\n",
       "period                                                                 1\n",
       "play_pattern                                                Regular Play\n",
       "player                                                      Daniel Baier\n",
       "player_id                                                         8317.0\n",
       "position                                         Left Defensive Midfield\n",
       "possession                                                            17\n",
       "possession_team                                                 Augsburg\n",
       "possession_team_id                                                   172\n",
       "related_events                    [141a4571-06d7-4177-9cf2-672bb9c46e0a]\n",
       "second                                                                13\n",
       "shot_aerial_won                                                      NaN\n",
       "shot_body_part                                                       NaN\n",
       "shot_end_location                                                    NaN\n",
       "shot_first_time                                                      NaN\n",
       "shot_freeze_frame                                                    NaN\n",
       "shot_key_pass_id                                                     NaN\n",
       "shot_one_on_one                                                      NaN\n",
       "shot_outcome                                                         NaN\n",
       "shot_statsbomb_xg                                                    NaN\n",
       "shot_technique                                                       NaN\n",
       "shot_type                                                            NaN\n",
       "substitution_outcome                                                 NaN\n",
       "substitution_replacement                                             NaN\n",
       "tactics                                                              NaN\n",
       "team                                                            Augsburg\n",
       "team_id                                                              172\n",
       "timestamp                                                   00:08:13.665\n",
       "type                                                                Pass\n",
       "under_pressure                                                       NaN\n",
       "Name: 100, dtype: object"
      ]
     },
     "execution_count": 100,
     "metadata": {},
     "output_type": "execute_result"
    }
   ],
   "source": [
    "sb.events(hsa_matches[0]).iloc[100] # lots of data to use"
   ]
  }
 ],
 "metadata": {
  "kernelspec": {
   "display_name": ".venv",
   "language": "python",
   "name": "python3"
  },
  "language_info": {
   "codemirror_mode": {
    "name": "ipython",
    "version": 3
   },
   "file_extension": ".py",
   "mimetype": "text/x-python",
   "name": "python",
   "nbconvert_exporter": "python",
   "pygments_lexer": "ipython3",
   "version": "3.11.0"
  }
 },
 "nbformat": 4,
 "nbformat_minor": 2
}
