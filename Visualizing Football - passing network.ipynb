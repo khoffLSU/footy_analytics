{
 "cells": [
  {
   "cell_type": "markdown",
   "id": "4888e7ea",
   "metadata": {},
   "source": [
    "# Passing Networks\n",
    "Visualization and calculation the centralized nature of a game for teams involved.  Normally this is evaluated for one of the teams in a given game.  This helps to show the average shape of the team throughout the game.  Normally stopped at the first substution."
   ]
  },
  {
   "cell_type": "markdown",
   "id": "d7d164da",
   "metadata": {},
   "source": [
    "## Imports\n",
    "This version will deviate from the Soccermatics approach due to the mplsoccer library throwing an error when making a call to Statsbomb.  Instead, the statsbomb data will be called directly for the dataframe from the statsbomb library."
   ]
  },
  {
   "cell_type": "code",
   "execution_count": 1,
   "id": "8a8f928b",
   "metadata": {},
   "outputs": [],
   "source": [
    "import pandas as pd\n",
    "import matplotlib.pyplot as plt\n",
    "import numpy as np\n",
    "from mplsoccer import Pitch, Sbopen, VerticalPitch\n",
    "from statsbombpy import sb"
   ]
  },
  {
   "cell_type": "markdown",
   "id": "6705e53e",
   "metadata": {},
   "source": [
    "## Opening and creating the dataset\n",
    "Using the sb parser in place of SBopen in mplsoccer the event data is pulled out. Calling on the event level data and inputting the id of the game as a parameter loads the game data. The event data is stored in a dataframe df. From this dataframe, the next step will be to filter for passes not including throw ins are left in the frame."
   ]
  },
  {
   "cell_type": "code",
   "execution_count": 2,
   "id": "ec88a103",
   "metadata": {},
   "outputs": [],
   "source": [
    "# get event data\n",
    "df = sb.events(match_id=69301)"
   ]
  },
  {
   "cell_type": "code",
   "execution_count": 7,
   "id": "6cde55d9",
   "metadata": {},
   "outputs": [
    {
     "data": {
      "text/plain": [
       "pass_aerial_won                      NaN\n",
       "pass_angle                      0.442374\n",
       "pass_assisted_shot_id                NaN\n",
       "pass_body_part                Right Foot\n",
       "pass_cross                           NaN\n",
       "pass_cut_back                        NaN\n",
       "pass_deflected                       NaN\n",
       "pass_end_location           [61.9, 40.9]\n",
       "pass_goal_assist                     NaN\n",
       "pass_height                  Ground Pass\n",
       "pass_inswinging                      NaN\n",
       "pass_length                      2.10238\n",
       "pass_no_touch                        NaN\n",
       "pass_outcome                         NaN\n",
       "pass_recipient           Francesca Kirby\n",
       "pass_shot_assist                     NaN\n",
       "pass_straight                        NaN\n",
       "pass_switch                          NaN\n",
       "pass_technique                       NaN\n",
       "pass_through_ball                    NaN\n",
       "pass_type                       Kick Off\n",
       "Name: 6, dtype: object"
      ]
     },
     "execution_count": 7,
     "metadata": {},
     "output_type": "execute_result"
    }
   ],
   "source": [
    "df.query('type==\"Pass\"').loc[:,lambda df: df.columns.str.startswith('pass')].iloc[0]"
   ]
  },
  {
   "cell_type": "markdown",
   "id": "fd7d9794",
   "metadata": {},
   "source": [
    "## Preparing the data\n",
    "For passing networks only use accurate/successful passes made by a team until the first substitution. This is the most basic use case, and there are several possible variations using passing networks. They require information about pass start and end location as well as player who made and received the pass. To make the vizualisation clearer annotate the players using their surname. "
   ]
  },
  {
   "cell_type": "code",
   "execution_count": 4,
   "id": "658a2649",
   "metadata": {},
   "outputs": [
    {
     "data": {
      "text/plain": [
       "1764"
      ]
     },
     "execution_count": 4,
     "metadata": {},
     "output_type": "execute_result"
    }
   ],
   "source": [
    "# find index of first sub for England\n",
    "sub = df.loc[df[\"type\"] == \"Substitution\"].loc[df[\"team\"] == \"England Women's\"].iloc[0][\"index\"]\n",
    "sub"
   ]
  },
  {
   "cell_type": "code",
   "execution_count": 25,
   "id": "362926d0",
   "metadata": {},
   "outputs": [
    {
     "data": {
      "text/html": [
       "<div>\n",
       "<style scoped>\n",
       "    .dataframe tbody tr th:only-of-type {\n",
       "        vertical-align: middle;\n",
       "    }\n",
       "\n",
       "    .dataframe tbody tr th {\n",
       "        vertical-align: top;\n",
       "    }\n",
       "\n",
       "    .dataframe thead th {\n",
       "        text-align: right;\n",
       "    }\n",
       "</style>\n",
       "<table border=\"1\" class=\"dataframe\">\n",
       "  <thead>\n",
       "    <tr style=\"text-align: right;\">\n",
       "      <th></th>\n",
       "      <th>x</th>\n",
       "      <th>y</th>\n",
       "      <th>xf</th>\n",
       "      <th>yf</th>\n",
       "      <th>player</th>\n",
       "      <th>pass_recipient</th>\n",
       "      <th>player_name</th>\n",
       "      <th>player_recipient_name</th>\n",
       "    </tr>\n",
       "  </thead>\n",
       "  <tbody>\n",
       "    <tr>\n",
       "      <th>6</th>\n",
       "      <td>60.0</td>\n",
       "      <td>40.0</td>\n",
       "      <td>61.9</td>\n",
       "      <td>40.9</td>\n",
       "      <td>Ellen White</td>\n",
       "      <td>Francesca Kirby</td>\n",
       "      <td>White</td>\n",
       "      <td>Kirby</td>\n",
       "    </tr>\n",
       "    <tr>\n",
       "      <th>7</th>\n",
       "      <td>82.6</td>\n",
       "      <td>37.6</td>\n",
       "      <td>78.4</td>\n",
       "      <td>58.5</td>\n",
       "      <td>Francesca Kirby</td>\n",
       "      <td>Lucy Bronze</td>\n",
       "      <td>Kirby</td>\n",
       "      <td>Bronze</td>\n",
       "    </tr>\n",
       "    <tr>\n",
       "      <th>8</th>\n",
       "      <td>84.7</td>\n",
       "      <td>65.3</td>\n",
       "      <td>98.9</td>\n",
       "      <td>77.9</td>\n",
       "      <td>Lucy Bronze</td>\n",
       "      <td>Nikita Parris</td>\n",
       "      <td>Bronze</td>\n",
       "      <td>Parris</td>\n",
       "    </tr>\n",
       "    <tr>\n",
       "      <th>9</th>\n",
       "      <td>94.7</td>\n",
       "      <td>75.5</td>\n",
       "      <td>93.3</td>\n",
       "      <td>64.3</td>\n",
       "      <td>Nikita Parris</td>\n",
       "      <td>Jill Scott</td>\n",
       "      <td>Parris</td>\n",
       "      <td>Scott</td>\n",
       "    </tr>\n",
       "    <tr>\n",
       "      <th>21</th>\n",
       "      <td>5.2</td>\n",
       "      <td>8.3</td>\n",
       "      <td>10.8</td>\n",
       "      <td>5.5</td>\n",
       "      <td>Jade Moore</td>\n",
       "      <td>Bethany Mead</td>\n",
       "      <td>Moore</td>\n",
       "      <td>Mead</td>\n",
       "    </tr>\n",
       "    <tr>\n",
       "      <th>...</th>\n",
       "      <td>...</td>\n",
       "      <td>...</td>\n",
       "      <td>...</td>\n",
       "      <td>...</td>\n",
       "      <td>...</td>\n",
       "      <td>...</td>\n",
       "      <td>...</td>\n",
       "      <td>...</td>\n",
       "    </tr>\n",
       "    <tr>\n",
       "      <th>920</th>\n",
       "      <td>49.3</td>\n",
       "      <td>68.5</td>\n",
       "      <td>54.0</td>\n",
       "      <td>42.0</td>\n",
       "      <td>Stephanie Houghton</td>\n",
       "      <td>Jade Moore</td>\n",
       "      <td>Houghton</td>\n",
       "      <td>Moore</td>\n",
       "    </tr>\n",
       "    <tr>\n",
       "      <th>921</th>\n",
       "      <td>60.6</td>\n",
       "      <td>37.5</td>\n",
       "      <td>70.2</td>\n",
       "      <td>25.2</td>\n",
       "      <td>Jade Moore</td>\n",
       "      <td>Francesca Kirby</td>\n",
       "      <td>Moore</td>\n",
       "      <td>Kirby</td>\n",
       "    </tr>\n",
       "    <tr>\n",
       "      <th>922</th>\n",
       "      <td>77.0</td>\n",
       "      <td>20.1</td>\n",
       "      <td>90.5</td>\n",
       "      <td>23.9</td>\n",
       "      <td>Francesca Kirby</td>\n",
       "      <td>Karen Julia Carney</td>\n",
       "      <td>Kirby</td>\n",
       "      <td>Julia</td>\n",
       "    </tr>\n",
       "    <tr>\n",
       "      <th>923</th>\n",
       "      <td>91.8</td>\n",
       "      <td>19.4</td>\n",
       "      <td>102.1</td>\n",
       "      <td>5.4</td>\n",
       "      <td>Karen Julia Carney</td>\n",
       "      <td>Alex Greenwood</td>\n",
       "      <td>Julia</td>\n",
       "      <td>Greenwood</td>\n",
       "    </tr>\n",
       "    <tr>\n",
       "      <th>924</th>\n",
       "      <td>102.9</td>\n",
       "      <td>8.6</td>\n",
       "      <td>85.7</td>\n",
       "      <td>6.8</td>\n",
       "      <td>Alex Greenwood</td>\n",
       "      <td>Karen Julia Carney</td>\n",
       "      <td>Greenwood</td>\n",
       "      <td>Julia</td>\n",
       "    </tr>\n",
       "  </tbody>\n",
       "</table>\n",
       "<p>428 rows × 8 columns</p>\n",
       "</div>"
      ],
      "text/plain": [
       "         x     y     xf    yf              player      pass_recipient   \n",
       "6     60.0  40.0   61.9  40.9         Ellen White     Francesca Kirby  \\\n",
       "7     82.6  37.6   78.4  58.5     Francesca Kirby         Lucy Bronze   \n",
       "8     84.7  65.3   98.9  77.9         Lucy Bronze       Nikita Parris   \n",
       "9     94.7  75.5   93.3  64.3       Nikita Parris          Jill Scott   \n",
       "21     5.2   8.3   10.8   5.5          Jade Moore        Bethany Mead   \n",
       "..     ...   ...    ...   ...                 ...                 ...   \n",
       "920   49.3  68.5   54.0  42.0  Stephanie Houghton          Jade Moore   \n",
       "921   60.6  37.5   70.2  25.2          Jade Moore     Francesca Kirby   \n",
       "922   77.0  20.1   90.5  23.9     Francesca Kirby  Karen Julia Carney   \n",
       "923   91.8  19.4  102.1   5.4  Karen Julia Carney      Alex Greenwood   \n",
       "924  102.9   8.6   85.7   6.8      Alex Greenwood  Karen Julia Carney   \n",
       "\n",
       "    player_name player_recipient_name  \n",
       "6         White                 Kirby  \n",
       "7         Kirby                Bronze  \n",
       "8        Bronze                Parris  \n",
       "9        Parris                 Scott  \n",
       "21        Moore                  Mead  \n",
       "..          ...                   ...  \n",
       "920    Houghton                 Moore  \n",
       "921       Moore                 Kirby  \n",
       "922       Kirby                 Julia  \n",
       "923       Julia             Greenwood  \n",
       "924   Greenwood                 Julia  \n",
       "\n",
       "[428 rows x 8 columns]"
      ]
     },
     "execution_count": 25,
     "metadata": {},
     "output_type": "execute_result"
    }
   ],
   "source": [
    "#make df with successfull passes by England until the first substitution\n",
    "# mask_england = (df.type_name == 'Pass') & (df.team_name == \"England Women's\") & (df.index < sub) & (df.outcome_name.isnull()) & (df.sub_type_name != \"Throw-in\")\n",
    "\n",
    "\n",
    "(df\n",
    " .query('type==\"Pass\" and team.str.startswith(\"Eng\") and pass_outcome.isnull() and pass_type != \"Throw-in\"')\n",
    " .loc[lambda df: df.index<sub]\n",
    " .assign(x = lambda df: df.location.apply(pd.Series)[0],\n",
    "         y = lambda df: df.location.apply(pd.Series)[1],\n",
    "         xf = lambda df: df.pass_end_location.apply(pd.Series)[0],\n",
    "         yf = lambda df: df.pass_end_location.apply(pd.Series)[1])\n",
    " .loc[:,['x', 'y', 'xf', 'yf', 'player', 'pass_recipient']]\n",
    " .assign(player_name = lambda df: df.player.str.split().str[1],\n",
    "         player_recipient_name = lambda df: df.pass_recipient.str.split().str[1])\n",
    ")"
   ]
  }
 ],
 "metadata": {
  "kernelspec": {
   "display_name": "Python 3 (ipykernel)",
   "language": "python",
   "name": "python3"
  },
  "language_info": {
   "codemirror_mode": {
    "name": "ipython",
    "version": 3
   },
   "file_extension": ".py",
   "mimetype": "text/x-python",
   "name": "python",
   "nbconvert_exporter": "python",
   "pygments_lexer": "ipython3",
   "version": "3.11.0"
  }
 },
 "nbformat": 4,
 "nbformat_minor": 5
}
