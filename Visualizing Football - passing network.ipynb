{
 "cells": [
  {
   "cell_type": "markdown",
   "id": "4888e7ea",
   "metadata": {},
   "source": [
    "# Passing Networks\n",
    "Visualization and calculation the centralized nature of a game for teams involved.  Normally this is evaluated for one of the teams in a given game.  This helps to show the average shape of the team throughout the game.  Normally stopped at the first substution."
   ]
  },
  {
   "cell_type": "markdown",
   "id": "d7d164da",
   "metadata": {},
   "source": [
    "## Imports\n",
    "This version will deviate from the Soccermatics approach due to the mplsoccer library throwing an error when making a call to Statsbomb.  Instead, the statsbomb data will be called directly for the dataframe from the statsbomb library."
   ]
  },
  {
   "cell_type": "code",
   "execution_count": 2,
   "id": "8a8f928b",
   "metadata": {},
   "outputs": [],
   "source": [
    "import pandas as pd\n",
    "import matplotlib.pyplot as plt\n",
    "import numpy as np\n",
    "from mplsoccer import Pitch, Sbopen, VerticalPitch\n",
    "from statsbombpy import sb"
   ]
  },
  {
   "cell_type": "markdown",
   "id": "6705e53e",
   "metadata": {},
   "source": [
    "## Opening and creating the dataset\n",
    "Using the sb parser in place of SBopen in mplsoccer the event data is pulled out. Calling on the event level data and inputting the id of the game as a parameter loads the game data. The event data is stored in a dataframe df. From this dataframe, the next step will be to filter for passes not including throw ins are left in the frame."
   ]
  },
  {
   "cell_type": "code",
   "execution_count": 5,
   "id": "ec88a103",
   "metadata": {},
   "outputs": [],
   "source": [
    "# get event data\n",
    "df = sb.events(match_id=69301)"
   ]
  },
  {
   "cell_type": "code",
   "execution_count": 6,
   "id": "6cde55d9",
   "metadata": {},
   "outputs": [
    {
     "data": {
      "text/html": [
       "<div>\n",
       "<style scoped>\n",
       "    .dataframe tbody tr th:only-of-type {\n",
       "        vertical-align: middle;\n",
       "    }\n",
       "\n",
       "    .dataframe tbody tr th {\n",
       "        vertical-align: top;\n",
       "    }\n",
       "\n",
       "    .dataframe thead th {\n",
       "        text-align: right;\n",
       "    }\n",
       "</style>\n",
       "<table border=\"1\" class=\"dataframe\">\n",
       "  <thead>\n",
       "    <tr style=\"text-align: right;\">\n",
       "      <th></th>\n",
       "      <th>bad_behaviour_card</th>\n",
       "      <th>ball_receipt_outcome</th>\n",
       "      <th>ball_recovery_recovery_failure</th>\n",
       "      <th>block_deflection</th>\n",
       "      <th>block_save_block</th>\n",
       "      <th>carry_end_location</th>\n",
       "      <th>clearance_aerial_won</th>\n",
       "      <th>clearance_body_part</th>\n",
       "      <th>clearance_head</th>\n",
       "      <th>clearance_left_foot</th>\n",
       "      <th>...</th>\n",
       "      <th>shot_technique</th>\n",
       "      <th>shot_type</th>\n",
       "      <th>substitution_outcome</th>\n",
       "      <th>substitution_replacement</th>\n",
       "      <th>tactics</th>\n",
       "      <th>team</th>\n",
       "      <th>team_id</th>\n",
       "      <th>timestamp</th>\n",
       "      <th>type</th>\n",
       "      <th>under_pressure</th>\n",
       "    </tr>\n",
       "  </thead>\n",
       "  <tbody>\n",
       "    <tr>\n",
       "      <th>0</th>\n",
       "      <td>NaN</td>\n",
       "      <td>NaN</td>\n",
       "      <td>NaN</td>\n",
       "      <td>NaN</td>\n",
       "      <td>NaN</td>\n",
       "      <td>NaN</td>\n",
       "      <td>NaN</td>\n",
       "      <td>NaN</td>\n",
       "      <td>NaN</td>\n",
       "      <td>NaN</td>\n",
       "      <td>...</td>\n",
       "      <td>NaN</td>\n",
       "      <td>NaN</td>\n",
       "      <td>NaN</td>\n",
       "      <td>NaN</td>\n",
       "      <td>{'formation': 4141, 'lineup': [{'player': {'id...</td>\n",
       "      <td>England Women's</td>\n",
       "      <td>865</td>\n",
       "      <td>00:00:00.000</td>\n",
       "      <td>Starting XI</td>\n",
       "      <td>NaN</td>\n",
       "    </tr>\n",
       "    <tr>\n",
       "      <th>1</th>\n",
       "      <td>NaN</td>\n",
       "      <td>NaN</td>\n",
       "      <td>NaN</td>\n",
       "      <td>NaN</td>\n",
       "      <td>NaN</td>\n",
       "      <td>NaN</td>\n",
       "      <td>NaN</td>\n",
       "      <td>NaN</td>\n",
       "      <td>NaN</td>\n",
       "      <td>NaN</td>\n",
       "      <td>...</td>\n",
       "      <td>NaN</td>\n",
       "      <td>NaN</td>\n",
       "      <td>NaN</td>\n",
       "      <td>NaN</td>\n",
       "      <td>{'formation': 4231, 'lineup': [{'player': {'id...</td>\n",
       "      <td>Sweden Women's</td>\n",
       "      <td>858</td>\n",
       "      <td>00:00:00.000</td>\n",
       "      <td>Starting XI</td>\n",
       "      <td>NaN</td>\n",
       "    </tr>\n",
       "  </tbody>\n",
       "</table>\n",
       "<p>2 rows × 90 columns</p>\n",
       "</div>"
      ],
      "text/plain": [
       "  bad_behaviour_card ball_receipt_outcome ball_recovery_recovery_failure   \n",
       "0                NaN                  NaN                            NaN  \\\n",
       "1                NaN                  NaN                            NaN   \n",
       "\n",
       "  block_deflection block_save_block carry_end_location clearance_aerial_won   \n",
       "0              NaN              NaN                NaN                  NaN  \\\n",
       "1              NaN              NaN                NaN                  NaN   \n",
       "\n",
       "  clearance_body_part clearance_head clearance_left_foot  ... shot_technique   \n",
       "0                 NaN            NaN                 NaN  ...            NaN  \\\n",
       "1                 NaN            NaN                 NaN  ...            NaN   \n",
       "\n",
       "  shot_type substitution_outcome substitution_replacement   \n",
       "0       NaN                  NaN                      NaN  \\\n",
       "1       NaN                  NaN                      NaN   \n",
       "\n",
       "                                             tactics             team team_id   \n",
       "0  {'formation': 4141, 'lineup': [{'player': {'id...  England Women's     865  \\\n",
       "1  {'formation': 4231, 'lineup': [{'player': {'id...   Sweden Women's     858   \n",
       "\n",
       "      timestamp         type under_pressure  \n",
       "0  00:00:00.000  Starting XI            NaN  \n",
       "1  00:00:00.000  Starting XI            NaN  \n",
       "\n",
       "[2 rows x 90 columns]"
      ]
     },
     "execution_count": 6,
     "metadata": {},
     "output_type": "execute_result"
    }
   ],
   "source": [
    "df.head(2)"
   ]
  },
  {
   "cell_type": "markdown",
   "id": "fd7d9794",
   "metadata": {},
   "source": [
    "## Preparing the data\n",
    "For passing networks only use accurate/successful passes made by a team until the first substitution. This is the most basic use case, and there are several possible variations using passing networks. They require information about pass start and end location as well as player who made and received the pass. To make the vizualisation clearer annotate the players using their surname. "
   ]
  },
  {
   "cell_type": "code",
   "execution_count": 8,
   "id": "658a2649",
   "metadata": {},
   "outputs": [
    {
     "data": {
      "text/plain": [
       "1764"
      ]
     },
     "execution_count": 8,
     "metadata": {},
     "output_type": "execute_result"
    }
   ],
   "source": [
    "# find index of first sub for England\n",
    "sub = df.loc[df[\"type\"] == \"Substitution\"].loc[df[\"team\"] == \"England Women's\"].iloc[0][\"index\"]\n",
    "sub"
   ]
  },
  {
   "cell_type": "code",
   "execution_count": null,
   "id": "d0e647e7",
   "metadata": {},
   "outputs": [],
   "source": [
    "#make df with successfull passes by England until the first substitution\n",
    "mask_england = (df.type_name == 'Pass') & (df.team_name == \"England Women's\") & (df.index < sub) & (df.outcome_name.isnull()) & (df.sub_type_name != \"Throw-in\")\n",
    "\n",
    "\n",
    "(df\n",
    " .query('Pass==\"Pass\"')\n",
    ")\n",
    "\n",
    "#taking necessary columns\n",
    "df_pass = df.loc[mask_england, ['x', 'y', 'end_x', 'end_y', \"player_name\", \"pass_recipient_name\"]]\n",
    "#adjusting that only the surname of a player is presented.\n",
    "df_pass[\"player_name\"] = df_pass[\"player_name\"].apply(lambda x: str(x).split()[-1])\n",
    "df_pass[\"pass_recipient_name\"] = df_pass[\"pass_recipient_name\"].apply(lambda x: str(x).split()[-1])"
   ]
  }
 ],
 "metadata": {
  "kernelspec": {
   "display_name": "Python 3 (ipykernel)",
   "language": "python",
   "name": "python3"
  },
  "language_info": {
   "codemirror_mode": {
    "name": "ipython",
    "version": 3
   },
   "file_extension": ".py",
   "mimetype": "text/x-python",
   "name": "python",
   "nbconvert_exporter": "python",
   "pygments_lexer": "ipython3",
   "version": "3.11.0"
  }
 },
 "nbformat": 4,
 "nbformat_minor": 5
}
