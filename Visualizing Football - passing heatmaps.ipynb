{
 "cells": [
  {
   "cell_type": "markdown",
   "id": "4888e7ea",
   "metadata": {},
   "source": [
    "# Passing Heat Maps\n",
    "Visualization and calculation of the area of dangerous passes within a set of games. This helps to show where teams began passing sequences that ultimately led to goals or shots within games.  It creates an interesting way of demonstrating where teams are able to start their attacking sequences.  In order to add context, set a window for danger passes to be those within 15 seconds of a shot."
   ]
  },
  {
   "cell_type": "markdown",
   "id": "d7d164da",
   "metadata": {},
   "source": [
    "## Imports\n",
    "This version will deviate from the Soccermatics approach due to the mplsoccer library throwing an error when making a call to Statsbomb.  Instead, the statsbomb data will be called directly for the dataframe from the statsbomb library."
   ]
  },
  {
   "cell_type": "code",
   "execution_count": 2,
   "id": "8a8f928b",
   "metadata": {},
   "outputs": [],
   "source": [
    "import pandas as pd\n",
    "import matplotlib.pyplot as plt\n",
    "import numpy as np\n",
    "from mplsoccer import Pitch, Sbopen, VerticalPitch\n",
    "from statsbombpy import sb\n",
    "import seaborn as sns"
   ]
  },
  {
   "cell_type": "markdown",
   "id": "6705e53e",
   "metadata": {},
   "source": [
    "## Opening and creating the dataset\n",
    "Using the sb parser in place of SBopen in mplsoccer the event data is pulled out. This effort will leverage muliple games to provide a compelling view of the teams performance.  After extracting the game numbers (mathc_id), each will be queried for the event level data. The event data is stored in a dataframe df to be evaluated in aggregate. "
   ]
  },
  {
   "cell_type": "code",
   "execution_count": 9,
   "id": "ec88a103",
   "metadata": {},
   "outputs": [
    {
     "name": "stdout",
     "output_type": "stream",
     "text": [
      "7 [69301, 22936, 68337, 22962, 68362, 69199, 69258]\n"
     ]
    }
   ],
   "source": [
    "# get matches from competition\n",
    "match_ids = (sb.matches(competition_id=72, season_id=30)\n",
    "            .query('home_team.str.startswith(\"Eng\") or away_team.str.startswith(\"Eng\")')\n",
    "            .match_id\n",
    "            .tolist()\n",
    "           )\n",
    "\n",
    "no_games = len(match_ids)\n",
    "print(len(match_ids), match_ids)"
   ]
  },
  {
   "cell_type": "markdown",
   "id": "b6e359bd",
   "metadata": {},
   "source": [
    "## Finding danger passes\n",
    "For each game open the event data. Note that the use of [0] to store only event data. \n",
    "- Take out shots by England and accurate passes by England that were not set pieces. \n",
    "- Look for the passes 15 seconds before a shot. This requires iteration for/thru different periods. \n",
    "\n",
    "If a shot was made in 46th minute and there were 3 additional minutes in the first half include those passes. After extracting the danger passes for each game, concatenate them using a pandas dataframe. This will allow storage of danger passes across all games."
   ]
  },
  {
   "cell_type": "code",
   "execution_count": null,
   "id": "27ad78ec",
   "metadata": {},
   "outputs": [],
   "source": [
    "#declare an empty dataframe\n",
    "danger_passes = pd.DataFrame()\n",
    "for idx in match_ids:\n",
    "    #open the event data from this game\n",
    "    df = sb.events(idx)[0]\n",
    "    for period in [1, 2]:\n",
    "        #keep only accurate passes by England that were not set pieces in this period\n",
    "        mask_pass = (df.team_name == team) & (df.type_name == \"Pass\") & (df.outcome_name.isnull()) & (df.period == period) & (df.sub_type_name.isnull())\n",
    "        #keep only necessary columns\n",
    "        passes = df.loc[mask_pass, [\"x\", \"y\", \"end_x\", \"end_y\", \"minute\", \"second\", \"player_name\"]]\n",
    "        #keep only Shots by England in this period\n",
    "        mask_shot = (df.team_name == team) & (df.type_name == \"Shot\") & (df.period == period)\n",
    "        #keep only necessary columns\n",
    "        shots = df.loc[mask_shot, [\"minute\", \"second\"]]\n",
    "        #convert time to seconds\n",
    "        shot_times = shots['minute']*60+shots['second']\n",
    "        shot_window = 15\n",
    "        #find starts of the window\n",
    "        shot_start = shot_times - shot_window\n",
    "        #condition to avoid negative shot starts\n",
    "        shot_start = shot_start.apply(lambda i: i if i>0 else (period-1)*45)\n",
    "        #convert to seconds\n",
    "        pass_times = passes['minute']*60+passes['second']\n",
    "        #check if pass is in any of the windows for this half\n",
    "        pass_to_shot = pass_times.apply(lambda x: True in ((shot_start < x) & (x < shot_times)).unique())\n",
    "\n",
    "        #keep only danger passes\n",
    "        danger_passes_period = passes.loc[pass_to_shot]\n",
    "        #concatenate dataframe with a previous one to keep danger passes from the whole tournament\n",
    "        danger_passes = pd.concat([danger_passes, danger_passes_period], ignore_index = True)"
   ]
  }
 ],
 "metadata": {
  "kernelspec": {
   "display_name": "Python 3 (ipykernel)",
   "language": "python",
   "name": "python3"
  },
  "language_info": {
   "codemirror_mode": {
    "name": "ipython",
    "version": 3
   },
   "file_extension": ".py",
   "mimetype": "text/x-python",
   "name": "python",
   "nbconvert_exporter": "python",
   "pygments_lexer": "ipython3",
   "version": "3.11.0"
  }
 },
 "nbformat": 4,
 "nbformat_minor": 5
}
