{
 "cells": [
  {
   "cell_type": "markdown",
   "id": "4888e7ea",
   "metadata": {},
   "source": [
    "# Passing Heat Maps\n",
    "Visualization and calculation of the area of dangerous passes within a set of games. This helps to show where teams began passing sequences that ultimately led to goals or shots within games.  It creates an interesting way of demonstrating where teams are able to start their attacking sequences.  In order to add context, set a window for danger passes to be those within 15 seconds of a shot."
   ]
  },
  {
   "cell_type": "markdown",
   "id": "d7d164da",
   "metadata": {},
   "source": [
    "## Imports\n",
    "This version will deviate from the Soccermatics approach due to the mplsoccer library throwing an error when making a call to Statsbomb.  Instead, the statsbomb data will be called directly for the dataframe from the statsbomb library."
   ]
  },
  {
   "cell_type": "code",
   "execution_count": 1,
   "id": "8a8f928b",
   "metadata": {},
   "outputs": [],
   "source": [
    "import pandas as pd\n",
    "import matplotlib.pyplot as plt\n",
    "import numpy as np\n",
    "from mplsoccer import Pitch, Sbopen, VerticalPitch\n",
    "from statsbombpy import sb\n",
    "import seaborn as sns"
   ]
  },
  {
   "cell_type": "markdown",
   "id": "6705e53e",
   "metadata": {},
   "source": [
    "## Opening and creating the dataset\n",
    "Using the sb parser in place of SBopen in mplsoccer the event data is pulled out. This effort will leverage muliple games to provide a compelling view of the teams performance.  After extracting the game numbers (mathc_id), each will be queried for the event level data. The event data is stored in a dataframe df to be evaluated in aggregate. "
   ]
  },
  {
   "cell_type": "code",
   "execution_count": 2,
   "id": "ec88a103",
   "metadata": {},
   "outputs": [
    {
     "name": "stdout",
     "output_type": "stream",
     "text": [
      "7 [69301, 22936, 68337, 22962, 68362, 69199, 69258]\n"
     ]
    }
   ],
   "source": [
    "# get matches from competition\n",
    "match_ids = (sb.matches(competition_id=72, season_id=30)\n",
    "            .query('home_team.str.startswith(\"Eng\") or away_team.str.startswith(\"Eng\")')\n",
    "            .match_id\n",
    "            .tolist()\n",
    "           )\n",
    "\n",
    "no_games = len(match_ids)\n",
    "print(len(match_ids), match_ids)"
   ]
  },
  {
   "cell_type": "code",
   "execution_count": 11,
   "id": "5939c7a6",
   "metadata": {},
   "outputs": [
    {
     "data": {
      "text/plain": [
       "Index(['bad_behaviour_card', 'ball_receipt_outcome',\n",
       "       'ball_recovery_recovery_failure', 'block_deflection',\n",
       "       'block_save_block', 'carry_end_location', 'clearance_aerial_won',\n",
       "       'clearance_body_part', 'clearance_head', 'clearance_left_foot',\n",
       "       'clearance_other', 'clearance_right_foot', 'counterpress',\n",
       "       'dribble_outcome', 'dribble_overrun', 'duel_outcome', 'duel_type',\n",
       "       'duration', 'foul_committed_advantage', 'foul_committed_card',\n",
       "       'foul_committed_offensive', 'foul_committed_type', 'foul_won_advantage',\n",
       "       'foul_won_defensive', 'goalkeeper_body_part', 'goalkeeper_end_location',\n",
       "       'goalkeeper_outcome', 'goalkeeper_position',\n",
       "       'goalkeeper_shot_saved_to_post', 'goalkeeper_technique',\n",
       "       'goalkeeper_type', 'id', 'index', 'interception_outcome', 'location',\n",
       "       'match_id', 'minute', 'miscontrol_aerial_won', 'off_camera', 'out',\n",
       "       'pass_aerial_won', 'pass_angle', 'pass_assisted_shot_id',\n",
       "       'pass_body_part', 'pass_cross', 'pass_cut_back', 'pass_deflected',\n",
       "       'pass_end_location', 'pass_goal_assist', 'pass_height',\n",
       "       'pass_inswinging', 'pass_length', 'pass_no_touch', 'pass_outcome',\n",
       "       'pass_recipient', 'pass_shot_assist', 'pass_straight', 'pass_switch',\n",
       "       'pass_technique', 'pass_through_ball', 'pass_type', 'period',\n",
       "       'play_pattern', 'player', 'player_id', 'position', 'possession',\n",
       "       'possession_team', 'possession_team_id', 'related_events', 'second',\n",
       "       'shot_body_part', 'shot_end_location', 'shot_first_time',\n",
       "       'shot_freeze_frame', 'shot_key_pass_id', 'shot_one_on_one',\n",
       "       'shot_outcome', 'shot_saved_to_post', 'shot_statsbomb_xg',\n",
       "       'shot_technique', 'shot_type', 'substitution_outcome',\n",
       "       'substitution_replacement', 'tactics', 'team', 'team_id', 'timestamp',\n",
       "       'type', 'under_pressure'],\n",
       "      dtype='object')"
      ]
     },
     "execution_count": 11,
     "metadata": {},
     "output_type": "execute_result"
    }
   ],
   "source": [
    "sb.events(69301).columns"
   ]
  },
  {
   "cell_type": "markdown",
   "id": "b6e359bd",
   "metadata": {},
   "source": [
    "## Finding danger passes\n",
    "For each game open the event data. Note that the use of [0] to store only event data. \n",
    "- Take out shots by England and accurate passes by England that were not set pieces. \n",
    "- Look for the passes 15 seconds before a shot. This requires iteration for/thru different periods. \n",
    "\n",
    "If a shot was made in 46th minute and there were 3 additional minutes in the first half include those passes. After extracting the danger passes for each game, concatenate them using a pandas dataframe. This will allow storage of danger passes across all games."
   ]
  },
  {
   "cell_type": "code",
   "execution_count": 14,
   "id": "b80b1138",
   "metadata": {},
   "outputs": [],
   "source": [
    "team = \"England Women's\"\n",
    "\n",
    "#declare an empty dataframe\n",
    "danger_passes = pd.DataFrame()\n",
    "for idx in match_ids:\n",
    "    #open the event data from this game\n",
    "    df = sb.events(idx)\n",
    "    for period in [1, 2]:\n",
    "        #keep only accurate passes by England that were not set pieces in this period\n",
    "        mask_pass = ((df.team == team) & (df.type == \"Pass\") & \n",
    "                     (df.pass_outcome.isnull()) & (df.period == period) & \n",
    "                     (df.pass_type.isnull()))\n",
    "        #keep only necessary columns\n",
    "        passes = (df.loc[mask_pass]\n",
    "                  .assign(x = lambda df: df.location.apply(pd.Series)[0],\n",
    "                          y = lambda df: df.location.apply(pd.Series)[1],\n",
    "                         xf = lambda df: df.pass_end_location.apply(pd.Series)[0],\n",
    "                         yf = lambda df: df.pass_end_location.apply(pd.Series)[1])\n",
    "                  [[\"x\",\"y\", \"xf\", \"yf\", \"minute\", \"second\", \"player\"]])\n",
    "\n",
    "        #keep only Shots by England in this period\n",
    "        mask_shot = (df.team == team) & (df.type == \"Shot\") & (df.period == period)\n",
    "        #keep only necessary columns\n",
    "        shots = df.loc[mask_shot, [\"minute\", \"second\"]]\n",
    "        #convert time to seconds\n",
    "        shot_times = shots['minute']*60+shots['second']\n",
    "        shot_window = 15\n",
    "        #find starts of the window\n",
    "        shot_start = shot_times - shot_window\n",
    "        #condition to avoid negative shot starts\n",
    "        shot_start = shot_start.apply(lambda i: i if i>0 else (period-1)*45)\n",
    "        #convert to seconds\n",
    "        pass_times = passes['minute']*60+passes['second']\n",
    "        #check if pass is in any of the windows for this half\n",
    "        pass_to_shot = pass_times.apply(lambda x: True in ((shot_start < x) & (x < shot_times)).unique())\n",
    "\n",
    "        #keep only danger passes\n",
    "        danger_passes_period = passes.loc[pass_to_shot]\n",
    "        #concatenate dataframe with a previous one to keep danger passes from the whole tournament\n",
    "        danger_passes = pd.concat([danger_passes, danger_passes_period], ignore_index = True)"
   ]
  },
  {
   "cell_type": "code",
   "execution_count": 18,
   "id": "11950c4b",
   "metadata": {},
   "outputs": [
    {
     "name": "stdout",
     "output_type": "stream",
     "text": [
      "<class 'pandas.core.frame.DataFrame'>\n",
      "RangeIndex: 176 entries, 0 to 175\n",
      "Data columns (total 7 columns):\n",
      " #   Column  Non-Null Count  Dtype  \n",
      "---  ------  --------------  -----  \n",
      " 0   x       176 non-null    float64\n",
      " 1   y       176 non-null    float64\n",
      " 2   xf      176 non-null    float64\n",
      " 3   yf      176 non-null    float64\n",
      " 4   minute  176 non-null    int64  \n",
      " 5   second  176 non-null    int64  \n",
      " 6   player  176 non-null    object \n",
      "dtypes: float64(4), int64(2), object(1)\n",
      "memory usage: 9.8+ KB\n"
     ]
    }
   ],
   "source": [
    "danger_passes.info()"
   ]
  },
  {
   "cell_type": "code",
   "execution_count": null,
   "id": "8129a85e",
   "metadata": {},
   "outputs": [],
   "source": []
  }
 ],
 "metadata": {
  "kernelspec": {
   "display_name": "Python 3 (ipykernel)",
   "language": "python",
   "name": "python3"
  },
  "language_info": {
   "codemirror_mode": {
    "name": "ipython",
    "version": 3
   },
   "file_extension": ".py",
   "mimetype": "text/x-python",
   "name": "python",
   "nbconvert_exporter": "python",
   "pygments_lexer": "ipython3",
   "version": "3.11.0"
  }
 },
 "nbformat": 4,
 "nbformat_minor": 5
}
